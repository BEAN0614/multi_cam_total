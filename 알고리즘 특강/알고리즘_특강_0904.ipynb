{
  "nbformat": 4,
  "nbformat_minor": 0,
  "metadata": {
    "colab": {
      "provenance": []
    },
    "kernelspec": {
      "name": "python3",
      "display_name": "Python 3"
    },
    "language_info": {
      "name": "python"
    }
  },
  "cells": [
    {
      "cell_type": "markdown",
      "source": [
        "# 선형 리스트"
      ],
      "metadata": {
        "id": "tdQcKfLT6O2T"
      }
    },
    {
      "cell_type": "code",
      "execution_count": 1,
      "metadata": {
        "colab": {
          "base_uri": "https://localhost:8080/"
        },
        "id": "U4epoca6q_EK",
        "outputId": "1eba2d87-6f05-4a07-85c2-26f1810e659a"
      },
      "outputs": [
        {
          "output_type": "stream",
          "name": "stdout",
          "text": [
            "['다현', '정연', '쯔위', '사나', '지효']\n",
            "['다현', '정연', '쯔위', '사나', '지효', '모모']\n",
            "['다현', '정연', '쯔위', '미나', '사나', '지효', '모모']\n"
          ]
        }
      ],
      "source": [
        "## 함수 선언부\n",
        "\n",
        "\n",
        "## 전역 변수부\n",
        "katok = ['다현', '정연', '쯔위', '사나', '지효']\n",
        "\n",
        "## 메인 코드부\n",
        "print(katok)\n",
        "\n",
        "## 데이터 추가 (모모에게 카톡 1회)\n",
        "# 1단계 : 빈칸 추가\n",
        "katok.append(None)\n",
        "# 2단계 : 마지막 칸에 데이터 넣기\n",
        "katok[5] = '모모'\n",
        "print(katok)\n",
        "\n",
        "## 데이터 삽입 (미나에게 카톡 40회 연속) --> 미나가 3등\n",
        "# 1단계 : 빈칸 추가\n",
        "katok.append(None)\n",
        "# 2단계 : 한칸씩 옆으로.... (반복)\n",
        "katok[6] = katok[5]\n",
        "katok[5] = None\n",
        "katok[5] = katok[4]\n",
        "katok[4] = None\n",
        "katok[4] = katok[3]\n",
        "katok[3] = None\n",
        "# 3단계 : 데이터 입력\n",
        "katok[3] = '미나'\n",
        "print(katok)"
      ]
    },
    {
      "cell_type": "code",
      "source": [
        "## 함수 선언부\n",
        "\n",
        "\n",
        "## 전역 변수부\n",
        "katok = ['다현', '정연', '쯔위', '사나', '지효']\n",
        "\n",
        "## 메인 코드부\n",
        "print(katok)\n",
        "\n",
        "## 데이터 추가 (모모에게 카톡 1회)\n",
        "# 1단계 : 빈칸 추가\n",
        "katok.append(None)\n",
        "# 2단계 : 마지막 칸에 데이터 넣기\n",
        "katok[5] = '모모'\n",
        "print(katok)\n",
        "\n",
        "## 데이터 삽입 (미나에게 카톡 40회 연속) --> 미나가 3등\n",
        "# 1단계 : 빈칸 추가\n",
        "katok.append(None)\n",
        "# 2단계 : 한칸씩 옆으로.... (반복)\n",
        "katok[6] = katok[5]\n",
        "katok[5] = None\n",
        "katok[5] = katok[4]\n",
        "katok[4] = None\n",
        "katok[4] = katok[3]\n",
        "katok[3] = None\n",
        "# 3단계 : 데이터 입력\n",
        "katok[3] = '미나'\n",
        "print(katok)\n",
        "\n",
        "## 데이터 삭제 (사나가 카톡 차단) --> 4등 삭제\n",
        "# 1단계 : 지우기\n",
        "katok[4] = None\n",
        "# 2단계 : 1칸씩 앞으로 이동.. 마지막 친구까지\n",
        "katok[4] = katok[5]\n",
        "katok[5] = None\n",
        "katok[5] = katok[6]\n",
        "katok[6] = None\n",
        "# 3단계 : 빈칸 제거\n",
        "del(katok[6])\n",
        "print(katok)"
      ],
      "metadata": {
        "colab": {
          "base_uri": "https://localhost:8080/"
        },
        "id": "RxtasU3orIyv",
        "outputId": "368e47d2-a7c5-4ae1-979f-b8ae25c5a1f7"
      },
      "execution_count": 2,
      "outputs": [
        {
          "output_type": "stream",
          "name": "stdout",
          "text": [
            "['다현', '정연', '쯔위', '사나', '지효']\n",
            "['다현', '정연', '쯔위', '사나', '지효', '모모']\n",
            "['다현', '정연', '쯔위', '미나', '사나', '지효', '모모']\n",
            "['다현', '정연', '쯔위', '미나', '지효', '모모']\n"
          ]
        }
      ]
    },
    {
      "cell_type": "code",
      "source": [
        "## 함수\n",
        "def add_data(friend) : # 데이터 추가\n",
        "    # 1단계 : 빈칸 추가\n",
        "    katok.append(None)\n",
        "    kLen = len(katok)\n",
        "    # 2단계: 데이터 입력\n",
        "    katok[kLen-1] = friend\n",
        "\n",
        "## 전역\n",
        "katok = []\n",
        "\n",
        "## 메인\n",
        "add_data('다현')\n",
        "add_data('정연')\n",
        "add_data('쯔위')\n",
        "add_data('사나')\n",
        "add_data('지효')\n",
        "print(katok)\n",
        "add_data('모모')\n",
        "print(katok)"
      ],
      "metadata": {
        "colab": {
          "base_uri": "https://localhost:8080/"
        },
        "id": "iyxhEsfdrNrQ",
        "outputId": "79c332aa-6476-469d-9062-27935371f1eb"
      },
      "execution_count": 3,
      "outputs": [
        {
          "output_type": "stream",
          "name": "stdout",
          "text": [
            "['다현', '정연', '쯔위', '사나', '지효']\n",
            "['다현', '정연', '쯔위', '사나', '지효', '모모']\n"
          ]
        }
      ]
    },
    {
      "cell_type": "code",
      "source": [
        "## 함수\n",
        "def add_data(friend) : # 데이터 추가\n",
        "    # 1단계 : 빈칸 추가\n",
        "    katok.append(None)\n",
        "    kLen = len(katok)\n",
        "    # 2단계: 데이터 입력\n",
        "    katok[kLen-1] = friend\n",
        "\n",
        "def insert_data(position, friend) : # 데이터 삽입\n",
        "    # 1단계 : 빈칸 추가\n",
        "    katok.append(None)\n",
        "    kLen = len(katok)\n",
        "    # 2단계 : 한칸씩 옆으로.... (반복)\n",
        "    for i in range(kLen-1, position, -1) : #핵심! 어려움\n",
        "        katok[i] = katok[i-1]\n",
        "        katok[i-1] = None\n",
        "    # 3단계 : 데이터 입력\n",
        "    katok[position] = friend\n",
        "\n",
        "\n",
        "## 전역\n",
        "katok = []\n",
        "\n",
        "## 메인\n",
        "add_data('다현')\n",
        "add_data('정연')\n",
        "add_data('쯔위')\n",
        "add_data('사나')\n",
        "add_data('지효')\n",
        "print(katok)\n",
        "add_data('모모')\n",
        "print(katok)\n",
        "\n",
        "insert_data(3, '미나')\n",
        "print(katok)"
      ],
      "metadata": {
        "colab": {
          "base_uri": "https://localhost:8080/"
        },
        "id": "x69d5aFQrRHr",
        "outputId": "5eb16573-f451-4fac-b080-876585d1dc9c"
      },
      "execution_count": 4,
      "outputs": [
        {
          "output_type": "stream",
          "name": "stdout",
          "text": [
            "['다현', '정연', '쯔위', '사나', '지효']\n",
            "['다현', '정연', '쯔위', '사나', '지효', '모모']\n",
            "['다현', '정연', '쯔위', '미나', '사나', '지효', '모모']\n"
          ]
        }
      ]
    },
    {
      "cell_type": "code",
      "source": [
        "## 함수\n",
        "def add_data(friend) : # 데이터 추가\n",
        "    # 1단계 : 빈칸 추가\n",
        "    katok.append(None)\n",
        "    kLen = len(katok)\n",
        "    # 2단계: 데이터 입력\n",
        "    katok[kLen-1] = friend\n",
        "\n",
        "def insert_data(position, friend) : # 데이터 삽입\n",
        "    # 1단계 : 빈칸 추가\n",
        "    katok.append(None)\n",
        "    kLen = len(katok)\n",
        "    # 2단계 : 한칸씩 옆으로.... (반복)\n",
        "    for i in range(kLen-1, position, -1) : #핵심! 어려움\n",
        "        katok[i] = katok[i-1]\n",
        "        katok[i-1] = None\n",
        "    # 3단계 : 데이터 입력\n",
        "    katok[position] = friend\n",
        "\n",
        "def delete_data(position) : # 데이터 삭제\n",
        "    # 1단계 : 지우기\n",
        "    katok[position] = None\n",
        "    kLen =len(katok)\n",
        "    # 2단계 : 한칸씩 당기기..... (반복)\n",
        "    for i in range(position+1, kLen, 1) : # 핵심!\n",
        "        katok[i-1] = katok[i]\n",
        "        katok[i] = None\n",
        "    # 3단계 : 마지막 칸을 제거\n",
        "    del(katok[kLen-1])\n",
        "\n",
        "## 전역\n",
        "katok = []\n",
        "\n",
        "## 메인\n",
        "add_data('다현')\n",
        "add_data('정연')\n",
        "add_data('쯔위')\n",
        "add_data('사나')\n",
        "add_data('지효')\n",
        "print(katok)\n",
        "add_data('모모')\n",
        "print(katok)\n",
        "\n",
        "insert_data(3, '미나')\n",
        "print(katok)\n",
        "\n",
        "delete_data(4)\n",
        "print(katok)"
      ],
      "metadata": {
        "colab": {
          "base_uri": "https://localhost:8080/"
        },
        "id": "BoLwzeaKrUOX",
        "outputId": "7539bfa5-cf1f-4e41-dbfa-b6b19d207e24"
      },
      "execution_count": 5,
      "outputs": [
        {
          "output_type": "stream",
          "name": "stdout",
          "text": [
            "['다현', '정연', '쯔위', '사나', '지효']\n",
            "['다현', '정연', '쯔위', '사나', '지효', '모모']\n",
            "['다현', '정연', '쯔위', '미나', '사나', '지효', '모모']\n",
            "['다현', '정연', '쯔위', '미나', '지효', '모모']\n"
          ]
        }
      ]
    },
    {
      "cell_type": "markdown",
      "source": [
        "# 연결리스트"
      ],
      "metadata": {
        "id": "8iqs1Ex66IbH"
      }
    },
    {
      "cell_type": "code",
      "source": [
        "## 함수\n",
        "class Node() :\n",
        "    def __init__(self):\n",
        "        self.data = None\n",
        "        self.link = None\n",
        "\n",
        "## 전역\n",
        "\n",
        "## 메인\n",
        "node1 = Node()\n",
        "node1.data = '다현'\n",
        "\n",
        "node2 = Node()\n",
        "node2.data = '정연'\n",
        "node1.link = node2\n",
        "\n",
        "node3 = Node()\n",
        "node3.data = '쯔위'\n",
        "node2.link = node3\n",
        "\n",
        "node4 = Node()\n",
        "node4.data = '사나'\n",
        "node3.link = node4\n",
        "\n",
        "node5 = Node()\n",
        "node5.data = '지효'\n",
        "node4.link = node5\n",
        "\n",
        "print(node1.data, end=' ')\n",
        "print(node2.data, end=' ')\n",
        "print(node3.data, end=' ')\n",
        "print(node4.data, end=' ')\n",
        "print(node5.data, end=' ')"
      ],
      "metadata": {
        "colab": {
          "base_uri": "https://localhost:8080/"
        },
        "id": "s-SSryCUrZdQ",
        "outputId": "63ab7c3e-6595-4fd9-9a96-b74ae9459dbc"
      },
      "execution_count": 6,
      "outputs": [
        {
          "output_type": "stream",
          "name": "stdout",
          "text": [
            "다현 정연 쯔위 사나 지효 "
          ]
        }
      ]
    },
    {
      "cell_type": "code",
      "source": [
        "## 함수\n",
        "class Node() :\n",
        "    def __init__(self):\n",
        "        self.data = None\n",
        "        self.link = None\n",
        "\n",
        "## 전역\n",
        "\n",
        "## 메인\n",
        "node1 = Node()\n",
        "node1.data = '다현'\n",
        "\n",
        "node2 = Node()\n",
        "node2.data = '정연'\n",
        "node1.link = node2\n",
        "\n",
        "node3 = Node()\n",
        "node3.data = '쯔위'\n",
        "node2.link = node3\n",
        "\n",
        "node4 = Node()\n",
        "node4.data = '사나'\n",
        "node3.link = node4\n",
        "\n",
        "node5 = Node()\n",
        "node5.data = '지효'\n",
        "node4.link = node5\n",
        "\n",
        "newNode = Node()\n",
        "newNode.data = '재남'\n",
        "newNode.link = node2.link\n",
        "node2.link = newNode\n",
        "\n",
        "# node2.link = node3.link\n",
        "# del(node3)\n",
        "\n",
        "current = node1\n",
        "print(current.data, end=' ')\n",
        "while (current.link != None) :\n",
        "    current = current.link\n",
        "    print(current.data, end=' ')\n",
        "print()\n",
        "\n",
        "\n",
        "# print(node1.data, end=' ')\n",
        "# print(node1.link.data, end=' ')\n",
        "# print(node1.link.link.data, end=' ')\n",
        "# print(node1.link.link.link.data, end=' ')\n",
        "# print(node1.link.link.link.link.data, end=' ')\n",
        "# print(node1.link.link.link.link.link.data, end=' ')"
      ],
      "metadata": {
        "colab": {
          "base_uri": "https://localhost:8080/"
        },
        "id": "UbpClSiYrc8M",
        "outputId": "f6588423-7d6f-4352-b83d-368feb0976a7"
      },
      "execution_count": 7,
      "outputs": [
        {
          "output_type": "stream",
          "name": "stdout",
          "text": [
            "다현 정연 재남 쯔위 사나 지효 \n"
          ]
        }
      ]
    },
    {
      "cell_type": "code",
      "source": [
        "## 함수\n",
        "class Node() :\n",
        "    def __init__(self):\n",
        "        self.data = None\n",
        "        self.link = None\n",
        "\n",
        "def printNodes(start) :\n",
        "    current = start\n",
        "    print(current.data, end=' ')\n",
        "    while (current.link != None):\n",
        "        current = current.link\n",
        "        print(current.data, end=' ')\n",
        "    print()\n",
        "\n",
        "## 변수\n",
        "memory = []\n",
        "head, current, pre = None, None, None\n",
        "dataArray = ['다현', '정연', '쯔위', '사나', '지효'] # 여러분 데이터... 개수 관계없음\n",
        "## 메인\n",
        "\n",
        "node = Node()\n",
        "node.data = dataArray[0]\n",
        "head = node\n",
        "memory.append(node) # 안 중요함.\n",
        "\n",
        "for data in dataArray[1:] : # ['정연', '쯔위', ....\n",
        "    pre = node\n",
        "    node = Node()\n",
        "    node.data = data\n",
        "    pre.link = node\n",
        "    memory.append(node)  # 안 중요함.\n",
        "\n",
        "printNodes(head)"
      ],
      "metadata": {
        "colab": {
          "base_uri": "https://localhost:8080/"
        },
        "id": "X2c601KfrgGr",
        "outputId": "07571503-d96c-4dac-cf13-5b08179af2d4"
      },
      "execution_count": 8,
      "outputs": [
        {
          "output_type": "stream",
          "name": "stdout",
          "text": [
            "다현 정연 쯔위 사나 지효 \n"
          ]
        }
      ]
    },
    {
      "cell_type": "code",
      "source": [
        "## 함수\n",
        "class Node() :\n",
        "    def __init__(self):\n",
        "        self.data = None\n",
        "        self.link = None\n",
        "\n",
        "def printNodes(start) :\n",
        "    current = start\n",
        "    print(current.data, end=' ')\n",
        "    while (current.link != None):\n",
        "        current = current.link\n",
        "        print(current.data, end=' ')\n",
        "    print()\n",
        "\n",
        "def insertNode(findData, insertData) :\n",
        "    global memory, head, current, pre\n",
        "    # Case 1 : 헤드 앞에 삽입 (다현, 화사)\n",
        "    if (findData == head.data) :\n",
        "        node = Node()\n",
        "        node.data = '화사'\n",
        "        node.link = head\n",
        "        head = node\n",
        "        memory.append(node) # 안 중요함.\n",
        "\n",
        "\n",
        "## 변수\n",
        "memory = []\n",
        "head, current, pre = None, None, None\n",
        "dataArray = ['다현', '정연', '쯔위', '사나', '지효'] # 여러분 데이터... 개수 관계없음\n",
        "## 메인\n",
        "\n",
        "node = Node()\n",
        "node.data = dataArray[0]\n",
        "head = node\n",
        "memory.append(node) # 안 중요함.\n",
        "\n",
        "for data in dataArray[1:] : # ['정연', '쯔위', ....\n",
        "    pre = node\n",
        "    node = Node()\n",
        "    node.data = data\n",
        "    pre.link = node\n",
        "    memory.append(node)  # 안 중요함.\n",
        "\n",
        "printNodes(head)\n",
        "\n",
        "insertNode('다현', '화사')\n",
        "printNodes(head)"
      ],
      "metadata": {
        "colab": {
          "base_uri": "https://localhost:8080/"
        },
        "id": "6-d_qft8rjDG",
        "outputId": "0267e35b-b307-40f9-c121-63b274be3deb"
      },
      "execution_count": 9,
      "outputs": [
        {
          "output_type": "stream",
          "name": "stdout",
          "text": [
            "다현 정연 쯔위 사나 지효 \n",
            "화사 다현 정연 쯔위 사나 지효 \n"
          ]
        }
      ]
    },
    {
      "cell_type": "code",
      "source": [
        "## 함수\n",
        "class Node() :\n",
        "    def __init__(self):\n",
        "        self.data = None\n",
        "        self.link = None\n",
        "\n",
        "def printNodes(start) :\n",
        "    current = start\n",
        "    print(current.data, end=' ')\n",
        "    while (current.link != None):\n",
        "        current = current.link\n",
        "        print(current.data, end=' ')\n",
        "    print()\n",
        "\n",
        "def insertNode(findData, insertData) :\n",
        "    global memory, head, current, pre\n",
        "    # Case 1 : 헤드 앞에 삽입 (다현, 화사)\n",
        "    if (findData == head.data) :\n",
        "        node = Node()\n",
        "        node.data = '화사'\n",
        "        node.link = head\n",
        "        head = node\n",
        "        memory.append(node) # 안 중요함.\n",
        "        return\n",
        "    # Case 2 : 중간 노드 앞에 삽입(사나, 솔라)\n",
        "    current = head\n",
        "    while (current.link != None) :\n",
        "        pre = current\n",
        "        current = current.link\n",
        "        if (current.data == findData) :\n",
        "            node = Node()\n",
        "            node.data = insertData\n",
        "            node.link = current\n",
        "            pre.link = node\n",
        "            memory.append(node)  # 안 중요함.\n",
        "            return\n",
        "\n",
        "\n",
        "\n",
        "## 변수\n",
        "memory = []\n",
        "head, current, pre = None, None, None\n",
        "dataArray = ['다현', '정연', '쯔위', '사나', '지효'] # 여러분 데이터... 개수 관계없음\n",
        "## 메인\n",
        "\n",
        "node = Node()\n",
        "node.data = dataArray[0]\n",
        "head = node\n",
        "memory.append(node) # 안 중요함.\n",
        "\n",
        "for data in dataArray[1:] : # ['정연', '쯔위', ....\n",
        "    pre = node\n",
        "    node = Node()\n",
        "    node.data = data\n",
        "    pre.link = node\n",
        "    memory.append(node)  # 안 중요함.\n",
        "\n",
        "printNodes(head)\n",
        "\n",
        "# insertNode('다현', '화사')\n",
        "# printNodes(head)\n",
        "\n",
        "insertNode('사나', '솔라')\n",
        "printNodes(head)"
      ],
      "metadata": {
        "colab": {
          "base_uri": "https://localhost:8080/"
        },
        "id": "NOfQ1qMQsrkv",
        "outputId": "8a33c116-bcfe-43c0-a902-958dd4d825cc"
      },
      "execution_count": 11,
      "outputs": [
        {
          "output_type": "stream",
          "name": "stdout",
          "text": [
            "다현 정연 쯔위 사나 지효 \n",
            "다현 정연 쯔위 솔라 사나 지효 \n"
          ]
        }
      ]
    },
    {
      "cell_type": "code",
      "source": [
        "## 함수\n",
        "class Node() :\n",
        "    def __init__(self):\n",
        "        self.data = None\n",
        "        self.link = None\n",
        "\n",
        "def printNodes(start) :\n",
        "    current = start\n",
        "    print(current.data, end=' ')\n",
        "    while (current.link != None):\n",
        "        current = current.link\n",
        "        print(current.data, end=' ')\n",
        "    print()\n",
        "\n",
        "def insertNode(findData, insertData) :\n",
        "    global memory, head, current, pre\n",
        "    # Case 1 : 헤드 앞에 삽입 (다현, 화사)\n",
        "    if (findData == head.data) :\n",
        "        node = Node()\n",
        "        node.data = insertData\n",
        "        node.link = head\n",
        "        head = node\n",
        "        memory.append(node) # 안 중요함.\n",
        "        return\n",
        "    # Case 2 : 중간 노드 앞에 삽입(사나, 솔라)\n",
        "    current = head\n",
        "    while (current.link != None) :\n",
        "        pre = current\n",
        "        current = current.link\n",
        "        if (current.data == findData) :\n",
        "            node = Node()\n",
        "            node.data = insertData\n",
        "            node.link = current\n",
        "            pre.link = node\n",
        "            memory.append(node)  # 안 중요함.\n",
        "            return\n",
        "    # Case 3 : 없는 노드 앞에 삽입 (재남, 문별)\n",
        "    node = Node()\n",
        "    node.data = insertData\n",
        "    current.link = node\n",
        "    memory.append(node)  # 안 중요함.\n",
        "    return\n",
        "\n",
        "\n",
        "## 변수\n",
        "memory = []\n",
        "head, current, pre = None, None, None\n",
        "dataArray = ['다현', '정연', '쯔위', '사나', '지효'] # 여러분 데이터... 개수 관계없음\n",
        "## 메인\n",
        "\n",
        "node = Node()\n",
        "node.data = dataArray[0]\n",
        "head = node\n",
        "memory.append(node) # 안 중요함.\n",
        "\n",
        "for data in dataArray[1:] : # ['정연', '쯔위', ....\n",
        "    pre = node\n",
        "    node = Node()\n",
        "    node.data = data\n",
        "    pre.link = node\n",
        "    memory.append(node)  # 안 중요함.\n",
        "\n",
        "printNodes(head)\n",
        "\n",
        "# insertNode('다현', '화사')\n",
        "# printNodes(head)\n",
        "\n",
        "# insertNode('사나', '솔라')\n",
        "# printNodes(head)\n",
        "\n",
        "insertNode('재남', '문별')\n",
        "printNodes(head)"
      ],
      "metadata": {
        "colab": {
          "base_uri": "https://localhost:8080/"
        },
        "id": "KLy4eDE3ssQu",
        "outputId": "80eceac1-6b75-4efb-ca7b-1f7af90bf786"
      },
      "execution_count": 13,
      "outputs": [
        {
          "output_type": "stream",
          "name": "stdout",
          "text": [
            "다현 정연 쯔위 사나 지효 \n",
            "다현 정연 쯔위 사나 지효 문별 \n"
          ]
        }
      ]
    },
    {
      "cell_type": "code",
      "source": [
        "## 함수\n",
        "class Node() :\n",
        "    def __init__(self):\n",
        "        self.data = None\n",
        "        self.link = None\n",
        "\n",
        "def printNodes(start) :\n",
        "    current = start\n",
        "    print(current.data, end=' ')\n",
        "    while (current.link != None):\n",
        "        current = current.link\n",
        "        print(current.data, end=' ')\n",
        "    print()\n",
        "\n",
        "def insertNode(findData, insertData) :\n",
        "    global memory, head, current, pre\n",
        "    # Case 1 : 헤드 앞에 삽입 (다현, 화사)\n",
        "    if (findData == head.data) :\n",
        "        node = Node()\n",
        "        node.data = insertData\n",
        "        node.link = head\n",
        "        head = node\n",
        "        memory.append(node) # 안 중요함.\n",
        "        return\n",
        "    # Case 2 : 중간 노드 앞에 삽입(사나, 솔라)\n",
        "    current = head\n",
        "    while (current.link != None) :\n",
        "        pre = current\n",
        "        current = current.link\n",
        "        if (current.data == findData) :\n",
        "            node = Node()\n",
        "            node.data = insertData\n",
        "            node.link = current\n",
        "            pre.link = node\n",
        "            memory.append(node)  # 안 중요함.\n",
        "            return\n",
        "    # Case 3 : 없는 노드 앞에 삽입 (재남, 문별)\n",
        "    node = Node()\n",
        "    node.data = insertData\n",
        "    current.link = node\n",
        "    memory.append(node)  # 안 중요함.\n",
        "    return\n",
        "\n",
        "def deleteNode(deleteData) :\n",
        "    global memory, head, current, pre\n",
        "    # Case 1 : 헤드를 삭제 (다현)\n",
        "    if (deleteData == head.data) :\n",
        "        current = head\n",
        "        head = head.link\n",
        "        del(current)\n",
        "        return\n",
        "    # Case 2 : 중간 노드를 삭제(쯔위)\n",
        "    current = head\n",
        "    while (current.link != None) :\n",
        "        pre = current\n",
        "        current = current.link\n",
        "        if (current.data == deleteData) :\n",
        "            pre.link = current.link\n",
        "            del (current)\n",
        "            return\n",
        "    # Case 3 : 없는 노드를 삭제 (재남)\n",
        "    return\n",
        "\n",
        "\n",
        "## 변수\n",
        "memory = []\n",
        "head, current, pre = None, None, None\n",
        "dataArray = ['다현', '정연', '쯔위', '사나', '지효'] # 여러분 데이터... 개수 관계없음\n",
        "## 메인\n",
        "\n",
        "node = Node()\n",
        "node.data = dataArray[0]\n",
        "head = node\n",
        "memory.append(node) # 안 중요함.\n",
        "\n",
        "for data in dataArray[1:] : # ['정연', '쯔위', ....\n",
        "    pre = node\n",
        "    node = Node()\n",
        "    node.data = data\n",
        "    pre.link = node\n",
        "    memory.append(node)  # 안 중요함.\n",
        "\n",
        "printNodes(head)\n",
        "\n",
        "# insertNode('다현', '화사')\n",
        "# printNodes(head)\n",
        "\n",
        "# insertNode('사나', '솔라')\n",
        "# printNodes(head)\n",
        "\n",
        "# insertNode('재남', '문별')\n",
        "# printNodes(head)\n",
        "\n",
        "# deleteNode('다현')\n",
        "# printNodes(head)\n",
        "\n",
        "# deleteNode('쯔위')\n",
        "# printNodes(head)\n",
        "\n",
        "deleteNode('재남')\n",
        "printNodes(head)"
      ],
      "metadata": {
        "colab": {
          "base_uri": "https://localhost:8080/"
        },
        "id": "rBy8Daqw5zz1",
        "outputId": "6689bbfe-acf8-4830-ce5f-74c385b8566d"
      },
      "execution_count": 14,
      "outputs": [
        {
          "output_type": "stream",
          "name": "stdout",
          "text": [
            "다현 정연 쯔위 사나 지효 \n",
            "다현 정연 쯔위 사나 지효 \n"
          ]
        }
      ]
    },
    {
      "cell_type": "code",
      "source": [
        "## 함수\n",
        "class Node() :\n",
        "    def __init__(self):\n",
        "        self.data = None\n",
        "        self.link = None\n",
        "\n",
        "def printNodes(start) :\n",
        "    current = start\n",
        "    print(current.data, end=' ')\n",
        "    while (current.link != None):\n",
        "        current = current.link\n",
        "        print(current.data, end=' ')\n",
        "    print()\n",
        "\n",
        "def insertNode(findData, insertData) :\n",
        "    global memory, head, current, pre\n",
        "    # Case 1 : 헤드 앞에 삽입 (다현, 화사)\n",
        "    if (findData == head.data) :\n",
        "        node = Node()\n",
        "        node.data = insertData\n",
        "        node.link = head\n",
        "        head = node\n",
        "        memory.append(node) # 안 중요함.\n",
        "        return\n",
        "    # Case 2 : 중간 노드 앞에 삽입(사나, 솔라)\n",
        "    current = head\n",
        "    while (current.link != None) :\n",
        "        pre = current\n",
        "        current = current.link\n",
        "        if (current.data == findData) :\n",
        "            node = Node()\n",
        "            node.data = insertData\n",
        "            node.link = current\n",
        "            pre.link = node\n",
        "            memory.append(node)  # 안 중요함.\n",
        "            return\n",
        "    # Case 3 : 없는 노드 앞에 삽입 (재남, 문별)\n",
        "    node = Node()\n",
        "    node.data = insertData\n",
        "    current.link = node\n",
        "    memory.append(node)  # 안 중요함.\n",
        "    return\n",
        "\n",
        "def deleteNode(deleteData) :\n",
        "    global memory, head, current, pre\n",
        "    # Case 1 : 헤드를 삭제 (다현)\n",
        "    if (deleteData == head.data) :\n",
        "        current = head\n",
        "        head = head.link\n",
        "        del(current)\n",
        "        return\n",
        "    # Case 2 : 중간 노드를 삭제(쯔위)\n",
        "    current = head\n",
        "    while (current.link != None) :\n",
        "        pre = current\n",
        "        current = current.link\n",
        "        if (current.data == deleteData) :\n",
        "            pre.link = current.link\n",
        "            del (current)\n",
        "            return\n",
        "    # Case 3 : 없는 노드를 삭제 (재남)\n",
        "    return\n",
        "\n",
        "def findNode(findData) :\n",
        "    global memory, head, current, pre\n",
        "    current = head\n",
        "    if (findData == head.data) :\n",
        "        return current\n",
        "    while (current.link != None) :\n",
        "        current = current.link\n",
        "        if (findData == current.data) :\n",
        "            return current\n",
        "    return Node()\n",
        "\n",
        "## 변수\n",
        "memory = []\n",
        "head, current, pre = None, None, None\n",
        "dataArray = ['다현', '정연', '쯔위', '사나', '지효'] # 여러분 데이터... 개수 관계없음\n",
        "## 메인\n",
        "\n",
        "node = Node()\n",
        "node.data = dataArray[0]\n",
        "head = node\n",
        "memory.append(node) # 안 중요함.\n",
        "\n",
        "for data in dataArray[1:] : # ['정연', '쯔위', ....\n",
        "    pre = node\n",
        "    node = Node()\n",
        "    node.data = data\n",
        "    pre.link = node\n",
        "    memory.append(node)  # 안 중요함.\n",
        "\n",
        "printNodes(head)\n",
        "\n",
        "# insertNode('다현', '화사')\n",
        "# printNodes(head)\n",
        "\n",
        "# insertNode('사나', '솔라')\n",
        "# printNodes(head)\n",
        "\n",
        "# insertNode('재남', '문별')\n",
        "# printNodes(head)\n",
        "\n",
        "# deleteNode('다현')\n",
        "# printNodes(head)\n",
        "\n",
        "# deleteNode('쯔위')\n",
        "# printNodes(head)\n",
        "\n",
        "# deleteNode('재남')\n",
        "# printNodes(head)\n",
        "\n",
        "fNode = findNode('사나')\n",
        "print(fNode.data, '뮤비가 나옵니다. 쿵짝쿵짝~~')"
      ],
      "metadata": {
        "colab": {
          "base_uri": "https://localhost:8080/"
        },
        "id": "HdTQGsoT54QT",
        "outputId": "ea69a452-f593-460d-ff1e-7ff5bc77bf4d"
      },
      "execution_count": 15,
      "outputs": [
        {
          "output_type": "stream",
          "name": "stdout",
          "text": [
            "다현 정연 쯔위 사나 지효 \n",
            "사나 뮤비가 나옵니다. 쿵짝쿵짝~~\n"
          ]
        }
      ]
    },
    {
      "cell_type": "markdown",
      "source": [
        "# 스택"
      ],
      "metadata": {
        "id": "0V7QdghBbkux"
      }
    },
    {
      "cell_type": "code",
      "source": [
        "## 함수\n",
        "\n",
        "\n",
        "## 변수\n",
        "#stack = [None, None, None, None, None]\n",
        "SIZE = 5\n",
        "stack = [None for _ in range(SIZE)]\n",
        "top = -1\n",
        "\n",
        "## 메인\n",
        "\n",
        "## Push()\n",
        "top += 1\n",
        "stack[top] = '커피'\n",
        "top += 1\n",
        "stack[top] = '녹차'\n",
        "top += 1\n",
        "stack[top] = '꿀물'\n",
        "print('바닥:', stack)\n",
        "\n",
        "## Pop()\n",
        "data = stack[top]\n",
        "stack[top] = None\n",
        "top -= 1\n",
        "print('팝-->', data)\n",
        "data = stack[top]\n",
        "stack[top] = None\n",
        "top -= 1\n",
        "print('팝-->', data)\n",
        "data = stack[top]\n",
        "stack[top] = None\n",
        "top -= 1\n",
        "print('팝-->', data)\n",
        "\n",
        "print('바닥:', stack)"
      ],
      "metadata": {
        "colab": {
          "base_uri": "https://localhost:8080/"
        },
        "id": "-mZySpERbZ8U",
        "outputId": "d509a5ab-725a-4e82-c169-564afdb29c65"
      },
      "execution_count": 1,
      "outputs": [
        {
          "output_type": "stream",
          "name": "stdout",
          "text": [
            "바닥: ['커피', '녹차', '꿀물', None, None]\n",
            "팝--> 꿀물\n",
            "팝--> 녹차\n",
            "팝--> 커피\n",
            "바닥: [None, None, None, None, None]\n"
          ]
        }
      ]
    },
    {
      "cell_type": "code",
      "source": [
        "## 함수\n",
        "def isStackFull() :\n",
        "    global SIZE, stack, top\n",
        "    if (top == SIZE-1) :\n",
        "        return True\n",
        "    else :\n",
        "        return False\n",
        "\n",
        "def push(data) :\n",
        "    global SIZE, stack, top\n",
        "    if (isStackFull() == True) :\n",
        "        print('스택 꽉!')\n",
        "        return\n",
        "    top += 1\n",
        "    stack[top] = data\n",
        "\n",
        "## 변수\n",
        "SIZE = 5\n",
        "stack = [None for _ in range(SIZE)]\n",
        "top = -1\n",
        "\n",
        "## 메인\n",
        "push('커피')\n",
        "push('녹차')\n",
        "push('꿀물')\n",
        "push('콜라')\n",
        "push('환타')\n",
        "print('바닥:', stack)\n",
        "push('게토레이')\n",
        "print('바닥:', stack)"
      ],
      "metadata": {
        "colab": {
          "base_uri": "https://localhost:8080/"
        },
        "id": "0rHTebeWbchB",
        "outputId": "bd696e0c-7a4b-4771-f001-a2447564b9b6"
      },
      "execution_count": 2,
      "outputs": [
        {
          "output_type": "stream",
          "name": "stdout",
          "text": [
            "바닥: ['커피', '녹차', '꿀물', '콜라', '환타']\n",
            "스택 꽉!\n",
            "바닥: ['커피', '녹차', '꿀물', '콜라', '환타']\n"
          ]
        }
      ]
    },
    {
      "cell_type": "code",
      "source": [
        "## 함수\n",
        "def isStackFull() :\n",
        "    global SIZE, stack, top\n",
        "    if (top >= SIZE-1) :\n",
        "        return True\n",
        "    else :\n",
        "        return False\n",
        "\n",
        "def push(data) :\n",
        "    global SIZE, stack, top\n",
        "    if (isStackFull()) :\n",
        "        print('스택 꽉!')\n",
        "        return\n",
        "    top += 1\n",
        "    stack[top] = data\n",
        "\n",
        "def isStackEmpty() :\n",
        "    global SIZE, stack, top\n",
        "    if (top <= -1) :\n",
        "        return True\n",
        "    else :\n",
        "        return False\n",
        "\n",
        "def pop() :\n",
        "    global SIZE, stack, top\n",
        "    if (isStackEmpty()) :\n",
        "        print('스택 텅~')\n",
        "        return\n",
        "    data = stack[top]\n",
        "    stack[top] = None\n",
        "    top -= 1\n",
        "    return data\n",
        "\n",
        "## 변수\n",
        "SIZE = 5\n",
        "stack = [None for _ in range(SIZE)]\n",
        "top = -1\n",
        "\n",
        "## 메인\n",
        "push('커피')\n",
        "push('녹차')\n",
        "# push('꿀물')\n",
        "# push('콜라')\n",
        "# push('환타')\n",
        "# print('바닥:', stack)\n",
        "# push('게토레이')\n",
        "print('바닥:', stack)\n",
        "\n",
        "retData = pop()\n",
        "print('팝데이터==>', retData)\n",
        "retData = pop()\n",
        "print('팝데이터==>', retData)\n",
        "retData = pop()\n",
        "print('팝데이터==>', retData)\n",
        "print('바닥:', stack)"
      ],
      "metadata": {
        "colab": {
          "base_uri": "https://localhost:8080/"
        },
        "id": "xijMTBQYbfLa",
        "outputId": "adbfc452-4398-4d86-f14a-673006049e48"
      },
      "execution_count": 3,
      "outputs": [
        {
          "output_type": "stream",
          "name": "stdout",
          "text": [
            "바닥: ['커피', '녹차', None, None, None]\n",
            "팝데이터==> 녹차\n",
            "팝데이터==> 커피\n",
            "스택 텅~\n",
            "팝데이터==> None\n",
            "바닥: [None, None, None, None, None]\n"
          ]
        }
      ]
    },
    {
      "cell_type": "code",
      "source": [
        "## 함수\n",
        "def isStackFull() :\n",
        "    global SIZE, stack, top\n",
        "    if (top >= SIZE-1) :\n",
        "        return True\n",
        "    else :\n",
        "        return False\n",
        "\n",
        "def push(data) :\n",
        "    global SIZE, stack, top\n",
        "    if (isStackFull()) :\n",
        "        print('스택 꽉!')\n",
        "        return\n",
        "    top += 1\n",
        "    stack[top] = data\n",
        "\n",
        "def isStackEmpty() :\n",
        "    global SIZE, stack, top\n",
        "    if (top <= -1) :\n",
        "        return True\n",
        "    else :\n",
        "        return False\n",
        "\n",
        "def pop() :\n",
        "    global SIZE, stack, top\n",
        "    if (isStackEmpty()) :\n",
        "        print('스택 텅~')\n",
        "        return\n",
        "    data = stack[top]\n",
        "    stack[top] = None\n",
        "    top -= 1\n",
        "    return data\n",
        "\n",
        "def peek() :\n",
        "    global SIZE, stack, top\n",
        "    if (isStackEmpty()) :\n",
        "        print('스택 텅~')\n",
        "        return\n",
        "    return stack[top]\n",
        "\n",
        "## 변수\n",
        "SIZE = 5\n",
        "stack = [None for _ in range(SIZE)]\n",
        "top = -1\n",
        "\n",
        "## 메인\n",
        "push('커피')\n",
        "push('녹차')\n",
        "# push('꿀물')\n",
        "# push('콜라')\n",
        "# push('환타')\n",
        "# print('바닥:', stack)\n",
        "# push('게토레이')\n",
        "print('바닥:', stack)\n",
        "\n",
        "retData = pop()\n",
        "print('팝데이터==>', retData)\n",
        "\n",
        "print('다음 데이터:', peek())\n",
        "\n",
        "retData = pop()\n",
        "print('팝데이터==>', retData)\n",
        "retData = pop()\n",
        "print('팝데이터==>', retData)\n",
        "print('바닥:', stack)"
      ],
      "metadata": {
        "colab": {
          "base_uri": "https://localhost:8080/"
        },
        "id": "qG9RvlXsbgAn",
        "outputId": "e76e2c76-372b-4700-cd53-6d8a14ab228a"
      },
      "execution_count": 4,
      "outputs": [
        {
          "output_type": "stream",
          "name": "stdout",
          "text": [
            "바닥: ['커피', '녹차', None, None, None]\n",
            "팝데이터==> 녹차\n",
            "다음 데이터: 커피\n",
            "팝데이터==> 커피\n",
            "스택 텅~\n",
            "팝데이터==> None\n",
            "바닥: [None, None, None, None, None]\n"
          ]
        }
      ]
    },
    {
      "cell_type": "code",
      "source": [],
      "metadata": {
        "id": "qhceZ_wmbijh"
      },
      "execution_count": null,
      "outputs": []
    }
  ]
}