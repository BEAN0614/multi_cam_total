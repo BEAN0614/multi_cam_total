{
  "nbformat": 4,
  "nbformat_minor": 0,
  "metadata": {
    "colab": {
      "provenance": []
    },
    "kernelspec": {
      "name": "python3",
      "display_name": "Python 3"
    },
    "language_info": {
      "name": "python"
    }
  },
  "cells": [
    {
      "cell_type": "markdown",
      "source": [
        "# 큐"
      ],
      "metadata": {
        "id": "VyxjfBptNjXD"
      }
    },
    {
      "cell_type": "code",
      "execution_count": null,
      "metadata": {
        "colab": {
          "base_uri": "https://localhost:8080/"
        },
        "id": "pSkCZn56NGho",
        "outputId": "4c9a1088-394c-4149-8838-20d3bcfb6139"
      },
      "outputs": [
        {
          "output_type": "stream",
          "name": "stdout",
          "text": [
            "출구<-- ['화사', '솔라', '문별', None, None] <--입구\n",
            "식사손님 : 화사\n",
            "식사손님 : 솔라\n",
            "식사손님 : 문별\n",
            "출구<-- [None, None, None, None, None] <--입구\n"
          ]
        }
      ],
      "source": [
        "## 함수\n",
        "\n",
        "\n",
        "## 변수\n",
        "SIZE = 5\n",
        "queue = [None for _ in range(SIZE)]\n",
        "front = rear = -1\n",
        "\n",
        "## 메인\n",
        "\n",
        "# enQueue()\n",
        "rear += 1\n",
        "queue[rear] = '화사'\n",
        "rear += 1\n",
        "queue[rear] = '솔라'\n",
        "rear += 1\n",
        "queue[rear] = '문별'\n",
        "print('출구<--', queue, '<--입구')\n",
        "# deQueue()\n",
        "front += 1\n",
        "data = queue[front]\n",
        "queue[front]= None\n",
        "print('식사손님 :', data)\n",
        "front += 1\n",
        "data = queue[front]\n",
        "queue[front]= None\n",
        "print('식사손님 :', data)\n",
        "front += 1\n",
        "data = queue[front]\n",
        "queue[front]= None\n",
        "print('식사손님 :', data)\n",
        "print('출구<--', queue, '<--입구')"
      ]
    },
    {
      "cell_type": "code",
      "source": [
        "## 함수\n",
        "def isQueueFull() :\n",
        "    global SIZE, queue, front, rear\n",
        "    if(rear >= SIZE-1) :\n",
        "        return True\n",
        "    else :\n",
        "        return False\n",
        "\n",
        "def enQueue(data) :\n",
        "    global SIZE, queue, front, rear\n",
        "    if (isQueueFull()) :\n",
        "        print('큐 꽉!')\n",
        "        return\n",
        "    rear += 1\n",
        "    queue[rear] = data\n",
        "\n",
        "\n",
        "## 변수\n",
        "SIZE = 5\n",
        "queue = [None for _ in range(SIZE)]\n",
        "front = rear = -1\n",
        "\n",
        "## 메인\n",
        "enQueue('화사')\n",
        "enQueue('솔라')\n",
        "enQueue('문별')\n",
        "enQueue('휘인')\n",
        "enQueue('선미')\n",
        "print('출구<--', queue, '<--입구')\n",
        "enQueue('재남')\n",
        "print('출구<--', queue, '<--입구')"
      ],
      "metadata": {
        "colab": {
          "base_uri": "https://localhost:8080/"
        },
        "id": "VwSSRVtzNPhI",
        "outputId": "cb8a1bf9-6c71-44e8-bd51-ee0b7afb59ae"
      },
      "execution_count": null,
      "outputs": [
        {
          "output_type": "stream",
          "name": "stdout",
          "text": [
            "출구<-- ['화사', '솔라', '문별', '휘인', '선미'] <--입구\n",
            "큐 꽉!\n",
            "출구<-- ['화사', '솔라', '문별', '휘인', '선미'] <--입구\n"
          ]
        }
      ]
    },
    {
      "cell_type": "code",
      "source": [
        "## 함수\n",
        "def isQueueFull() :\n",
        "    global SIZE, queue, front, rear\n",
        "    if(rear >= SIZE-1) :\n",
        "        return True\n",
        "    else :\n",
        "        return False\n",
        "\n",
        "def enQueue(data) :\n",
        "    global SIZE, queue, front, rear\n",
        "    if (isQueueFull()) :\n",
        "        print('큐 꽉!')\n",
        "        return\n",
        "    rear += 1\n",
        "    queue[rear] = data\n",
        "\n",
        "def isQueueEmpty() :\n",
        "    global SIZE, queue, front, rear\n",
        "    if (front == rear) :\n",
        "        return True\n",
        "    else :\n",
        "        return False\n",
        "\n",
        "def deQueue() :\n",
        "    global SIZE, queue, front, rear\n",
        "    if (isQueueEmpty()) :\n",
        "        print('큐 텅~')\n",
        "        return\n",
        "    front += 1\n",
        "    data = queue[front]\n",
        "    queue[front] = None\n",
        "    return data\n",
        "\n",
        "## 변수\n",
        "SIZE = 5\n",
        "queue = [None for _ in range(SIZE)]\n",
        "front = rear = -1\n",
        "\n",
        "## 메인\n",
        "enQueue('화사')\n",
        "enQueue('솔라')\n",
        "# enQueue('문별')\n",
        "# enQueue('휘인')\n",
        "# enQueue('선미')\n",
        "# print('출구<--', queue, '<--입구')\n",
        "# enQueue('재남')\n",
        "print('출구<--', queue, '<--입구')\n",
        "\n",
        "retData = deQueue()\n",
        "print('손님 이리로 :', retData)\n",
        "retData = deQueue()\n",
        "print('손님 이리로 :', retData)\n",
        "print('출구<--', queue, '<--입구')\n",
        "\n",
        "retData = deQueue()\n",
        "print('손님 이리로 :', retData)"
      ],
      "metadata": {
        "colab": {
          "base_uri": "https://localhost:8080/"
        },
        "id": "htFNMMpgNP7K",
        "outputId": "0e0f2b9d-b779-443d-e44f-4be050c35762"
      },
      "execution_count": null,
      "outputs": [
        {
          "output_type": "stream",
          "name": "stdout",
          "text": [
            "출구<-- ['화사', '솔라', None, None, None] <--입구\n",
            "손님 이리로 : 화사\n",
            "손님 이리로 : 솔라\n",
            "출구<-- [None, None, None, None, None] <--입구\n",
            "큐 텅~\n",
            "손님 이리로 : None\n"
          ]
        }
      ]
    },
    {
      "cell_type": "code",
      "source": [
        "## 함수\n",
        "def isQueueFull() :\n",
        "    global SIZE, queue, front, rear\n",
        "    if(rear >= SIZE-1) :\n",
        "        return True\n",
        "    else :\n",
        "        return False\n",
        "\n",
        "def enQueue(data) :\n",
        "    global SIZE, queue, front, rear\n",
        "    if (isQueueFull()) :\n",
        "        print('큐 꽉!')\n",
        "        return\n",
        "    rear += 1\n",
        "    queue[rear] = data\n",
        "\n",
        "def isQueueEmpty() :\n",
        "    global SIZE, queue, front, rear\n",
        "    if (front == rear) :\n",
        "        return True\n",
        "    else :\n",
        "        return False\n",
        "\n",
        "def deQueue() :\n",
        "    global SIZE, queue, front, rear\n",
        "    if (isQueueEmpty()) :\n",
        "        print('큐 텅~')\n",
        "        return\n",
        "    front += 1\n",
        "    data = queue[front]\n",
        "    queue[front] = None\n",
        "    return data\n",
        "\n",
        "def peek() :\n",
        "    global SIZE, queue, front, rear\n",
        "    if (isQueueEmpty()) :\n",
        "        print('큐 텅~')\n",
        "        return\n",
        "    return queue[front+1]\n",
        "\n",
        "## 변수\n",
        "SIZE = 5\n",
        "queue = [None for _ in range(SIZE)]\n",
        "front = rear = -1\n",
        "\n",
        "## 메인\n",
        "enQueue('화사')\n",
        "enQueue('솔라')\n",
        "# enQueue('문별')\n",
        "# enQueue('휘인')\n",
        "# enQueue('선미')\n",
        "# print('출구<--', queue, '<--입구')\n",
        "# enQueue('재남')\n",
        "print('출구<--', queue, '<--입구')\n",
        "\n",
        "retData = deQueue()\n",
        "print('손님 이리로 :', retData)\n",
        "\n",
        "print('준비하세요 ==>', peek())\n",
        "\n",
        "retData = deQueue()\n",
        "print('손님 이리로 :', retData)\n",
        "print('출구<--', queue, '<--입구')\n",
        "\n",
        "retData = deQueue()\n",
        "print('손님 이리로 :', retData)"
      ],
      "metadata": {
        "colab": {
          "base_uri": "https://localhost:8080/"
        },
        "id": "RFbp_OHTNVA_",
        "outputId": "ca99b042-3e12-448b-bc86-0469effae9c2"
      },
      "execution_count": null,
      "outputs": [
        {
          "output_type": "stream",
          "name": "stdout",
          "text": [
            "출구<-- ['화사', '솔라', None, None, None] <--입구\n",
            "손님 이리로 : 화사\n",
            "준비하세요 ==> 솔라\n",
            "손님 이리로 : 솔라\n",
            "출구<-- [None, None, None, None, None] <--입구\n",
            "큐 텅~\n",
            "손님 이리로 : None\n"
          ]
        }
      ]
    },
    {
      "cell_type": "markdown",
      "source": [
        "## 순차 큐"
      ],
      "metadata": {
        "id": "jy4JQF2vNa3z"
      }
    },
    {
      "cell_type": "code",
      "source": [
        "## 함수\n",
        "def isQueueFull() :\n",
        "    global SIZE, queue, front, rear\n",
        "    if (rear != SIZE-1) :\n",
        "        return False\n",
        "    elif (rear == SIZE-1 and front == -1) :\n",
        "        return True\n",
        "    elif (rear == SIZE-1 and front != -1) : # else\n",
        "        for i in range(front+1, SIZE) :\n",
        "            queue[i-1] = queue[i]\n",
        "            queue[i] = None\n",
        "        front -= 1\n",
        "        rear -= 1\n",
        "        return False\n",
        "\n",
        "def enQueue(data) :\n",
        "    global SIZE, queue, front, rear\n",
        "    if (isQueueFull()) :\n",
        "        print('큐 꽉!')\n",
        "        return\n",
        "    rear += 1\n",
        "    queue[rear] = data\n",
        "\n",
        "def isQueueEmpty() :\n",
        "    global SIZE, queue, front, rear\n",
        "    if (front == rear) :\n",
        "        return True\n",
        "    else :\n",
        "        return False\n",
        "\n",
        "def deQueue() :\n",
        "    global SIZE, queue, front, rear\n",
        "    if (isQueueEmpty()) :\n",
        "        print('큐 텅~')\n",
        "        return\n",
        "    front += 1\n",
        "    data = queue[front]\n",
        "    queue[front] = None\n",
        "    return data\n",
        "\n",
        "def peek() :\n",
        "    global SIZE, queue, front, rear\n",
        "    if (isQueueEmpty()) :\n",
        "        print('큐 텅~')\n",
        "        return\n",
        "    return queue[front+1]\n",
        "\n",
        "## 변수\n",
        "SIZE = 5\n",
        "queue = [None for _ in range(SIZE)]\n",
        "front = rear = -1\n",
        "\n",
        "## 메인\n",
        "enQueue('화사')\n",
        "enQueue('솔라')\n",
        "enQueue('문별')\n",
        "enQueue('휘인')\n",
        "enQueue('선미')\n",
        "print('출구<--', queue, '<--입구')\n",
        "\n",
        "retData = deQueue()\n",
        "print('손님 이리로 :', retData)\n",
        "\n",
        "retData = deQueue()\n",
        "print('손님 이리로 :', retData)\n",
        "print('출구<--', queue, '<--입구')\n",
        "\n",
        "\n",
        "enQueue('재남')\n",
        "print('출구<--', queue, '<--입구')\n",
        "enQueue('정국')\n",
        "print('출구<--', queue, '<--입구')\n",
        "\n",
        "enQueue('길동')\n",
        "print('출구<--', queue, '<--입구')"
      ],
      "metadata": {
        "colab": {
          "base_uri": "https://localhost:8080/"
        },
        "id": "C0mSXoB1NX5d",
        "outputId": "b998380d-b696-4e49-c9a9-18292f1693fe"
      },
      "execution_count": null,
      "outputs": [
        {
          "output_type": "stream",
          "name": "stdout",
          "text": [
            "출구<-- ['화사', '솔라', '문별', '휘인', '선미'] <--입구\n",
            "손님 이리로 : 화사\n",
            "손님 이리로 : 솔라\n",
            "출구<-- [None, None, '문별', '휘인', '선미'] <--입구\n",
            "출구<-- [None, '문별', '휘인', '선미', '재남'] <--입구\n",
            "출구<-- ['문별', '휘인', '선미', '재남', '정국'] <--입구\n",
            "큐 꽉!\n",
            "출구<-- ['문별', '휘인', '선미', '재남', '정국'] <--입구\n"
          ]
        }
      ]
    },
    {
      "cell_type": "markdown",
      "source": [
        "## 원형 큐"
      ],
      "metadata": {
        "id": "nlM38HT-NgWm"
      }
    },
    {
      "cell_type": "code",
      "source": [
        "## 함수\n",
        "def isQueueFull() :\n",
        "    global SIZE, queue, front, rear\n",
        "    if ( (rear+1) % SIZE == front) :\n",
        "        return True\n",
        "    else :\n",
        "        return False\n",
        "\n",
        "def enQueue(data) :\n",
        "    global SIZE, queue, front, rear\n",
        "    if (isQueueFull()) :\n",
        "        print('큐 꽉!')\n",
        "        return\n",
        "    rear = (rear + 1) % SIZE\n",
        "    queue[rear] = data\n",
        "\n",
        "def isQueueEmpty() :\n",
        "    global SIZE, queue, front, rear\n",
        "    if (front == rear) :\n",
        "        return True\n",
        "    else :\n",
        "        return False\n",
        "\n",
        "def deQueue() :\n",
        "    global SIZE, queue, front, rear\n",
        "    if (isQueueEmpty()) :\n",
        "        print('큐 텅~')\n",
        "        return\n",
        "    front = (front + 1) % SIZE\n",
        "    data = queue[front]\n",
        "    queue[front] = None\n",
        "    return data\n",
        "\n",
        "def peek() :\n",
        "    global SIZE, queue, front, rear\n",
        "    if (isQueueEmpty()) :\n",
        "        print('큐 텅~')\n",
        "        return\n",
        "    return queue[(front+1) % SIZE]\n",
        "\n",
        "## 변수\n",
        "SIZE = 5\n",
        "queue = [None for _ in range(SIZE)]\n",
        "front = rear = 0\n",
        "\n",
        "## 메인\n",
        "enQueue('화사')\n",
        "enQueue('솔라')\n",
        "enQueue('문별')\n",
        "# enQueue('휘인')\n",
        "# enQueue('선미')\n",
        "print('출구<--', queue, '<--입구')\n",
        "#\n",
        "retData = deQueue()\n",
        "print('손님 이리로 :', retData)\n",
        "\n",
        "retData = deQueue()\n",
        "print('손님 이리로 :', retData)\n",
        "print('출구<--', queue, '<--입구')\n",
        "#\n",
        "#\n",
        "enQueue('재남')\n",
        "print('출구<--', queue, '<--입구')\n",
        "enQueue('정국')\n",
        "print('출구<--', queue, '<--입구')\n",
        "\n",
        "enQueue('길동')\n",
        "print('출구<--', queue, '<--입구')\n",
        "\n",
        "enQueue('춘향')\n",
        "print('출구<--', queue, '<--입구')"
      ],
      "metadata": {
        "colab": {
          "base_uri": "https://localhost:8080/"
        },
        "id": "nvHV9e5UNckt",
        "outputId": "6d9d8f26-0e0b-46fb-e801-6fadbd95e44b"
      },
      "execution_count": null,
      "outputs": [
        {
          "output_type": "stream",
          "name": "stdout",
          "text": [
            "출구<-- [None, '화사', '솔라', '문별', None] <--입구\n",
            "손님 이리로 : 화사\n",
            "손님 이리로 : 솔라\n",
            "출구<-- [None, None, None, '문별', None] <--입구\n",
            "출구<-- [None, None, None, '문별', '재남'] <--입구\n",
            "출구<-- ['정국', None, None, '문별', '재남'] <--입구\n",
            "출구<-- ['정국', '길동', None, '문별', '재남'] <--입구\n",
            "큐 꽉!\n",
            "출구<-- ['정국', '길동', None, '문별', '재남'] <--입구\n"
          ]
        }
      ]
    },
    {
      "cell_type": "markdown",
      "source": [
        "# 이진트리"
      ],
      "metadata": {
        "id": "_KLNwYmNqlbx"
      }
    },
    {
      "cell_type": "code",
      "source": [
        "## 함수\n",
        "class TreeNode() :\n",
        "    def __init__(self):\n",
        "        self.left = None\n",
        "        self.data = None\n",
        "        self.right = None\n",
        "\n",
        "## 변수\n",
        "\n",
        "## 메인\n",
        "node1 = TreeNode()\n",
        "node1.data = '화사'\n",
        "\n",
        "node2 = TreeNode()\n",
        "node2.data = '솔라'\n",
        "node1.left = node2\n",
        "\n",
        "node3 = TreeNode()\n",
        "node3.data = '문별'\n",
        "node1.right = node3\n",
        "\n",
        "node4 = TreeNode()\n",
        "node4.data = '휘인'\n",
        "node2.left = node4\n",
        "\n",
        "node5 = TreeNode()\n",
        "node5.data = '쯔위'\n",
        "node2.right = node5\n",
        "\n",
        "node6 = TreeNode()\n",
        "node6.data = '선미'\n",
        "node3.left = node6\n",
        "\n",
        "root = node1\n",
        "\n",
        "print(root.data)\n",
        "print(root.left.data, root.right.data)\n",
        "print(root.left.left.data, root.left.right.data, root.right.left.data)\n",
        "\n",
        "\n",
        "# print(node1.data)\n",
        "# print(node2.data, node3.data)\n",
        "# print(node4.data, node5.data, node6.data)"
      ],
      "metadata": {
        "id": "m2EfJPapNht0",
        "colab": {
          "base_uri": "https://localhost:8080/"
        },
        "outputId": "33467d53-60c4-448d-bbe4-0fad8d341e30"
      },
      "execution_count": 1,
      "outputs": [
        {
          "output_type": "stream",
          "name": "stdout",
          "text": [
            "화사\n",
            "솔라 문별\n",
            "휘인 쯔위 선미\n"
          ]
        }
      ]
    },
    {
      "cell_type": "markdown",
      "source": [
        "# 그래프"
      ],
      "metadata": {
        "id": "uHNU38q6_bfG"
      }
    },
    {
      "cell_type": "code",
      "source": [
        "## 함수\n",
        "class Graph() :\n",
        "    def __init__(self, size):\n",
        "        self.graph = [ [0 for _ in range(size)] \\\n",
        "                       for _ in range(size)]\n",
        "\n",
        "## 변수\n",
        "G1 = None\n",
        "A, B, C, D = 0, 1, 2, 3\n",
        "\n",
        "## 메인\n",
        "G1 = Graph(4)\n",
        "\n",
        "G1.graph[A][B] = 1; G1.graph[A][C] = 1; G1.graph[A][D] = 1\n",
        "G1.graph[B][A] = 1; G1.graph[B][C] = 1\n",
        "G1.graph[C][A] = 1; G1.graph[C][B] = 1; G1.graph[C][D] = 1\n",
        "G1.graph[D][A] = 1; G1.graph[D][C] = 1\n",
        "\n",
        "for row in range(4) :\n",
        "    for col in range(4) :\n",
        "        print(G1.graph[row][col], end=' ')\n",
        "    print()"
      ],
      "metadata": {
        "colab": {
          "base_uri": "https://localhost:8080/"
        },
        "id": "K7_R2YRN_c58",
        "outputId": "c7e69561-0cf1-48ec-c901-708ecabc03eb"
      },
      "execution_count": 2,
      "outputs": [
        {
          "output_type": "stream",
          "name": "stdout",
          "text": [
            "0 1 1 1 \n",
            "1 0 1 0 \n",
            "1 1 0 1 \n",
            "1 0 1 0 \n"
          ]
        }
      ]
    },
    {
      "cell_type": "markdown",
      "source": [
        "# 최솟값 찾기"
      ],
      "metadata": {
        "id": "VC6c3YxTFJiK"
      }
    },
    {
      "cell_type": "code",
      "source": [
        "## 함수\n",
        "def findMinIndex(ary) :\n",
        "    minIdx = 0\n",
        "    for i in range(1, len(ary)) :\n",
        "        if (ary[minIdx] > ary[i]) :\n",
        "            minIdx = i\n",
        "    return minIdx\n",
        "\n",
        "## 변수\n",
        "testAry = [55, 88, 33, 77, 99, 11, 55, 89, 13]\n",
        "\n",
        "## 메인\n",
        "minPos = findMinIndex(testAry)\n",
        "print('최솟값 -->', testAry[minPos])"
      ],
      "metadata": {
        "colab": {
          "base_uri": "https://localhost:8080/"
        },
        "id": "7TGTP-iO_dZi",
        "outputId": "fee1f23a-013f-4f2a-da4f-c6953c67de21"
      },
      "execution_count": 3,
      "outputs": [
        {
          "output_type": "stream",
          "name": "stdout",
          "text": [
            "최솟값 --> 11\n"
          ]
        }
      ]
    },
    {
      "cell_type": "markdown",
      "source": [
        "# 선택 정렬"
      ],
      "metadata": {
        "id": "nQRF37_KFNL-"
      }
    },
    {
      "cell_type": "code",
      "source": [
        "## 함수\n",
        "import random\n",
        "def findMinIndex(ary) :\n",
        "    minIdx = 0\n",
        "    for i in range(1, len(ary)) :\n",
        "        if (ary[minIdx] > ary[i]) :\n",
        "            minIdx = i\n",
        "    return minIdx\n",
        "\n",
        "## 변수\n",
        "before = [random.randint(30, 190) for _ in range(20)]\n",
        "after = []\n",
        "\n",
        "## 메인\n",
        "print('정렬 전-->', before)\n",
        "for i in range(len(before)) :\n",
        "    minPos = findMinIndex(before)\n",
        "    after.append(before[minPos])\n",
        "    del(before[minPos])\n",
        "print('정렬 후-->', after)"
      ],
      "metadata": {
        "colab": {
          "base_uri": "https://localhost:8080/"
        },
        "id": "QNYDchAAFPFo",
        "outputId": "112b0172-2f29-4d81-89f9-6191d5a47753"
      },
      "execution_count": 4,
      "outputs": [
        {
          "output_type": "stream",
          "name": "stdout",
          "text": [
            "정렬 전--> [116, 156, 102, 154, 85, 53, 71, 149, 145, 162, 92, 45, 126, 169, 90, 50, 123, 74, 34, 131]\n",
            "정렬 후--> [34, 45, 50, 53, 71, 74, 85, 90, 92, 102, 116, 123, 126, 131, 145, 149, 154, 156, 162, 169]\n"
          ]
        }
      ]
    },
    {
      "cell_type": "code",
      "source": [
        "## 함수\n",
        "import random\n",
        "def selectionSort(ary) :\n",
        "    n = len(ary)\n",
        "    for i in range(0, n-1) :\n",
        "        minIdx = i\n",
        "        for k in range(i+1, n) :\n",
        "            if (ary[minIdx] > ary[k]) :\n",
        "                minIdx = k\n",
        "        ary[i], ary[minIdx] = ary[minIdx], ary[i]\n",
        "\n",
        "    return ary\n",
        "\n",
        "## 변수\n",
        "dataAry = [random.randint(30, 190) for _ in range(8)]\n",
        "\n",
        "## 메인\n",
        "print('정렬 전-->', dataAry)\n",
        "dataAry = selectionSort(dataAry)\n",
        "print('정렬 후-->', dataAry)"
      ],
      "metadata": {
        "colab": {
          "base_uri": "https://localhost:8080/"
        },
        "id": "q-nmsGnOOA_C",
        "outputId": "ffd53fb1-59f9-44e7-c96d-6cce517c174f"
      },
      "execution_count": 5,
      "outputs": [
        {
          "output_type": "stream",
          "name": "stdout",
          "text": [
            "정렬 전--> [67, 163, 117, 44, 116, 183, 100, 83]\n",
            "정렬 후--> [44, 67, 83, 100, 116, 117, 163, 183]\n"
          ]
        }
      ]
    },
    {
      "cell_type": "markdown",
      "source": [
        "# 순차검색"
      ],
      "metadata": {
        "id": "RJqtmS0xOEAD"
      }
    },
    {
      "cell_type": "code",
      "source": [
        "## 함수\n",
        "import random\n",
        "\n",
        "def seqSearch(ary, fData) :\n",
        "    pos = -1\n",
        "    for i in range(len(ary)) :\n",
        "        if (fData == ary[i]) :\n",
        "            pos = i\n",
        "            break\n",
        "    return pos\n",
        "\n",
        "## 변수\n",
        "dataAry = [random.randint(30, 190) for _ in range(8)]\n",
        "findData = random.choice(dataAry)\n",
        "\n",
        "## 메인\n",
        "print('배열-->', dataAry)\n",
        "position = seqSearch(dataAry, findData)\n",
        "if (position == -1) :\n",
        "    print(findData, '없어요 ㅠ')\n",
        "else :\n",
        "    print(findData, '가', position, '위치에 있어요')"
      ],
      "metadata": {
        "colab": {
          "base_uri": "https://localhost:8080/"
        },
        "id": "05hTA--TOGH9",
        "outputId": "21038dfa-ba72-4ad8-bc98-88aa029ffd75"
      },
      "execution_count": 6,
      "outputs": [
        {
          "output_type": "stream",
          "name": "stdout",
          "text": [
            "배열--> [48, 111, 84, 90, 188, 70, 133, 110]\n",
            "111 가 1 위치에 있어요\n"
          ]
        }
      ]
    },
    {
      "cell_type": "markdown",
      "source": [
        "# 이진 검색"
      ],
      "metadata": {
        "id": "21j27xY8i5Re"
      }
    },
    {
      "cell_type": "code",
      "source": [
        "## 함수\n",
        "import random\n",
        "def binSearch(ary, fData) :\n",
        "    pos = -1\n",
        "    start = 0\n",
        "    end = len(ary)-1\n",
        "    while (start <= end) :\n",
        "        mid = (start+end)//2\n",
        "        if (ary[mid] == fData) :\n",
        "            pos = mid\n",
        "            break\n",
        "        elif (ary[mid] < fData) :\n",
        "            start = mid + 1\n",
        "        else :\n",
        "            end = mid - 1\n",
        "    return pos\n",
        "\n",
        "## 변수\n",
        "dataAry = [random.randint(30, 190) for _ in range(10)]\n",
        "dataAry.sort()\n",
        "findData = random.choice(dataAry)\n",
        "\n",
        "## 메인\n",
        "print('배열-->', dataAry)\n",
        "position = binSearch(dataAry, findData)\n",
        "if (position == -1) :\n",
        "    print(findData, '없어요 ㅠ')\n",
        "else :\n",
        "    print(findData, '가', position, '위치에 있어요')"
      ],
      "metadata": {
        "id": "M6v8jNFui7mJ",
        "outputId": "a4e83044-2972-4c89-b78c-8fd83533e7ea",
        "colab": {
          "base_uri": "https://localhost:8080/"
        }
      },
      "execution_count": 8,
      "outputs": [
        {
          "output_type": "stream",
          "name": "stdout",
          "text": [
            "배열--> [41, 45, 80, 81, 84, 88, 93, 113, 142, 181]\n",
            "41 가 0 위치에 있어요\n"
          ]
        }
      ]
    },
    {
      "cell_type": "code",
      "source": [
        "## 함수\n",
        "import random\n",
        "def binSearch(ary, fData) :\n",
        "    global count\n",
        "    pos = -1\n",
        "    start = 0\n",
        "    end = len(ary)-1\n",
        "    while (start <= end) :\n",
        "        count += 1\n",
        "        mid = (start+end)//2\n",
        "        if (ary[mid] == fData) :\n",
        "            pos = mid\n",
        "            break\n",
        "        elif (ary[mid] < fData) :\n",
        "            start = mid + 1\n",
        "        else :\n",
        "            end = mid - 1\n",
        "    return pos\n",
        "\n",
        "## 변수\n",
        "dataAry = [random.randint(0, 100000000000) for _ in range(1000000)]\n",
        "dataAry.sort()\n",
        "findData = random.choice(dataAry)\n",
        "# findData = 91\n",
        "count = 0\n",
        "## 메인\n",
        "print('배열-->', dataAry[:10])\n",
        "position = binSearch(dataAry, findData)\n",
        "if (position == -1) :\n",
        "    print(findData, '없어요 ㅠ')\n",
        "else :\n",
        "    print(findData, '가', position, '위치에 있어요', count, '번')"
      ],
      "metadata": {
        "colab": {
          "base_uri": "https://localhost:8080/"
        },
        "id": "JBnsbA2COGhe",
        "outputId": "dfe4b667-213f-4b56-8baa-bacbe4beb21c"
      },
      "execution_count": 7,
      "outputs": [
        {
          "output_type": "stream",
          "name": "stdout",
          "text": [
            "배열--> [24492, 56462, 91188, 174815, 358240, 361681, 378209, 393046, 419964, 565306]\n",
            "63729963244 가 637139 위치에 있어요 20 번\n"
          ]
        }
      ]
    }
  ]
}