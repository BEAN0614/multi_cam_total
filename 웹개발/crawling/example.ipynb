{
 "cells": [
  {
   "cell_type": "code",
   "execution_count": 7,
   "id": "32959dbf-6daa-4e8d-92c3-ab0727802fa7",
   "metadata": {},
   "outputs": [
    {
     "name": "stdout",
     "output_type": "stream",
     "text": [
      "sample.csv 파일이 생성되었습니다.\n"
     ]
    }
   ],
   "source": [
    "import requests\n",
    "import xml.etree.ElementTree as ET\n",
    "import pandas as pd\n",
    "SERVICE_KEY = '686e765944696e6636374268707a53'\n",
    "url = f'http://openapi.seoul.go.kr:8088/{SERVICE_KEY}/xml/SpotInfo/1/1000/'\n",
    "response = requests.get(url)\n",
    "root = ET.fromstring(response.content)\n",
    "data = [\n",
    "    {element.tag: element.text for element in row}\n",
    "    for row in root.findall('.//row')\n",
    "]\n",
    "df = pd.DataFrame(data)\n",
    "\n",
    "csv_filename = 'sample.csv'\n",
    "df.to_csv(csv_filename, index=False)\n",
    "\n",
    "print(f'{csv_filename} 파일이 생성되었습니다.')"
   ]
  },
  {
   "cell_type": "code",
   "execution_count": 9,
   "id": "e639522f-e455-4611-ab8c-a7fc7ad63fcc",
   "metadata": {},
   "outputs": [
    {
     "name": "stdout",
     "output_type": "stream",
     "text": [
      "sample2.csv 파일이 생성되었습니다.\n"
     ]
    }
   ],
   "source": [
    "import requests\n",
    "import xml.etree.ElementTree as ET\n",
    "import pandas as pd\n",
    "\n",
    "SERVICE_KEY = '486571534f696e6637376451515174'\n",
    "url = f'http://openapi.seoul.go.kr:8088/{SERVICE_KEY}/xml/SpotInfo/1/1000/'\n",
    "response = requests.get(url)\n",
    "root = ET.fromstring(response.content)\n",
    "data = [\n",
    "    {element.tag: element.text for element in row}\n",
    "    for row in root.findall('.//row')\n",
    "]\n",
    "df = pd.DataFrame(data)\n",
    "\n",
    "csv_filename = 'sample2.csv'\n",
    "df.to_csv(csv_filename, index=False)\n",
    "\n",
    "print(f'{csv_filename} 파일이 생성되었습니다.')"
   ]
  },
  {
   "cell_type": "code",
   "execution_count": null,
   "id": "17772059-dec7-41f8-873e-d7c2a5672c74",
   "metadata": {},
   "outputs": [],
   "source": []
  }
 ],
 "metadata": {
  "kernelspec": {
   "display_name": "Python 3 (ipykernel)",
   "language": "python",
   "name": "python3"
  },
  "language_info": {
   "codemirror_mode": {
    "name": "ipython",
    "version": 3
   },
   "file_extension": ".py",
   "mimetype": "text/x-python",
   "name": "python",
   "nbconvert_exporter": "python",
   "pygments_lexer": "ipython3",
   "version": "3.9.13"
  }
 },
 "nbformat": 4,
 "nbformat_minor": 5
}
