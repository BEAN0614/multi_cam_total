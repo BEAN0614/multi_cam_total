{
  "nbformat": 4,
  "nbformat_minor": 0,
  "metadata": {
    "colab": {
      "provenance": [],
      "gpuType": "T4"
    },
    "kernelspec": {
      "name": "python3",
      "display_name": "Python 3"
    },
    "language_info": {
      "name": "python"
    },
    "accelerator": "GPU"
  },
  "cells": [
    {
      "cell_type": "markdown",
      "source": [
        "## 데이터 불러오기"
      ],
      "metadata": {
        "id": "skNmCtKaXBsV"
      }
    },
    {
      "cell_type": "code",
      "execution_count": 1,
      "metadata": {
        "colab": {
          "base_uri": "https://localhost:8080/"
        },
        "id": "6BiDB1sr5QPh",
        "outputId": "9879e77d-3045-431d-a70f-294c2dbdf5d0"
      },
      "outputs": [
        {
          "output_type": "stream",
          "name": "stdout",
          "text": [
            "Downloading data from https://storage.googleapis.com/tensorflow/tf-keras-datasets/mnist.npz\n",
            "11490434/11490434 [==============================] - 0s 0us/step\n"
          ]
        }
      ],
      "source": [
        "from tensorflow.keras.datasets import mnist\n",
        "(train_images, train_labels), (test_images, test_labels) = mnist.load_data()"
      ]
    },
    {
      "cell_type": "markdown",
      "source": [
        "## 데이터 형태 확인"
      ],
      "metadata": {
        "id": "yC5Aax5mXE__"
      }
    },
    {
      "cell_type": "code",
      "source": [
        "train_images.shape # 3차원 배열"
      ],
      "metadata": {
        "colab": {
          "base_uri": "https://localhost:8080/"
        },
        "id": "CAFitUdWW7am",
        "outputId": "38983715-fb0c-4010-af39-d587c4d0a30c"
      },
      "execution_count": 2,
      "outputs": [
        {
          "output_type": "execute_result",
          "data": {
            "text/plain": [
              "(60000, 28, 28)"
            ]
          },
          "metadata": {},
          "execution_count": 2
        }
      ]
    },
    {
      "cell_type": "code",
      "source": [
        "len(train_labels)"
      ],
      "metadata": {
        "colab": {
          "base_uri": "https://localhost:8080/"
        },
        "id": "kHVtnUj3XASX",
        "outputId": "a49f10df-419d-4b5c-f398-eef4e261cef4"
      },
      "execution_count": 3,
      "outputs": [
        {
          "output_type": "execute_result",
          "data": {
            "text/plain": [
              "60000"
            ]
          },
          "metadata": {},
          "execution_count": 3
        }
      ]
    },
    {
      "cell_type": "code",
      "source": [
        "train_labels[:5]"
      ],
      "metadata": {
        "colab": {
          "base_uri": "https://localhost:8080/"
        },
        "id": "84uymhy7XNlP",
        "outputId": "e5a0624c-acf0-4ea0-af75-2b3aed2b2a5d"
      },
      "execution_count": 4,
      "outputs": [
        {
          "output_type": "execute_result",
          "data": {
            "text/plain": [
              "array([5, 0, 4, 1, 9], dtype=uint8)"
            ]
          },
          "metadata": {},
          "execution_count": 4
        }
      ]
    },
    {
      "cell_type": "code",
      "source": [
        "test_images.shape # 3차원 배열"
      ],
      "metadata": {
        "colab": {
          "base_uri": "https://localhost:8080/"
        },
        "id": "4FZmUEHdXRrt",
        "outputId": "c6690381-f6f3-4177-cb57-d2c43ca6d7e0"
      },
      "execution_count": 5,
      "outputs": [
        {
          "output_type": "execute_result",
          "data": {
            "text/plain": [
              "(10000, 28, 28)"
            ]
          },
          "metadata": {},
          "execution_count": 5
        }
      ]
    },
    {
      "cell_type": "code",
      "source": [
        "test_labels"
      ],
      "metadata": {
        "colab": {
          "base_uri": "https://localhost:8080/"
        },
        "id": "pqKI2VvqXZup",
        "outputId": "df237ce1-39fc-42d3-dc87-c4f07ed5f1cf"
      },
      "execution_count": 6,
      "outputs": [
        {
          "output_type": "execute_result",
          "data": {
            "text/plain": [
              "array([7, 2, 1, ..., 4, 5, 6], dtype=uint8)"
            ]
          },
          "metadata": {},
          "execution_count": 6
        }
      ]
    },
    {
      "cell_type": "markdown",
      "source": [
        "## 신경망 구조"
      ],
      "metadata": {
        "id": "AGRAewdOXtBo"
      }
    },
    {
      "cell_type": "code",
      "source": [
        "from tensorflow import keras\n",
        "from tensorflow.keras import layers\n",
        "model = keras.Sequential([\n",
        "    layers.Dense(512, activation = 'relu'), # 입력\n",
        "    layers.Dense(10, activation='softmax') # 출력, 10이 의미하는 것은 예측할 범주의 갯수, 수치예측을 하려면 1 기입\n",
        "])"
      ],
      "metadata": {
        "id": "eCI_CMMvXk3M"
      },
      "execution_count": 7,
      "outputs": []
    },
    {
      "cell_type": "markdown",
      "source": [
        "## 컴파일 단계\n",
        "- 어떤 형태로 훈련시킬지 정의\n",
        "- 경사하강법 : 기울기를 찾는데 step을 어떤 식으로 할지 정의\n",
        "- 경사 하강법의 종류가 다양함"
      ],
      "metadata": {
        "id": "WUc8mNywZQyM"
      }
    },
    {
      "cell_type": "code",
      "source": [
        "model.compile(optimizer = 'rmsprop',\n",
        "              loss = 'sparse_categorical_crossentropy',\n",
        "              metrics = ['accuracy'])"
      ],
      "metadata": {
        "id": "7jYhoZTUZJZd"
      },
      "execution_count": 8,
      "outputs": []
    },
    {
      "cell_type": "markdown",
      "source": [
        "## 이미지 데이터 준비\n",
        "- 데이터를 모델에 맞는 크기로 변경\n",
        "  + 주의) 이 때, 데이터 타입 변경 >> 연산할 때, 데이터 타입이 안맞아서 다수 오류 발생\n",
        "  + 기본값이 보통 float64, tensorflow 기본값은 float32"
      ],
      "metadata": {
        "id": "O16qjqFAaiwU"
      }
    },
    {
      "cell_type": "code",
      "source": [
        "train_images = train_images.reshape((60000, 28 * 28))\n",
        "train_images = train_images.astype('float32') / 255 # [0, 255] rescale\n",
        "test_images = test_images.reshape((10000, 28 * 28))\n",
        "test_images = test_images.astype('float32') / 255 # [0, 255] rescale\n",
        "\n",
        "train_images.shape, test_images.shape"
      ],
      "metadata": {
        "colab": {
          "base_uri": "https://localhost:8080/"
        },
        "id": "U0-K2L0magcp",
        "outputId": "d72846a4-cafb-42c9-a8e9-a128d0246d0b"
      },
      "execution_count": 9,
      "outputs": [
        {
          "output_type": "execute_result",
          "data": {
            "text/plain": [
              "((60000, 784), (10000, 784))"
            ]
          },
          "metadata": {},
          "execution_count": 9
        }
      ]
    },
    {
      "cell_type": "code",
      "source": [
        "60000/128\n",
        "# 결과가 아래에서 나오는 숫자를 의미"
      ],
      "metadata": {
        "colab": {
          "base_uri": "https://localhost:8080/"
        },
        "id": "qkpuhPkp33Ro",
        "outputId": "08fe119b-fb4a-443c-a5c1-87d4b27f3198"
      },
      "execution_count": 42,
      "outputs": [
        {
          "output_type": "execute_result",
          "data": {
            "text/plain": [
              "468.75"
            ]
          },
          "metadata": {},
          "execution_count": 42
        }
      ]
    },
    {
      "cell_type": "code",
      "source": [
        "model.fit(train_images, train_labels, epochs = 5, batch_size = 128)"
      ],
      "metadata": {
        "colab": {
          "base_uri": "https://localhost:8080/"
        },
        "id": "VM6vSZUQbqXy",
        "outputId": "ed35227e-b17e-4b7c-c894-ad7e068e21b5"
      },
      "execution_count": 10,
      "outputs": [
        {
          "output_type": "stream",
          "name": "stdout",
          "text": [
            "Epoch 1/5\n",
            "469/469 [==============================] - 8s 4ms/step - loss: 0.2686 - accuracy: 0.9217\n",
            "Epoch 2/5\n",
            "469/469 [==============================] - 1s 3ms/step - loss: 0.1081 - accuracy: 0.9675\n",
            "Epoch 3/5\n",
            "469/469 [==============================] - 1s 3ms/step - loss: 0.0713 - accuracy: 0.9792\n",
            "Epoch 4/5\n",
            "469/469 [==============================] - 1s 3ms/step - loss: 0.0507 - accuracy: 0.9848\n",
            "Epoch 5/5\n",
            "469/469 [==============================] - 1s 3ms/step - loss: 0.0381 - accuracy: 0.9882\n"
          ]
        },
        {
          "output_type": "execute_result",
          "data": {
            "text/plain": [
              "<keras.callbacks.History at 0x7e4d6debb550>"
            ]
          },
          "metadata": {},
          "execution_count": 10
        }
      ]
    },
    {
      "cell_type": "code",
      "source": [
        "test_digits = test_images[0:5]\n",
        "predictions = model.predict(test_digits)\n",
        "predictions[0].argmax()"
      ],
      "metadata": {
        "colab": {
          "base_uri": "https://localhost:8080/"
        },
        "id": "FGg05MUlb_S1",
        "outputId": "329e367b-db72-4533-fb4c-cd4b4dca4680"
      },
      "execution_count": 11,
      "outputs": [
        {
          "output_type": "stream",
          "name": "stdout",
          "text": [
            "1/1 [==============================] - 0s 76ms/step\n"
          ]
        },
        {
          "output_type": "execute_result",
          "data": {
            "text/plain": [
              "7"
            ]
          },
          "metadata": {},
          "execution_count": 11
        }
      ]
    },
    {
      "cell_type": "code",
      "source": [
        "predictions[0][7]"
      ],
      "metadata": {
        "colab": {
          "base_uri": "https://localhost:8080/"
        },
        "id": "AXAYV_BmcapE",
        "outputId": "e617b323-519a-42cd-a417-446be31f2afd"
      },
      "execution_count": 12,
      "outputs": [
        {
          "output_type": "execute_result",
          "data": {
            "text/plain": [
              "0.9999571"
            ]
          },
          "metadata": {},
          "execution_count": 12
        }
      ]
    },
    {
      "cell_type": "code",
      "source": [
        "test_labels[0]"
      ],
      "metadata": {
        "colab": {
          "base_uri": "https://localhost:8080/"
        },
        "id": "bXl2_c0Scey9",
        "outputId": "c28da2b4-dec5-4208-f8e4-dde1f6a2c4a3"
      },
      "execution_count": 13,
      "outputs": [
        {
          "output_type": "execute_result",
          "data": {
            "text/plain": [
              "7"
            ]
          },
          "metadata": {},
          "execution_count": 13
        }
      ]
    },
    {
      "cell_type": "code",
      "source": [
        "test_loss, test_acc = model.evaluate(test_images, test_labels)\n",
        "print('테스트 정확도', test_acc)"
      ],
      "metadata": {
        "colab": {
          "base_uri": "https://localhost:8080/"
        },
        "id": "b3bk-b2WclBJ",
        "outputId": "56d25af6-ca20-493c-ab92-5a7622b0e4b3"
      },
      "execution_count": 14,
      "outputs": [
        {
          "output_type": "stream",
          "name": "stdout",
          "text": [
            "313/313 [==============================] - 1s 2ms/step - loss: 0.0727 - accuracy: 0.9786\n",
            "테스트 정확도 0.978600025177002\n"
          ]
        }
      ]
    },
    {
      "cell_type": "markdown",
      "source": [
        "- 정형데이터를 활용\n",
        "  + 전통적인 머신러닝 (LightGBM, 선형회귀)\n",
        "  + 최신 딥러닝\n",
        "\n",
        "- 알고리즘 차이\n",
        "  + 딥러닝의 궁극적 목적 : 기울기를 찾아 오차 최소화하기, 해석이 굉장이 난해해짐\n",
        "  + tabluar deep learning, tabnet\n",
        "- 이미지, 텍스트 비정형 데이터\n",
        "\n",
        "\n",
        "- 평가지표로 설명함!"
      ],
      "metadata": {
        "id": "9PIw7WjLwS89"
      }
    },
    {
      "cell_type": "markdown",
      "source": [
        "### 스칼라(랭크-0 텐서)"
      ],
      "metadata": {
        "id": "LTokcXdcye3n"
      }
    },
    {
      "cell_type": "code",
      "source": [
        "import numpy as np\n",
        "x = np.array(12) # 스칼라 (값 1개)\n",
        "x"
      ],
      "metadata": {
        "colab": {
          "base_uri": "https://localhost:8080/"
        },
        "id": "uJ1j90Nqct4E",
        "outputId": "2b6d8774-d6e6-4113-bf44-394d20a5e4b5"
      },
      "execution_count": 15,
      "outputs": [
        {
          "output_type": "execute_result",
          "data": {
            "text/plain": [
              "array(12)"
            ]
          },
          "metadata": {},
          "execution_count": 15
        }
      ]
    },
    {
      "cell_type": "code",
      "source": [
        "x.ndim"
      ],
      "metadata": {
        "colab": {
          "base_uri": "https://localhost:8080/"
        },
        "id": "oCRi6C0pyrAp",
        "outputId": "af24281e-b13b-4179-d30e-dab395aec63d"
      },
      "execution_count": 16,
      "outputs": [
        {
          "output_type": "execute_result",
          "data": {
            "text/plain": [
              "0"
            ]
          },
          "metadata": {},
          "execution_count": 16
        }
      ]
    },
    {
      "cell_type": "markdown",
      "source": [
        "### 벡터(랭크-1 텐서)"
      ],
      "metadata": {
        "id": "JtHbpsOSyw51"
      }
    },
    {
      "cell_type": "code",
      "source": [
        "x = np.array([12, 3, 6, 14, 7])\n",
        "x"
      ],
      "metadata": {
        "colab": {
          "base_uri": "https://localhost:8080/"
        },
        "id": "llp1PTqCys0Y",
        "outputId": "d34ddcb3-03d7-41db-9d80-dbf78e57b541"
      },
      "execution_count": 17,
      "outputs": [
        {
          "output_type": "execute_result",
          "data": {
            "text/plain": [
              "array([12,  3,  6, 14,  7])"
            ]
          },
          "metadata": {},
          "execution_count": 17
        }
      ]
    },
    {
      "cell_type": "code",
      "source": [
        "x.shape, x.ndim # 1차원 배열 = 랭크-1 텐서 = 벡터"
      ],
      "metadata": {
        "colab": {
          "base_uri": "https://localhost:8080/"
        },
        "id": "tIBTnIIxy34P",
        "outputId": "6745aecc-5cc4-4553-921b-65dd9e34a9b1"
      },
      "execution_count": 18,
      "outputs": [
        {
          "output_type": "execute_result",
          "data": {
            "text/plain": [
              "((5,), 1)"
            ]
          },
          "metadata": {},
          "execution_count": 18
        }
      ]
    },
    {
      "cell_type": "markdown",
      "source": [
        "### 행렬(랭크-2 텐서)"
      ],
      "metadata": {
        "id": "n4KA3_twzCTu"
      }
    },
    {
      "cell_type": "code",
      "source": [
        "x = np.array([[5, 78, 2, 34, 0],\n",
        "               [6, 79, 3, 35, 1],\n",
        "               [7, 80, 4, 36, 2]],\n",
        "              )\n",
        "\n",
        "x.shape, x.ndim # 2차원 배열 = 랭커-2 텐서 = 행렬"
      ],
      "metadata": {
        "colab": {
          "base_uri": "https://localhost:8080/"
        },
        "id": "toaR-qQ6zA61",
        "outputId": "ece41c5b-b693-41f7-a238-8f2406a15dec"
      },
      "execution_count": 21,
      "outputs": [
        {
          "output_type": "execute_result",
          "data": {
            "text/plain": [
              "((3, 5), 2)"
            ]
          },
          "metadata": {},
          "execution_count": 21
        }
      ]
    },
    {
      "cell_type": "markdown",
      "source": [
        "랭크-3 텐서와 더 높은 랭크의 텐서\n"
      ],
      "metadata": {
        "id": "n0Ikb4wDzTEa"
      }
    },
    {
      "cell_type": "code",
      "source": [
        "x = np.array([[[5, 78, 2, 34, 0],\n",
        "               [6, 79, 3, 35, 1],\n",
        "               [7, 80, 4, 36, 2]],\n",
        "              [[5, 78, 2, 34, 0],\n",
        "               [6, 79, 3, 35, 1],\n",
        "               [7, 80, 4, 36, 2]],\n",
        "              [[5, 78, 2, 34, 0],\n",
        "               [6, 79, 3, 35, 1],\n",
        "               [7, 80, 4, 36, 2]]])\n",
        "\n",
        "x.ndim, x.shape"
      ],
      "metadata": {
        "colab": {
          "base_uri": "https://localhost:8080/"
        },
        "id": "Z_fBf4DdzRc1",
        "outputId": "c0bffc05-cf57-4ad2-fd47-286e5deb58b5"
      },
      "execution_count": 23,
      "outputs": [
        {
          "output_type": "execute_result",
          "data": {
            "text/plain": [
              "(3, (3, 3, 5))"
            ]
          },
          "metadata": {},
          "execution_count": 23
        }
      ]
    },
    {
      "cell_type": "markdown",
      "source": [
        "## 데이터 다시보기"
      ],
      "metadata": {
        "id": "-KPhw-Pc0Jq4"
      }
    },
    {
      "cell_type": "code",
      "source": [
        "from tensorflow.keras.datasets import mnist\n",
        "(train_images, train_labels), (test_images, test_labels) = mnist.load_data()"
      ],
      "metadata": {
        "id": "2OOSpz_yzna3"
      },
      "execution_count": 24,
      "outputs": []
    },
    {
      "cell_type": "code",
      "source": [
        "train_images.ndim"
      ],
      "metadata": {
        "colab": {
          "base_uri": "https://localhost:8080/"
        },
        "id": "PWcEAZ7O0bLL",
        "outputId": "f20ed015-d0e6-498a-c27c-64a7eb9e8179"
      },
      "execution_count": 25,
      "outputs": [
        {
          "output_type": "execute_result",
          "data": {
            "text/plain": [
              "3"
            ]
          },
          "metadata": {},
          "execution_count": 25
        }
      ]
    },
    {
      "cell_type": "code",
      "source": [
        "train_images.shape"
      ],
      "metadata": {
        "colab": {
          "base_uri": "https://localhost:8080/"
        },
        "id": "lQnqE3GQ0eS5",
        "outputId": "da340953-9629-4c96-cf92-41bcbd661ed0"
      },
      "execution_count": 27,
      "outputs": [
        {
          "output_type": "execute_result",
          "data": {
            "text/plain": [
              "(60000, 28, 28)"
            ]
          },
          "metadata": {},
          "execution_count": 27
        }
      ]
    },
    {
      "cell_type": "code",
      "source": [
        "train_images.dtype"
      ],
      "metadata": {
        "colab": {
          "base_uri": "https://localhost:8080/"
        },
        "id": "BQp9x2Il0imX",
        "outputId": "dc7eb37c-7470-470c-9064-78dbdd2a58af"
      },
      "execution_count": 28,
      "outputs": [
        {
          "output_type": "execute_result",
          "data": {
            "text/plain": [
              "dtype('uint8')"
            ]
          },
          "metadata": {},
          "execution_count": 28
        }
      ]
    },
    {
      "cell_type": "markdown",
      "source": [
        "## 이미지 출력"
      ],
      "metadata": {
        "id": "qAWRp2da0orv"
      }
    },
    {
      "cell_type": "code",
      "source": [
        "import matplotlib.pyplot as plt\n",
        "digit = train_images[4]\n",
        "plt.imshow(digit, cmap = plt.cm.binary) # cmap = plt.cm.binary로 단정한 느낌 줌\n",
        "plt.show()"
      ],
      "metadata": {
        "colab": {
          "base_uri": "https://localhost:8080/",
          "height": 430
        },
        "id": "XsD5SDtF0myK",
        "outputId": "764d738b-9335-4468-be52-2c71da5633b3"
      },
      "execution_count": 30,
      "outputs": [
        {
          "output_type": "display_data",
          "data": {
            "text/plain": [
              "<Figure size 640x480 with 1 Axes>"
            ],
            "image/png": "[encoded data removed]"
          },
          "metadata": {}
        }
      ]
    },
    {
      "cell_type": "code",
      "source": [
        "fig, ax = plt.subplots()\n",
        "ax.imshow(digit, cmap = plt.cm.binary)\n",
        "plt.show()"
      ],
      "metadata": {
        "colab": {
          "base_uri": "https://localhost:8080/",
          "height": 430
        },
        "id": "i5Q5An-506AQ",
        "outputId": "1e842c2a-1fb6-4f4b-fd29-ce653880c780"
      },
      "execution_count": 31,
      "outputs": [
        {
          "output_type": "display_data",
          "data": {
            "text/plain": [
              "<Figure size 640x480 with 1 Axes>"
            ],
            "image/png": "[encoded data removed]"
          },
          "metadata": {}
        }
      ]
    },
    {
      "cell_type": "code",
      "source": [
        "train_labels[4]"
      ],
      "metadata": {
        "colab": {
          "base_uri": "https://localhost:8080/"
        },
        "id": "di2bkgmQ1Jbs",
        "outputId": "0eed9de7-fb72-432e-c951-bbd5b29d0208"
      },
      "execution_count": 34,
      "outputs": [
        {
          "output_type": "execute_result",
          "data": {
            "text/plain": [
              "9"
            ]
          },
          "metadata": {},
          "execution_count": 34
        }
      ]
    },
    {
      "cell_type": "markdown",
      "source": [
        "## NumPy로 텐서 조작하기"
      ],
      "metadata": {
        "id": "BjT4SSC411Ss"
      }
    },
    {
      "cell_type": "code",
      "source": [
        "# 비추천, 가독성 별로\n",
        "\n",
        "my_slice = train_images[10:100] # 90개의 이미지를 가져옴\n",
        "my_slice.shape"
      ],
      "metadata": {
        "colab": {
          "base_uri": "https://localhost:8080/"
        },
        "id": "oyZsHnHq1mWr",
        "outputId": "55a58219-19f9-48ae-b027-a4edaa5053ed"
      },
      "execution_count": 36,
      "outputs": [
        {
          "output_type": "execute_result",
          "data": {
            "text/plain": [
              "(90, 28, 28)"
            ]
          },
          "metadata": {},
          "execution_count": 36
        }
      ]
    },
    {
      "cell_type": "code",
      "source": [
        "my_slice = train_images[10:100, :, :]\n",
        "my_slice.shape"
      ],
      "metadata": {
        "colab": {
          "base_uri": "https://localhost:8080/"
        },
        "id": "RRPLMHUi2Ajq",
        "outputId": "0e5958c7-c7f1-4d6d-f827-6c70a5e3f547"
      },
      "execution_count": 37,
      "outputs": [
        {
          "output_type": "execute_result",
          "data": {
            "text/plain": [
              "(90, 28, 28)"
            ]
          },
          "metadata": {},
          "execution_count": 37
        }
      ]
    },
    {
      "cell_type": "code",
      "source": [
        "my_slice = train_images[10:100, 0:28, 0:28]\n",
        "my_slice.shape"
      ],
      "metadata": {
        "colab": {
          "base_uri": "https://localhost:8080/"
        },
        "id": "V0TCpyL02I-W",
        "outputId": "6bf4b5cb-95ac-4223-a019-fc43d8a4412b"
      },
      "execution_count": 38,
      "outputs": [
        {
          "output_type": "execute_result",
          "data": {
            "text/plain": [
              "(90, 28, 28)"
            ]
          },
          "metadata": {},
          "execution_count": 38
        }
      ]
    },
    {
      "cell_type": "code",
      "source": [
        "my_slice = train_images[:, 14:, 14:] # 오른쪽 아래\n",
        "my_slice.shape"
      ],
      "metadata": {
        "colab": {
          "base_uri": "https://localhost:8080/"
        },
        "id": "crseq2ui2Mlq",
        "outputId": "0bbff3a2-0868-40d7-f4fd-25e062c2b350"
      },
      "execution_count": 39,
      "outputs": [
        {
          "output_type": "execute_result",
          "data": {
            "text/plain": [
              "(60000, 14, 14)"
            ]
          },
          "metadata": {},
          "execution_count": 39
        }
      ]
    },
    {
      "cell_type": "code",
      "source": [
        "my_slice = train_images[:, 7:-7, 7:-7]\n",
        "my_slice.shape"
      ],
      "metadata": {
        "colab": {
          "base_uri": "https://localhost:8080/"
        },
        "id": "WNZE8Sma2gEm",
        "outputId": "b34c790a-6681-4b28-bc12-eef02db4728c"
      },
      "execution_count": 40,
      "outputs": [
        {
          "output_type": "execute_result",
          "data": {
            "text/plain": [
              "(60000, 14, 14)"
            ]
          },
          "metadata": {},
          "execution_count": 40
        }
      ]
    },
    {
      "cell_type": "markdown",
      "source": [
        "## 배치 데이터\n",
        "- 딥러닝 모델을 한번에 전체 데이터셋을 처리하지 않는다\n",
        "- 대신 데이터를 작은 배치로 나눔"
      ],
      "metadata": {
        "id": "7RoYP79-3JB-"
      }
    },
    {
      "cell_type": "code",
      "source": [
        "batch = train_images[:128] # 이미지 갯수를 나눔"
      ],
      "metadata": {
        "id": "XRKvmID22-gE"
      },
      "execution_count": 41,
      "outputs": []
    },
    {
      "cell_type": "markdown",
      "source": [
        "## 텐서 연산\n",
        "- 75 페이지"
      ],
      "metadata": {
        "id": "tuAf4CsA7EV1"
      }
    },
    {
      "cell_type": "code",
      "source": [
        "# keras.layers.Dense(512, activation = 'relu')"
      ],
      "metadata": {
        "id": "k4S8WPlC3sbk"
      },
      "execution_count": 43,
      "outputs": []
    },
    {
      "cell_type": "code",
      "source": [
        "def naive_relu(x): # 2차원 배열\n",
        "  assert len(x.shape) == 2\n",
        "  x = x.copy() # 입력 텐서 자체를 바꾸지 않고 복사함\n",
        "  for i in range(x.shape[0]):\n",
        "    for j in range(x.shape[1]):\n",
        "      x[i, j] = max(x[i, j], 0)\n",
        "\n",
        "  return x\n",
        "\n",
        "def naive_add(x, y):\n",
        "  assert len(x.shape) == 2 # 2차원 배열\n",
        "  assert x.shape == y.shape\n",
        "  x = x.copy()\n",
        "  for i in range(x.shape[0]):\n",
        "    for j in range(x.shape[1]):\n",
        "      x[i, j] += y[i, j]\n",
        "  return x"
      ],
      "metadata": {
        "id": "o85sSHa27Vgn"
      },
      "execution_count": 47,
      "outputs": []
    },
    {
      "cell_type": "markdown",
      "source": [
        "- 원소별 연산"
      ],
      "metadata": {
        "id": "q5BBN2Bl87Lw"
      }
    },
    {
      "cell_type": "code",
      "source": [
        "import time\n",
        "\n",
        "x = np.random.random((20, 100))\n",
        "y = np.random.random((20, 100))\n",
        "\n",
        "t0 = time.time()\n",
        "for _ in range(1000):\n",
        "  z = x + y # 각각 원소별 덧셈\n",
        "  z = np.maximum(z, 0.) # 월소별 렐루 함수\n",
        "print(\"걸린 시간: {0:.2f} s\".format(time.time() - t0))"
      ],
      "metadata": {
        "colab": {
          "base_uri": "https://localhost:8080/"
        },
        "id": "w87pfoS78BhC",
        "outputId": "9d2d57ce-25d0-41e7-e1cd-0eb597bca4df"
      },
      "execution_count": 49,
      "outputs": [
        {
          "output_type": "stream",
          "name": "stdout",
          "text": [
            "걸린 시간: 0.01 s\n"
          ]
        }
      ]
    },
    {
      "cell_type": "code",
      "source": [
        "t0 = time.time()\n",
        "for _ in range(1000):\n",
        "  z = naive_add(x, y)\n",
        "  z = naive_relu(z)\n",
        "print(\"걸린 시간: {0:.2f} s\".format(time.time() - t0))"
      ],
      "metadata": {
        "colab": {
          "base_uri": "https://localhost:8080/"
        },
        "id": "7EXqhVkZ9YLf",
        "outputId": "6cb28d62-c42f-40ee-d244-6c86199d8f39"
      },
      "execution_count": 50,
      "outputs": [
        {
          "output_type": "stream",
          "name": "stdout",
          "text": [
            "걸린 시간: 2.43 s\n"
          ]
        }
      ]
    },
    {
      "cell_type": "markdown",
      "source": [
        "## 브로드캐스팅\n",
        "- 참고 : https://numpy.org/doc/stable/user/basics.broadcasting.html"
      ],
      "metadata": {
        "id": "2lsSaS-H-jSP"
      }
    },
    {
      "cell_type": "code",
      "source": [
        "import numpy as np\n",
        "X = np.random.random((32, 10)) # X는 크기가 32, 10인 행렬\n",
        "y = np.random.random((10, )) # 1차원 벡터\n",
        "\n",
        "y.shape, y.ndim"
      ],
      "metadata": {
        "colab": {
          "base_uri": "https://localhost:8080/"
        },
        "id": "NI-4H3Fj9mYa",
        "outputId": "d344e731-332f-43e1-ad68-1addf63ab3ad"
      },
      "execution_count": 61,
      "outputs": [
        {
          "output_type": "execute_result",
          "data": {
            "text/plain": [
              "((10,), 1)"
            ]
          },
          "metadata": {},
          "execution_count": 61
        }
      ]
    },
    {
      "cell_type": "code",
      "source": [
        "y = np.expand_dims(y, axis = 0) # 2차원 행렬\n",
        "y.shape, y.ndim"
      ],
      "metadata": {
        "colab": {
          "base_uri": "https://localhost:8080/"
        },
        "id": "OkBssnwn-11L",
        "outputId": "b94ee98f-75e6-4457-dc08-58b9223a3464"
      },
      "execution_count": 62,
      "outputs": [
        {
          "output_type": "execute_result",
          "data": {
            "text/plain": [
              "((1, 10), 2)"
            ]
          },
          "metadata": {},
          "execution_count": 62
        }
      ]
    },
    {
      "cell_type": "code",
      "source": [
        "Y = np.concatenate([y]* 32, axis = 0)\n",
        "Y.shape, y.ndim"
      ],
      "metadata": {
        "colab": {
          "base_uri": "https://localhost:8080/"
        },
        "id": "HaY2xn_p_CPw",
        "outputId": "cafa926c-f613-4361-cf22-3e292f34e254"
      },
      "execution_count": 63,
      "outputs": [
        {
          "output_type": "execute_result",
          "data": {
            "text/plain": [
              "((32, 10), 2)"
            ]
          },
          "metadata": {},
          "execution_count": 63
        }
      ]
    },
    {
      "cell_type": "code",
      "source": [
        "def naive_add_matrix_and_vector(x, y):\n",
        "    assert len(x.shape) == 2\n",
        "    assert len(y.shape) == 1\n",
        "    assert x.shape[1] == y.shape[0]\n",
        "    x = x.copy()\n",
        "    for i in range(x.shape[0]):\n",
        "        for j in range(x.shape[1]):\n",
        "            x[i, j] += y[j]\n",
        "    return x"
      ],
      "metadata": {
        "id": "CLT3N_JM_Usd"
      },
      "execution_count": 64,
      "outputs": []
    },
    {
      "cell_type": "code",
      "source": [
        "# 79 페이지\n",
        "import numpy as np\n",
        "x = np.random.random((64, 3, 32, 10)) # 4차원\n",
        "y = np.random.random((32, 10)) # 배열 다름 2차원\n",
        "z = np.maximum(x, y) # 4차원"
      ],
      "metadata": {
        "id": "cmzSLaa9ABnh"
      },
      "execution_count": 65,
      "outputs": []
    },
    {
      "cell_type": "code",
      "source": [
        "z.shape, x.shape, x.ndim, y.ndim"
      ],
      "metadata": {
        "colab": {
          "base_uri": "https://localhost:8080/"
        },
        "id": "6GhJyj8-AYrB",
        "outputId": "7d0b1975-96ab-4ae8-dd57-58d24b666f92"
      },
      "execution_count": 68,
      "outputs": [
        {
          "output_type": "execute_result",
          "data": {
            "text/plain": [
              "((64, 3, 32, 10), (64, 3, 32, 10), 4, 2)"
            ]
          },
          "metadata": {},
          "execution_count": 68
        }
      ]
    },
    {
      "cell_type": "markdown",
      "source": [
        "## 텐서 곱셈\n"
      ],
      "metadata": {
        "id": "f8MwdyKbAlhv"
      }
    },
    {
      "cell_type": "code",
      "source": [
        "# 행렬 곱셈 np.dot 79 페이지\n",
        "x = np.random.random((32, ))\n",
        "y = np.random.random((32, ))\n",
        "z = np.dot(x, y)\n",
        "z"
      ],
      "metadata": {
        "colab": {
          "base_uri": "https://localhost:8080/"
        },
        "id": "RwXBeztgAfZe",
        "outputId": "8730bdcb-4314-4268-f5c6-e48c6619a5f5"
      },
      "execution_count": 71,
      "outputs": [
        {
          "output_type": "execute_result",
          "data": {
            "text/plain": [
              "8.358470294577513"
            ]
          },
          "metadata": {},
          "execution_count": 71
        }
      ]
    },
    {
      "cell_type": "code",
      "source": [
        "def naive_vector_dot(x, y):\n",
        "    assert len(x.shape) == 1\n",
        "    assert len(y.shape) == 1\n",
        "    assert x.shape[0] == y.shape[0]\n",
        "    z = 0.\n",
        "    for i in range(x.shape[0]):\n",
        "        z += x[i] * y[i]\n",
        "    return z"
      ],
      "metadata": {
        "id": "N41smAaLA-rJ"
      },
      "execution_count": 72,
      "outputs": []
    },
    {
      "cell_type": "code",
      "source": [
        "naive_vector_dot(x, y)"
      ],
      "metadata": {
        "colab": {
          "base_uri": "https://localhost:8080/"
        },
        "id": "t7CHkI9MBW88",
        "outputId": "c3e4fc0e-f592-4332-eb31-0b9f19b0d1f1"
      },
      "execution_count": 73,
      "outputs": [
        {
          "output_type": "execute_result",
          "data": {
            "text/plain": [
              "8.358470294577515"
            ]
          },
          "metadata": {},
          "execution_count": 73
        }
      ]
    },
    {
      "cell_type": "markdown",
      "source": [
        "- 행렬과 벡터를 행렬곱하는 메서드 만듦"
      ],
      "metadata": {
        "id": "WFa3NDlWBibT"
      }
    },
    {
      "cell_type": "code",
      "source": [
        "np.zeros(15)"
      ],
      "metadata": {
        "colab": {
          "base_uri": "https://localhost:8080/"
        },
        "id": "rwg8cu_IB_vk",
        "outputId": "d0f63ab0-1d2e-4493-febd-2b045434b117"
      },
      "execution_count": 76,
      "outputs": [
        {
          "output_type": "execute_result",
          "data": {
            "text/plain": [
              "array([0., 0., 0., 0., 0., 0., 0., 0., 0., 0., 0., 0., 0., 0., 0.])"
            ]
          },
          "metadata": {},
          "execution_count": 76
        }
      ]
    },
    {
      "cell_type": "code",
      "source": [
        "def naive_matrix_vector_dot(x, y):\n",
        "    assert len(x.shape) == 2 # 2차원 행렬\n",
        "    assert len(y.shape) == 1 # 1차원 벡터\n",
        "    assert x.shape[1] == y.shape[0]\n",
        "    z = np.zeros(x.shape[0])\n",
        "    for i in range(x.shape[0]):\n",
        "        for j in range(x.shape[1]):\n",
        "            z[i] += x[i, j] * y[j]\n",
        "    return z"
      ],
      "metadata": {
        "id": "nfX6nezbBZX5"
      },
      "execution_count": 75,
      "outputs": []
    },
    {
      "cell_type": "markdown",
      "source": [
        "- 기존에 만든 함수를 재사용해서 표현"
      ],
      "metadata": {
        "id": "Bao-3TlkCNoP"
      }
    },
    {
      "cell_type": "code",
      "source": [
        "def naive_matrix_vector_dot(x, y):\n",
        "    z = np.zeros(x.shape[0])\n",
        "    for i in range(x.shape[0]):\n",
        "        z[i] = naive_vector_dot(x[i, :], y)\n",
        "    return z"
      ],
      "metadata": {
        "id": "_phvwPAmCQW9"
      },
      "execution_count": 77,
      "outputs": []
    },
    {
      "cell_type": "markdown",
      "source": [
        "- 행렬곱 연산 함수를 구현함"
      ],
      "metadata": {
        "id": "yA5yMFTcCcwt"
      }
    },
    {
      "cell_type": "code",
      "source": [
        "def naive_matrix_dot(x, y):\n",
        "    assert len(x.shape) == 2\n",
        "    assert len(y.shape) == 2\n",
        "    assert x.shape[1] == y.shape[0]\n",
        "    z = np.zeros((x.shape[0], y.shape[1]))\n",
        "    for i in range(x.shape[0]):\n",
        "        for j in range(y.shape[1]):\n",
        "            row_x = x[i, :]\n",
        "            column_y = y[:, j]\n",
        "            z[i, j] = naive_vector_dot(row_x, column_y)\n",
        "    return z"
      ],
      "metadata": {
        "id": "4Y4FdCZvCewx"
      },
      "execution_count": 78,
      "outputs": []
    },
    {
      "cell_type": "markdown",
      "source": [
        "- 텐서플로는 행렬곱 연산을 기반으로 한다!"
      ],
      "metadata": {
        "id": "9BNjUscLCzzz"
      }
    },
    {
      "cell_type": "code",
      "source": [
        "x = np.random.random((64, 32))\n",
        "y = np.random.random((32, 16))\n",
        "z = np.random.random((16, 8))\n",
        "\n",
        "result = naive_matrix_dot(x, y)\n",
        "naive_matrix_dot(result, z)"
      ],
      "metadata": {
        "colab": {
          "base_uri": "https://localhost:8080/"
        },
        "id": "MGVx0EWfDAay",
        "outputId": "7664bad0-704e-418d-ef6a-a73e6201a93b"
      },
      "execution_count": 80,
      "outputs": [
        {
          "output_type": "execute_result",
          "data": {
            "text/plain": [
              "array([[61.90227025, 54.93339372, 56.58474926, 57.6231211 , 64.64279953,\n",
              "        55.57201932, 58.9441025 , 55.48278782],\n",
              "       [65.28362069, 57.72120748, 59.03516899, 59.27863366, 67.40312941,\n",
              "        57.71326712, 59.75565305, 57.53577884],\n",
              "       [52.03021323, 46.17237925, 47.40875399, 48.38326007, 54.13677255,\n",
              "        46.84078126, 49.22457433, 46.27440423],\n",
              "       [64.37889545, 56.86334186, 58.56596004, 60.2125276 , 66.35393171,\n",
              "        58.08118421, 61.4601589 , 56.3043486 ],\n",
              "       [62.99374249, 55.06108741, 56.41928091, 57.99886877, 64.71559863,\n",
              "        56.53366773, 58.66937017, 54.95823133],\n",
              "       [63.28440352, 55.20980368, 57.97375918, 57.64810893, 65.68461036,\n",
              "        56.93795164, 58.54871655, 55.82414901],\n",
              "       [64.26133639, 56.87422487, 59.17549308, 59.99837587, 67.04831721,\n",
              "        58.09590631, 61.88857253, 56.20849349],\n",
              "       [60.11123549, 53.47067988, 55.21240203, 55.751399  , 63.04733373,\n",
              "        54.8801024 , 56.4307723 , 53.64864578],\n",
              "       [52.04080602, 47.71832623, 48.82603093, 49.42984709, 55.26289114,\n",
              "        47.42332919, 50.35192414, 45.57921154],\n",
              "       [64.51217968, 58.26174857, 59.76667245, 60.27101829, 67.13330779,\n",
              "        59.41034277, 62.02396124, 56.34091753],\n",
              "       [66.40674622, 59.50754733, 61.13108791, 62.40721875, 69.94032851,\n",
              "        60.31053487, 63.44061983, 59.09749799],\n",
              "       [71.59405185, 64.36823275, 64.87736674, 68.04650979, 75.06377073,\n",
              "        64.35054689, 67.58555171, 62.90339816],\n",
              "       [60.04424211, 52.69027157, 53.38096266, 54.67772054, 60.74530878,\n",
              "        53.11008308, 56.04891628, 52.2673787 ],\n",
              "       [58.79479383, 54.04025408, 54.89981036, 55.91258666, 62.4087404 ,\n",
              "        53.25469651, 56.13413423, 51.20688881],\n",
              "       [60.06821829, 53.39710449, 54.34505347, 55.7545675 , 62.02931489,\n",
              "        53.25218338, 57.18161151, 52.2928343 ],\n",
              "       [79.45557609, 70.35534127, 72.08274042, 73.26182494, 82.29575313,\n",
              "        70.59196696, 74.65335294, 69.73272175],\n",
              "       [58.33571398, 51.38410284, 52.59827507, 54.05419576, 60.12916927,\n",
              "        51.60471663, 54.95502133, 51.00176131],\n",
              "       [70.2721648 , 62.63797437, 64.14153444, 64.36750158, 72.71899515,\n",
              "        62.35760655, 65.89662991, 61.70559742],\n",
              "       [57.06221423, 49.7304303 , 51.63512303, 52.6313648 , 58.93959437,\n",
              "        51.05043491, 53.85727133, 50.27185162],\n",
              "       [80.34185287, 70.18041142, 72.70279329, 72.97648346, 82.47757144,\n",
              "        72.09581466, 75.2299314 , 71.11141156],\n",
              "       [67.85326773, 58.85107764, 61.28288661, 62.83904012, 70.13254774,\n",
              "        60.81593504, 63.63292999, 58.67832487],\n",
              "       [62.96221684, 54.40233245, 56.48561532, 57.43668371, 64.77641479,\n",
              "        55.70058005, 58.67512274, 55.06636998],\n",
              "       [57.86169682, 51.18479331, 51.88089117, 54.29877591, 59.35874935,\n",
              "        51.88721077, 55.63202529, 49.80818101],\n",
              "       [66.69211852, 57.81508173, 60.03912998, 60.96670484, 68.5384225 ,\n",
              "        59.34858887, 62.33696057, 57.97836278],\n",
              "       [61.47707704, 54.23515345, 56.36075223, 56.96905193, 64.147964  ,\n",
              "        55.40802458, 58.44583458, 54.03894477],\n",
              "       [72.05560526, 64.25709527, 65.92574953, 66.86630253, 74.7285812 ,\n",
              "        65.18641801, 68.81845276, 64.09304995],\n",
              "       [66.58031178, 57.97660189, 59.94311178, 60.45807367, 68.34031779,\n",
              "        59.73419658, 61.56696611, 58.10946802],\n",
              "       [57.53379543, 50.47228642, 51.92433619, 52.56408447, 59.80686794,\n",
              "        50.85547153, 52.96614438, 50.84073479],\n",
              "       [71.3819565 , 61.19920542, 64.73613336, 64.63426864, 72.96246211,\n",
              "        64.90910202, 67.8355314 , 63.38865032],\n",
              "       [69.80188902, 62.70352476, 63.66512633, 65.66834369, 73.16532346,\n",
              "        62.95686087, 65.82956996, 62.35888666],\n",
              "       [63.71623153, 57.61583018, 58.58883371, 61.139598  , 67.52333767,\n",
              "        58.24755781, 61.56214656, 55.96582121],\n",
              "       [73.68862139, 65.34180178, 67.36988719, 67.86109457, 76.27122751,\n",
              "        66.0873957 , 69.69243138, 65.04406003],\n",
              "       [57.88180557, 51.58389705, 52.58973817, 52.21584107, 59.57946639,\n",
              "        51.24487528, 53.71520901, 50.90736558],\n",
              "       [65.55987427, 57.8278912 , 59.01446602, 60.34301809, 67.66303339,\n",
              "        57.94021635, 61.2463038 , 57.06588253],\n",
              "       [58.91974539, 50.465095  , 51.93983055, 53.22345974, 59.07619383,\n",
              "        51.51725644, 54.54343694, 50.3140647 ],\n",
              "       [66.86450276, 60.22788284, 61.22683547, 63.58468998, 70.93548428,\n",
              "        60.55318274, 63.59808021, 59.1834173 ],\n",
              "       [55.18853476, 49.73904167, 51.91296974, 51.52696371, 59.02095275,\n",
              "        51.12503781, 52.22017519, 50.11046625],\n",
              "       [65.27705145, 57.11299419, 58.95183339, 60.10091662, 67.51957117,\n",
              "        58.30167242, 60.52460615, 56.63690342],\n",
              "       [70.19252436, 61.9517188 , 63.13992068, 63.79766403, 72.1604419 ,\n",
              "        61.67480463, 64.76617965, 60.68718116],\n",
              "       [67.13225323, 58.92289506, 61.33589078, 61.21200627, 69.37177788,\n",
              "        60.30281226, 63.43437622, 59.05533396],\n",
              "       [64.76463309, 58.68336279, 59.15346289, 60.12078943, 67.41567016,\n",
              "        58.37748898, 61.55764273, 57.83839856],\n",
              "       [55.64550828, 48.84552096, 50.07389514, 50.35416386, 57.26920368,\n",
              "        49.37470498, 50.37759316, 48.97284508],\n",
              "       [65.22519797, 56.73768757, 57.67296323, 59.98316946, 66.54167136,\n",
              "        57.21131078, 60.78615135, 56.38751558],\n",
              "       [70.70309906, 63.07959446, 65.29930547, 65.83430373, 74.12281473,\n",
              "        64.01108998, 67.23823538, 62.52992623],\n",
              "       [53.79932061, 48.48950525, 49.63172024, 50.19077059, 56.46892996,\n",
              "        48.13725456, 51.68236776, 47.63359352],\n",
              "       [66.25611308, 57.65396289, 59.22791057, 61.59492642, 68.23506619,\n",
              "        58.34227914, 61.80029727, 56.78907269],\n",
              "       [62.92403376, 56.25033282, 57.83589401, 58.65611597, 66.21603838,\n",
              "        57.48662145, 59.26805399, 56.32944029],\n",
              "       [63.25468294, 55.56942808, 57.57917754, 59.08258556, 66.21983374,\n",
              "        57.36743935, 59.30268669, 55.49612429],\n",
              "       [74.40087599, 64.99984902, 67.37266959, 67.23331642, 76.21098605,\n",
              "        66.64843238, 69.07928733, 64.69591347],\n",
              "       [79.46844018, 68.64301197, 70.72937588, 73.56605893, 80.98488426,\n",
              "        70.48409572, 75.13487026, 69.15745842],\n",
              "       [68.94283226, 60.03507445, 62.40407185, 62.41915685, 70.9370479 ,\n",
              "        61.36027621, 64.1243689 , 60.83781134],\n",
              "       [70.82563837, 62.8951058 , 64.49825714, 65.11231839, 73.43595833,\n",
              "        63.30469487, 66.88019432, 62.72987232],\n",
              "       [58.88119343, 51.62031449, 54.01617674, 54.93062416, 61.42706354,\n",
              "        53.17443074, 55.96171658, 50.87345214],\n",
              "       [62.06205167, 53.52564189, 56.1208151 , 57.03074792, 63.94076957,\n",
              "        55.12656618, 58.69989929, 53.91957641],\n",
              "       [76.77189943, 68.90586438, 70.51527117, 70.95707585, 80.00415515,\n",
              "        68.67498828, 72.77656407, 67.52831907],\n",
              "       [71.44384528, 63.48546877, 65.31281833, 65.90033342, 73.66694231,\n",
              "        64.6311352 , 67.62186547, 62.14942757],\n",
              "       [61.01737235, 53.5138985 , 54.56099471, 55.32573464, 62.04517748,\n",
              "        54.39468642, 56.80656225, 53.66135917],\n",
              "       [65.72174647, 59.6743669 , 60.92493251, 62.55636219, 69.45740832,\n",
              "        59.22093379, 63.86306471, 57.17463008],\n",
              "       [56.35671616, 49.10782863, 50.89657075, 51.45323961, 58.23968556,\n",
              "        50.73913667, 52.28858604, 49.23506967],\n",
              "       [60.75669556, 52.65123987, 54.83180316, 54.92286091, 62.14495888,\n",
              "        54.21877349, 56.6270093 , 53.20479993],\n",
              "       [70.1133889 , 62.04330141, 63.99508329, 65.08499179, 72.78191504,\n",
              "        62.86169671, 66.14347985, 60.58715072],\n",
              "       [62.78053819, 54.96615925, 56.41167104, 58.71363778, 65.38537559,\n",
              "        55.79979872, 58.66296845, 54.55465873],\n",
              "       [62.03686823, 55.00901803, 56.76268245, 56.48381368, 64.11440151,\n",
              "        55.88130837, 58.31915559, 54.20193031],\n",
              "       [71.6498928 , 62.99828809, 64.85756906, 66.92582295, 74.16924096,\n",
              "        64.57580605, 68.41416729, 61.96323077]])"
            ]
          },
          "metadata": {},
          "execution_count": 80
        }
      ]
    },
    {
      "cell_type": "markdown",
      "source": [
        "## 텐서 크기 변환"
      ],
      "metadata": {
        "id": "ApNU7eAlD66R"
      }
    },
    {
      "cell_type": "code",
      "source": [
        "train_images = train_images.reshape((60000, 28 * 28))"
      ],
      "metadata": {
        "id": "aVB83nP0DH0-"
      },
      "execution_count": 81,
      "outputs": []
    },
    {
      "cell_type": "code",
      "source": [
        "x = np.array([[0., 1.],\n",
        "             [2., 3.],\n",
        "             [4., 5.]])\n",
        "x.shape"
      ],
      "metadata": {
        "colab": {
          "base_uri": "https://localhost:8080/"
        },
        "id": "n7V1iveyED_2",
        "outputId": "a7478641-d426-4ac7-d043-251cfbd771a6"
      },
      "execution_count": 88,
      "outputs": [
        {
          "output_type": "execute_result",
          "data": {
            "text/plain": [
              "(3, 2)"
            ]
          },
          "metadata": {},
          "execution_count": 88
        }
      ]
    },
    {
      "cell_type": "code",
      "source": [
        "x.reshape((2, 3))"
      ],
      "metadata": {
        "colab": {
          "base_uri": "https://localhost:8080/"
        },
        "id": "1Gtj4CnKELP6",
        "outputId": "2d209026-7bad-456d-f014-93138d3ea1cb"
      },
      "execution_count": 89,
      "outputs": [
        {
          "output_type": "execute_result",
          "data": {
            "text/plain": [
              "array([[0., 1., 2.],\n",
              "       [3., 4., 5.]])"
            ]
          },
          "metadata": {},
          "execution_count": 89
        }
      ]
    },
    {
      "cell_type": "code",
      "source": [
        "x = np.zeros((300, 20))\n",
        "x = np.transpose(x)\n",
        "x.shape"
      ],
      "metadata": {
        "colab": {
          "base_uri": "https://localhost:8080/"
        },
        "id": "6Fo6CJSqEN2K",
        "outputId": "ce70d9c5-6a6f-4862-8e53-ad5a3ff202b2"
      },
      "execution_count": 90,
      "outputs": [
        {
          "output_type": "execute_result",
          "data": {
            "text/plain": [
              "(20, 300)"
            ]
          },
          "metadata": {},
          "execution_count": 90
        }
      ]
    },
    {
      "cell_type": "code",
      "source": [],
      "metadata": {
        "id": "WPX2A5HAE3DQ"
      },
      "execution_count": null,
      "outputs": []
    }
  ]
}
