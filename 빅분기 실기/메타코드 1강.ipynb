{
 "cells": [
  {
   "cell_type": "markdown",
   "id": "a07bc73f",
   "metadata": {},
   "source": [
    "## 데이터 불러오기"
   ]
  },
  {
   "cell_type": "code",
   "execution_count": 1,
   "id": "7c1eb9a2",
   "metadata": {},
   "outputs": [],
   "source": [
    "import pandas as pd\n",
    "import numpy as np"
   ]
  },
  {
   "cell_type": "code",
   "execution_count": 2,
   "id": "c2fd3932",
   "metadata": {},
   "outputs": [
    {
     "data": {
      "text/html": [
       "<div>\n",
       "<style scoped>\n",
       "    .dataframe tbody tr th:only-of-type {\n",
       "        vertical-align: middle;\n",
       "    }\n",
       "\n",
       "    .dataframe tbody tr th {\n",
       "        vertical-align: top;\n",
       "    }\n",
       "\n",
       "    .dataframe thead th {\n",
       "        text-align: right;\n",
       "    }\n",
       "</style>\n",
       "<table border=\"1\" class=\"dataframe\">\n",
       "  <thead>\n",
       "    <tr style=\"text-align: right;\">\n",
       "      <th></th>\n",
       "      <th>model</th>\n",
       "      <th>mpg</th>\n",
       "      <th>cyl</th>\n",
       "      <th>disp</th>\n",
       "      <th>hp</th>\n",
       "      <th>drat</th>\n",
       "      <th>wt</th>\n",
       "      <th>qsec</th>\n",
       "      <th>vs</th>\n",
       "      <th>am</th>\n",
       "      <th>gear</th>\n",
       "      <th>carb</th>\n",
       "    </tr>\n",
       "  </thead>\n",
       "  <tbody>\n",
       "    <tr>\n",
       "      <th>0</th>\n",
       "      <td>Mazda RX4</td>\n",
       "      <td>21.0</td>\n",
       "      <td>6</td>\n",
       "      <td>160.0</td>\n",
       "      <td>110</td>\n",
       "      <td>3.90</td>\n",
       "      <td>2.620</td>\n",
       "      <td>16.46</td>\n",
       "      <td>0</td>\n",
       "      <td>1</td>\n",
       "      <td>4</td>\n",
       "      <td>4</td>\n",
       "    </tr>\n",
       "    <tr>\n",
       "      <th>1</th>\n",
       "      <td>Mazda RX4 Wag</td>\n",
       "      <td>21.0</td>\n",
       "      <td>6</td>\n",
       "      <td>160.0</td>\n",
       "      <td>110</td>\n",
       "      <td>3.90</td>\n",
       "      <td>2.875</td>\n",
       "      <td>17.02</td>\n",
       "      <td>0</td>\n",
       "      <td>1</td>\n",
       "      <td>4</td>\n",
       "      <td>4</td>\n",
       "    </tr>\n",
       "    <tr>\n",
       "      <th>2</th>\n",
       "      <td>Datsun 710</td>\n",
       "      <td>22.8</td>\n",
       "      <td>4</td>\n",
       "      <td>108.0</td>\n",
       "      <td>93</td>\n",
       "      <td>3.85</td>\n",
       "      <td>2.320</td>\n",
       "      <td>18.61</td>\n",
       "      <td>1</td>\n",
       "      <td>1</td>\n",
       "      <td>4</td>\n",
       "      <td>1</td>\n",
       "    </tr>\n",
       "    <tr>\n",
       "      <th>3</th>\n",
       "      <td>Hornet 4 Drive</td>\n",
       "      <td>21.4</td>\n",
       "      <td>6</td>\n",
       "      <td>258.0</td>\n",
       "      <td>110</td>\n",
       "      <td>3.08</td>\n",
       "      <td>3.215</td>\n",
       "      <td>19.44</td>\n",
       "      <td>1</td>\n",
       "      <td>0</td>\n",
       "      <td>3</td>\n",
       "      <td>1</td>\n",
       "    </tr>\n",
       "    <tr>\n",
       "      <th>4</th>\n",
       "      <td>Hornet Sportabout</td>\n",
       "      <td>18.7</td>\n",
       "      <td>8</td>\n",
       "      <td>360.0</td>\n",
       "      <td>175</td>\n",
       "      <td>3.15</td>\n",
       "      <td>3.440</td>\n",
       "      <td>17.02</td>\n",
       "      <td>0</td>\n",
       "      <td>0</td>\n",
       "      <td>3</td>\n",
       "      <td>2</td>\n",
       "    </tr>\n",
       "  </tbody>\n",
       "</table>\n",
       "</div>"
      ],
      "text/plain": [
       "               model   mpg  cyl   disp   hp  drat     wt   qsec  vs  am  gear  \\\n",
       "0          Mazda RX4  21.0    6  160.0  110  3.90  2.620  16.46   0   1     4   \n",
       "1      Mazda RX4 Wag  21.0    6  160.0  110  3.90  2.875  17.02   0   1     4   \n",
       "2         Datsun 710  22.8    4  108.0   93  3.85  2.320  18.61   1   1     4   \n",
       "3     Hornet 4 Drive  21.4    6  258.0  110  3.08  3.215  19.44   1   0     3   \n",
       "4  Hornet Sportabout  18.7    8  360.0  175  3.15  3.440  17.02   0   0     3   \n",
       "\n",
       "   carb  \n",
       "0     4  \n",
       "1     4  \n",
       "2     1  \n",
       "3     1  \n",
       "4     2  "
      ]
     },
     "execution_count": 2,
     "metadata": {},
     "output_type": "execute_result"
    }
   ],
   "source": [
    "df = pd.read_csv('mtcars.csv')\n",
    "df.head()"
   ]
  },
  {
   "cell_type": "markdown",
   "id": "99b03a7e",
   "metadata": {},
   "source": [
    "## 1. 데이터 type(object, int, float...)"
   ]
  },
  {
   "cell_type": "code",
   "execution_count": 4,
   "id": "0ce57a61",
   "metadata": {},
   "outputs": [
    {
     "data": {
      "text/plain": [
       "model     object\n",
       "mpg      float64\n",
       "cyl        int64\n",
       "disp     float64\n",
       "hp         int64\n",
       "drat     float64\n",
       "wt       float64\n",
       "qsec     float64\n",
       "vs         int64\n",
       "am         int64\n",
       "gear       int64\n",
       "carb       int64\n",
       "dtype: object"
      ]
     },
     "execution_count": 4,
     "metadata": {},
     "output_type": "execute_result"
    }
   ],
   "source": [
    "# 데이터 타입 확인\n",
    "df.dtypes"
   ]
  },
  {
   "cell_type": "code",
   "execution_count": 6,
   "id": "a32506da",
   "metadata": {},
   "outputs": [
    {
     "name": "stdout",
     "output_type": "stream",
     "text": [
      "model     object\n",
      "mpg      float64\n",
      "cyl       object\n",
      "disp     float64\n",
      "hp         int64\n",
      "drat     float64\n",
      "wt       float64\n",
      "qsec     float64\n",
      "vs         int64\n",
      "am         int64\n",
      "gear       int64\n",
      "carb       int64\n",
      "dtype: object\n"
     ]
    }
   ],
   "source": [
    "# 데이터 타입 변경 1개\n",
    "df1 = df.copy()\n",
    "df1 = df1.astype({'cyl':'object'})\n",
    "print(df1.dtypes)"
   ]
  },
  {
   "cell_type": "code",
   "execution_count": 7,
   "id": "8fd0cceb",
   "metadata": {},
   "outputs": [
    {
     "name": "stdout",
     "output_type": "stream",
     "text": [
      "model     object\n",
      "mpg      float64\n",
      "cyl        int32\n",
      "disp     float64\n",
      "hp         int64\n",
      "drat     float64\n",
      "wt       float64\n",
      "qsec     float64\n",
      "vs         int64\n",
      "am         int64\n",
      "gear      object\n",
      "carb       int64\n",
      "dtype: object\n"
     ]
    }
   ],
   "source": [
    "# 데이터 타입 변경 2개\n",
    "df1 = df1.astype({'cyl' : 'int', 'gear' : 'object'})\n",
    "print(df1.dtypes)"
   ]
  },
  {
   "cell_type": "code",
   "execution_count": 11,
   "id": "09b698a2",
   "metadata": {},
   "outputs": [
    {
     "data": {
      "text/plain": [
       "0     6\n",
       "1     6\n",
       "2     4\n",
       "3     6\n",
       "4     8\n",
       "5     6\n",
       "6     8\n",
       "7     4\n",
       "8     4\n",
       "9     6\n",
       "10    6\n",
       "11    8\n",
       "12    8\n",
       "13    8\n",
       "14    8\n",
       "15    8\n",
       "16    8\n",
       "17    4\n",
       "18    4\n",
       "19    4\n",
       "20    4\n",
       "21    8\n",
       "22    8\n",
       "23    8\n",
       "24    8\n",
       "25    4\n",
       "26    4\n",
       "27    4\n",
       "28    8\n",
       "29    6\n",
       "30    8\n",
       "31    4\n",
       "Name: cyl, dtype: int64"
      ]
     },
     "execution_count": 11,
     "metadata": {},
     "output_type": "execute_result"
    }
   ],
   "source": [
    "df['cyl']"
   ]
  },
  {
   "cell_type": "code",
   "execution_count": 12,
   "id": "6bfbdf4d",
   "metadata": {},
   "outputs": [
    {
     "data": {
      "text/plain": [
       "8    14\n",
       "4    11\n",
       "6     7\n",
       "Name: cyl, dtype: int64"
      ]
     },
     "execution_count": 12,
     "metadata": {},
     "output_type": "execute_result"
    }
   ],
   "source": [
    "df1['cyl'].value_counts()"
   ]
  },
  {
   "cell_type": "markdown",
   "id": "f233931f",
   "metadata": {},
   "source": [
    "## 2. 기초 통계량(평균, 중앙값, IQR, 표준편차..)"
   ]
  },
  {
   "cell_type": "markdown",
   "id": "07984fc4",
   "metadata": {},
   "source": [
    "### 1) 중심 측도를 나타내는 값(평균, 중앙값, 최빈값)"
   ]
  },
  {
   "cell_type": "code",
   "execution_count": 14,
   "id": "17a7e02a",
   "metadata": {},
   "outputs": [
    {
     "data": {
      "text/html": [
       "<div>\n",
       "<style scoped>\n",
       "    .dataframe tbody tr th:only-of-type {\n",
       "        vertical-align: middle;\n",
       "    }\n",
       "\n",
       "    .dataframe tbody tr th {\n",
       "        vertical-align: top;\n",
       "    }\n",
       "\n",
       "    .dataframe thead th {\n",
       "        text-align: right;\n",
       "    }\n",
       "</style>\n",
       "<table border=\"1\" class=\"dataframe\">\n",
       "  <thead>\n",
       "    <tr style=\"text-align: right;\">\n",
       "      <th></th>\n",
       "      <th>model</th>\n",
       "      <th>mpg</th>\n",
       "      <th>cyl</th>\n",
       "      <th>disp</th>\n",
       "      <th>hp</th>\n",
       "      <th>drat</th>\n",
       "      <th>wt</th>\n",
       "      <th>qsec</th>\n",
       "      <th>vs</th>\n",
       "      <th>am</th>\n",
       "      <th>gear</th>\n",
       "      <th>carb</th>\n",
       "    </tr>\n",
       "  </thead>\n",
       "  <tbody>\n",
       "    <tr>\n",
       "      <th>0</th>\n",
       "      <td>Mazda RX4</td>\n",
       "      <td>21.0</td>\n",
       "      <td>6</td>\n",
       "      <td>160.0</td>\n",
       "      <td>110</td>\n",
       "      <td>3.90</td>\n",
       "      <td>2.620</td>\n",
       "      <td>16.46</td>\n",
       "      <td>0</td>\n",
       "      <td>1</td>\n",
       "      <td>4</td>\n",
       "      <td>4</td>\n",
       "    </tr>\n",
       "    <tr>\n",
       "      <th>1</th>\n",
       "      <td>Mazda RX4 Wag</td>\n",
       "      <td>21.0</td>\n",
       "      <td>6</td>\n",
       "      <td>160.0</td>\n",
       "      <td>110</td>\n",
       "      <td>3.90</td>\n",
       "      <td>2.875</td>\n",
       "      <td>17.02</td>\n",
       "      <td>0</td>\n",
       "      <td>1</td>\n",
       "      <td>4</td>\n",
       "      <td>4</td>\n",
       "    </tr>\n",
       "    <tr>\n",
       "      <th>2</th>\n",
       "      <td>Datsun 710</td>\n",
       "      <td>22.8</td>\n",
       "      <td>4</td>\n",
       "      <td>108.0</td>\n",
       "      <td>93</td>\n",
       "      <td>3.85</td>\n",
       "      <td>2.320</td>\n",
       "      <td>18.61</td>\n",
       "      <td>1</td>\n",
       "      <td>1</td>\n",
       "      <td>4</td>\n",
       "      <td>1</td>\n",
       "    </tr>\n",
       "    <tr>\n",
       "      <th>3</th>\n",
       "      <td>Hornet 4 Drive</td>\n",
       "      <td>21.4</td>\n",
       "      <td>6</td>\n",
       "      <td>258.0</td>\n",
       "      <td>110</td>\n",
       "      <td>3.08</td>\n",
       "      <td>3.215</td>\n",
       "      <td>19.44</td>\n",
       "      <td>1</td>\n",
       "      <td>0</td>\n",
       "      <td>3</td>\n",
       "      <td>1</td>\n",
       "    </tr>\n",
       "    <tr>\n",
       "      <th>4</th>\n",
       "      <td>Hornet Sportabout</td>\n",
       "      <td>18.7</td>\n",
       "      <td>8</td>\n",
       "      <td>360.0</td>\n",
       "      <td>175</td>\n",
       "      <td>3.15</td>\n",
       "      <td>3.440</td>\n",
       "      <td>17.02</td>\n",
       "      <td>0</td>\n",
       "      <td>0</td>\n",
       "      <td>3</td>\n",
       "      <td>2</td>\n",
       "    </tr>\n",
       "  </tbody>\n",
       "</table>\n",
       "</div>"
      ],
      "text/plain": [
       "               model   mpg  cyl   disp   hp  drat     wt   qsec  vs  am  gear  \\\n",
       "0          Mazda RX4  21.0    6  160.0  110  3.90  2.620  16.46   0   1     4   \n",
       "1      Mazda RX4 Wag  21.0    6  160.0  110  3.90  2.875  17.02   0   1     4   \n",
       "2         Datsun 710  22.8    4  108.0   93  3.85  2.320  18.61   1   1     4   \n",
       "3     Hornet 4 Drive  21.4    6  258.0  110  3.08  3.215  19.44   1   0     3   \n",
       "4  Hornet Sportabout  18.7    8  360.0  175  3.15  3.440  17.02   0   0     3   \n",
       "\n",
       "   carb  \n",
       "0     4  \n",
       "1     4  \n",
       "2     1  \n",
       "3     1  \n",
       "4     2  "
      ]
     },
     "execution_count": 14,
     "metadata": {},
     "output_type": "execute_result"
    }
   ],
   "source": [
    "df = pd.read_csv('mtcars.csv')\n",
    "df.head()"
   ]
  },
  {
   "cell_type": "code",
   "execution_count": 16,
   "id": "4b3a033a",
   "metadata": {},
   "outputs": [
    {
     "data": {
      "text/plain": [
       "(32, 12)"
      ]
     },
     "execution_count": 16,
     "metadata": {},
     "output_type": "execute_result"
    }
   ],
   "source": [
    "df.shape # 행, 열"
   ]
  },
  {
   "cell_type": "code",
   "execution_count": 22,
   "id": "7929fbca",
   "metadata": {},
   "outputs": [],
   "source": [
    "# 평균값 구하기\n",
    "mpg_mean = df['mpg'].mean()"
   ]
  },
  {
   "cell_type": "code",
   "execution_count": 23,
   "id": "d378be9f",
   "metadata": {},
   "outputs": [
    {
     "name": "stdout",
     "output_type": "stream",
     "text": [
      "20.090625000000003\n"
     ]
    }
   ],
   "source": [
    "print(mpg_mean)"
   ]
  },
  {
   "cell_type": "code",
   "execution_count": 24,
   "id": "a516ab8e",
   "metadata": {},
   "outputs": [],
   "source": [
    "# 중앙값 구하기"
   ]
  },
  {
   "cell_type": "code",
   "execution_count": 25,
   "id": "dbcba2e1",
   "metadata": {},
   "outputs": [],
   "source": [
    "mpg_median = df['mpg'].median()"
   ]
  },
  {
   "cell_type": "code",
   "execution_count": 26,
   "id": "73408422",
   "metadata": {},
   "outputs": [
    {
     "name": "stdout",
     "output_type": "stream",
     "text": [
      "19.2\n"
     ]
    }
   ],
   "source": [
    "print(mpg_median)"
   ]
  },
  {
   "cell_type": "code",
   "execution_count": 29,
   "id": "411fdf1c",
   "metadata": {},
   "outputs": [],
   "source": [
    "# 최빈값 구하기\n",
    "mpg_mode = df['cyl'].mode()"
   ]
  },
  {
   "cell_type": "code",
   "execution_count": 30,
   "id": "b27cbd5f",
   "metadata": {},
   "outputs": [
    {
     "name": "stdout",
     "output_type": "stream",
     "text": [
      "0    8\n",
      "Name: cyl, dtype: int64\n"
     ]
    }
   ],
   "source": [
    "print(mpg_mode)"
   ]
  },
  {
   "cell_type": "code",
   "execution_count": 32,
   "id": "a4be4c55",
   "metadata": {},
   "outputs": [
    {
     "name": "stdout",
     "output_type": "stream",
     "text": [
      "8\n"
     ]
    }
   ],
   "source": [
    "print(mpg_mode[0])"
   ]
  },
  {
   "cell_type": "code",
   "execution_count": 34,
   "id": "be15e1b2",
   "metadata": {},
   "outputs": [
    {
     "data": {
      "text/plain": [
       "8    14\n",
       "4    11\n",
       "6     7\n",
       "Name: cyl, dtype: int64"
      ]
     },
     "execution_count": 34,
     "metadata": {},
     "output_type": "execute_result"
    }
   ],
   "source": [
    "df['cyl'].value_counts()"
   ]
  },
  {
   "cell_type": "markdown",
   "id": "e38c342f",
   "metadata": {},
   "source": [
    "### 2) 산포도를 나타내는 값(분산, 표준편차. IQR, 범위(min-max)..)"
   ]
  },
  {
   "cell_type": "code",
   "execution_count": 36,
   "id": "2dbabf1f",
   "metadata": {},
   "outputs": [],
   "source": [
    "# 분산\n",
    "mpg_var = df['mpg'].var()"
   ]
  },
  {
   "cell_type": "code",
   "execution_count": 37,
   "id": "e94cbd18",
   "metadata": {},
   "outputs": [
    {
     "name": "stdout",
     "output_type": "stream",
     "text": [
      "36.32410282258065\n"
     ]
    }
   ],
   "source": [
    "print(mpg_var)"
   ]
  },
  {
   "cell_type": "code",
   "execution_count": 38,
   "id": "e51af9e0",
   "metadata": {},
   "outputs": [],
   "source": [
    "# 표준편차\n",
    "mpg_std = df['mpg'].std()"
   ]
  },
  {
   "cell_type": "code",
   "execution_count": 39,
   "id": "2d856b63",
   "metadata": {},
   "outputs": [
    {
     "name": "stdout",
     "output_type": "stream",
     "text": [
      "6.026948052089105\n"
     ]
    }
   ],
   "source": [
    "print(mpg_std)"
   ]
  },
  {
   "cell_type": "code",
   "execution_count": 41,
   "id": "cb81bd33",
   "metadata": {},
   "outputs": [
    {
     "name": "stdout",
     "output_type": "stream",
     "text": [
      "15.425\n"
     ]
    }
   ],
   "source": [
    "# IQR\n",
    "Q1 = df['mpg'].quantile(.25)\n",
    "print(Q1)"
   ]
  },
  {
   "cell_type": "code",
   "execution_count": 43,
   "id": "890e50b8",
   "metadata": {},
   "outputs": [
    {
     "name": "stdout",
     "output_type": "stream",
     "text": [
      "22.8\n"
     ]
    }
   ],
   "source": [
    "Q3 = df['mpg'].quantile(.75)\n",
    "print(Q3)"
   ]
  },
  {
   "cell_type": "code",
   "execution_count": 45,
   "id": "784c989d",
   "metadata": {},
   "outputs": [
    {
     "name": "stdout",
     "output_type": "stream",
     "text": [
      "7.375\n"
     ]
    }
   ],
   "source": [
    "IQR = Q3 - Q1\n",
    "print(IQR)"
   ]
  },
  {
   "cell_type": "code",
   "execution_count": 46,
   "id": "3c7884db",
   "metadata": {},
   "outputs": [
    {
     "name": "stdout",
     "output_type": "stream",
     "text": [
      "19.2\n",
      "19.2\n"
     ]
    }
   ],
   "source": [
    "Q2 = df['mpg'].quantile(.50)\n",
    "print(Q2)\n",
    "print(mpg_median)"
   ]
  },
  {
   "cell_type": "code",
   "execution_count": 47,
   "id": "3da4fa6d",
   "metadata": {},
   "outputs": [
    {
     "name": "stdout",
     "output_type": "stream",
     "text": [
      "33.9\n"
     ]
    }
   ],
   "source": [
    "mpg_max = df['mpg'].max()\n",
    "print(mpg_max)"
   ]
  },
  {
   "cell_type": "code",
   "execution_count": 49,
   "id": "77a89d39",
   "metadata": {},
   "outputs": [
    {
     "name": "stdout",
     "output_type": "stream",
     "text": [
      "10.4\n"
     ]
    }
   ],
   "source": [
    "mpg_min = df['mpg'].min()\n",
    "print(mpg_min)"
   ]
  },
  {
   "cell_type": "code",
   "execution_count": 50,
   "id": "2cae2ff0",
   "metadata": {},
   "outputs": [
    {
     "name": "stdout",
     "output_type": "stream",
     "text": [
      "23.5\n"
     ]
    }
   ],
   "source": [
    "mpg_range = mpg_max - mpg_min\n",
    "print(mpg_range)"
   ]
  },
  {
   "cell_type": "markdown",
   "id": "c85510a7",
   "metadata": {},
   "source": [
    "### 3) 분포의 비대칭도"
   ]
  },
  {
   "cell_type": "code",
   "execution_count": 52,
   "id": "e5096e02",
   "metadata": {},
   "outputs": [
    {
     "name": "stdout",
     "output_type": "stream",
     "text": [
      "0.6723771376290805\n"
     ]
    }
   ],
   "source": [
    "# 왜도\n",
    "mpg_skew = df['mpg'].skew()\n",
    "print(mpg_skew)"
   ]
  },
  {
   "cell_type": "code",
   "execution_count": 53,
   "id": "594f648f",
   "metadata": {},
   "outputs": [
    {
     "name": "stdout",
     "output_type": "stream",
     "text": [
      "-0.0220062914240855\n"
     ]
    }
   ],
   "source": [
    "# 첨도\n",
    "mpg_kurt = df['mpg'].kurt()\n",
    "print(mpg_kurt)"
   ]
  },
  {
   "cell_type": "markdown",
   "id": "38465aec",
   "metadata": {},
   "source": [
    "### 4) 기타(합계, 절대값, 데이터 수..)"
   ]
  },
  {
   "cell_type": "code",
   "execution_count": 54,
   "id": "19d9dda3",
   "metadata": {},
   "outputs": [
    {
     "name": "stdout",
     "output_type": "stream",
     "text": [
      "642.9000000000001\n"
     ]
    }
   ],
   "source": [
    "mpg_sum = df['mpg'].sum()\n",
    "print(mpg_sum)"
   ]
  },
  {
   "cell_type": "code",
   "execution_count": 55,
   "id": "43532dd8",
   "metadata": {},
   "outputs": [
    {
     "name": "stdout",
     "output_type": "stream",
     "text": [
      "-7.375\n",
      "7.375\n"
     ]
    }
   ],
   "source": [
    "# 절댓값\n",
    "IQR2 = Q1 - Q3\n",
    "print(IQR2)\n",
    "print(abs(IQR2))"
   ]
  },
  {
   "cell_type": "code",
   "execution_count": 56,
   "id": "684a37ec",
   "metadata": {},
   "outputs": [
    {
     "data": {
      "text/plain": [
       "32"
      ]
     },
     "execution_count": 56,
     "metadata": {},
     "output_type": "execute_result"
    }
   ],
   "source": [
    "# 데이터 수\n",
    "len(df['mpg'])"
   ]
  },
  {
   "cell_type": "markdown",
   "id": "f98253f6",
   "metadata": {},
   "source": [
    "### 5) 그룹화하여 계산하기 (groupby 활용)"
   ]
  },
  {
   "cell_type": "code",
   "execution_count": 57,
   "id": "6bd9368c",
   "metadata": {},
   "outputs": [
    {
     "name": "stdout",
     "output_type": "stream",
     "text": [
      "   sepal_length  sepal_width  petal_length  petal_width species\n",
      "0           5.1          3.5           1.4          0.2  setosa\n",
      "1           4.9          3.0           1.4          0.2  setosa\n",
      "2           4.7          3.2           1.3          0.2  setosa\n",
      "3           4.6          3.1           1.5          0.2  setosa\n",
      "4           5.0          3.6           1.4          0.2  setosa\n"
     ]
    },
    {
     "data": {
      "text/html": [
       "<div>\n",
       "<style scoped>\n",
       "    .dataframe tbody tr th:only-of-type {\n",
       "        vertical-align: middle;\n",
       "    }\n",
       "\n",
       "    .dataframe tbody tr th {\n",
       "        vertical-align: top;\n",
       "    }\n",
       "\n",
       "    .dataframe thead th {\n",
       "        text-align: right;\n",
       "    }\n",
       "</style>\n",
       "<table border=\"1\" class=\"dataframe\">\n",
       "  <thead>\n",
       "    <tr style=\"text-align: right;\">\n",
       "      <th></th>\n",
       "      <th>sepal_length</th>\n",
       "      <th>sepal_width</th>\n",
       "      <th>petal_length</th>\n",
       "      <th>petal_width</th>\n",
       "    </tr>\n",
       "    <tr>\n",
       "      <th>species</th>\n",
       "      <th></th>\n",
       "      <th></th>\n",
       "      <th></th>\n",
       "      <th></th>\n",
       "    </tr>\n",
       "  </thead>\n",
       "  <tbody>\n",
       "    <tr>\n",
       "      <th>setosa</th>\n",
       "      <td>5.006</td>\n",
       "      <td>3.428</td>\n",
       "      <td>1.462</td>\n",
       "      <td>0.246</td>\n",
       "    </tr>\n",
       "    <tr>\n",
       "      <th>versicolor</th>\n",
       "      <td>5.936</td>\n",
       "      <td>2.770</td>\n",
       "      <td>4.260</td>\n",
       "      <td>1.326</td>\n",
       "    </tr>\n",
       "    <tr>\n",
       "      <th>virginica</th>\n",
       "      <td>6.588</td>\n",
       "      <td>2.974</td>\n",
       "      <td>5.552</td>\n",
       "      <td>2.026</td>\n",
       "    </tr>\n",
       "  </tbody>\n",
       "</table>\n",
       "</div>"
      ],
      "text/plain": [
       "            sepal_length  sepal_width  petal_length  petal_width\n",
       "species                                                         \n",
       "setosa             5.006        3.428         1.462        0.246\n",
       "versicolor         5.936        2.770         4.260        1.326\n",
       "virginica          6.588        2.974         5.552        2.026"
      ]
     },
     "execution_count": 57,
     "metadata": {},
     "output_type": "execute_result"
    }
   ],
   "source": [
    "# species 별로 각 변수의 평균 구해보기\n",
    "import seaborn as sns\n",
    "df = sns.load_dataset('iris')\n",
    "print(df.head())\n",
    "df.groupby('species').mean()"
   ]
  },
  {
   "cell_type": "code",
   "execution_count": 58,
   "id": "316f2cb5",
   "metadata": {},
   "outputs": [
    {
     "data": {
      "text/html": [
       "<div>\n",
       "<style scoped>\n",
       "    .dataframe tbody tr th:only-of-type {\n",
       "        vertical-align: middle;\n",
       "    }\n",
       "\n",
       "    .dataframe tbody tr th {\n",
       "        vertical-align: top;\n",
       "    }\n",
       "\n",
       "    .dataframe thead th {\n",
       "        text-align: right;\n",
       "    }\n",
       "</style>\n",
       "<table border=\"1\" class=\"dataframe\">\n",
       "  <thead>\n",
       "    <tr style=\"text-align: right;\">\n",
       "      <th></th>\n",
       "      <th>sepal_length</th>\n",
       "      <th>sepal_width</th>\n",
       "      <th>petal_length</th>\n",
       "      <th>petal_width</th>\n",
       "    </tr>\n",
       "    <tr>\n",
       "      <th>species</th>\n",
       "      <th></th>\n",
       "      <th></th>\n",
       "      <th></th>\n",
       "      <th></th>\n",
       "    </tr>\n",
       "  </thead>\n",
       "  <tbody>\n",
       "    <tr>\n",
       "      <th>setosa</th>\n",
       "      <td>5.0</td>\n",
       "      <td>3.4</td>\n",
       "      <td>1.50</td>\n",
       "      <td>0.2</td>\n",
       "    </tr>\n",
       "    <tr>\n",
       "      <th>versicolor</th>\n",
       "      <td>5.9</td>\n",
       "      <td>2.8</td>\n",
       "      <td>4.35</td>\n",
       "      <td>1.3</td>\n",
       "    </tr>\n",
       "    <tr>\n",
       "      <th>virginica</th>\n",
       "      <td>6.5</td>\n",
       "      <td>3.0</td>\n",
       "      <td>5.55</td>\n",
       "      <td>2.0</td>\n",
       "    </tr>\n",
       "  </tbody>\n",
       "</table>\n",
       "</div>"
      ],
      "text/plain": [
       "            sepal_length  sepal_width  petal_length  petal_width\n",
       "species                                                         \n",
       "setosa               5.0          3.4          1.50          0.2\n",
       "versicolor           5.9          2.8          4.35          1.3\n",
       "virginica            6.5          3.0          5.55          2.0"
      ]
     },
     "execution_count": 58,
     "metadata": {},
     "output_type": "execute_result"
    }
   ],
   "source": [
    "df.groupby('species').median()"
   ]
  },
  {
   "cell_type": "code",
   "execution_count": null,
   "id": "afa4e907",
   "metadata": {},
   "outputs": [],
   "source": []
  }
 ],
 "metadata": {
  "kernelspec": {
   "display_name": "Python 3 (ipykernel)",
   "language": "python",
   "name": "python3"
  },
  "language_info": {
   "codemirror_mode": {
    "name": "ipython",
    "version": 3
   },
   "file_extension": ".py",
   "mimetype": "text/x-python",
   "name": "python",
   "nbconvert_exporter": "python",
   "pygments_lexer": "ipython3",
   "version": "3.10.9"
  }
 },
 "nbformat": 4,
 "nbformat_minor": 5
}
