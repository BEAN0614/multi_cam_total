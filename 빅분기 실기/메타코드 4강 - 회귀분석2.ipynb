{
 "cells": [
  {
   "cell_type": "markdown",
   "id": "1fcdd050",
   "metadata": {},
   "source": [
    "# 제2유형_연습하기_팁 예측하기(회귀)\n",
    "## ✅ 데이터 분석 순서\n",
    "1. 라이브러리 및 데이터 확인\n",
    "2. 데이터 탐색(EDA)\n",
    "3. 데이터 전처리 및 분리\n",
    "4. 모델링 및 성능평가\n",
    "5. 예측값 제출\n",
    "## ✅ 1. 라이브러리 및 데이터 확인"
   ]
  },
  {
   "cell_type": "code",
   "execution_count": 1,
   "id": "a2c5fdc3",
   "metadata": {},
   "outputs": [],
   "source": [
    "import pandas as pd\n",
    "import numpy as np"
   ]
  },
  {
   "cell_type": "code",
   "execution_count": 2,
   "id": "183422b4",
   "metadata": {},
   "outputs": [],
   "source": [
    "###############\t 복사 영역 ###############\n",
    "# 실기 시험 데이터셋으로 셋팅하기 (수정금지)\n",
    "import seaborn as sns\n",
    "# tips 데이터셋 로드\n",
    "df = sns.load_dataset('tips')\n",
    "x = df.drop(['tip'], axis=1)\n",
    "y = df['tip']\n",
    "# 실기 시험 데이터셋으로 셋팅하기 (수정금지)\n",
    "from sklearn.model_selection import train_test_split\n",
    "x_train, x_test,y_train, y_test = train_test_split(x, y, test_size=0.2, random_state=2023)\n",
    "x_test = pd.DataFrame(x_test.reset_index())\n",
    "x_train = pd.DataFrame(x_train.reset_index())\n",
    "y_train = pd.DataFrame(y_train.reset_index())\n",
    "x_test.rename(columns={'index':'cust_id'}, inplace=True)\n",
    "x_train.rename(columns={'index':'cust_id'}, inplace=True)\n",
    "y_train.columns = ['cust_id', 'target']\n",
    "### 참고사항 ### \n",
    "# y_test 는 실기 문제상에 주어지지 않음\n",
    "# ★Tip : X를 대문자로 쓰지말고 소문자 x로 쓰세요. 시험에서 실수하기 쉽습니다.(문제풀기 전에 소문자로 변경!)\n",
    "# (참고 : 보통 X는 2차원 배열(행렬)이기 때문에 대문자로 쓰고, y는 1차원 배열(벡터)이기 때문에 소문자로 씀)\n",
    "# (참고) 실기시험 데이터 형식 (실제 시험장에서는 다를 수 있으니 반드시 체크)\n",
    "# X_test = pd.read_csv(\"data/X_test.csv\")\n",
    "# X_train = pd.read_csv(\"data/X_train.csv\")\n",
    "# y_train = pd.read_csv(\"data/y_train.csv\")"
   ]
  },
  {
   "cell_type": "markdown",
   "id": "dd98e96a",
   "metadata": {},
   "source": [
    "### 레스토랑의\ttip\t예측 문제\n",
    "- 데이터의 결측치,\t이상치,\t변수에 대해 처리하고\n",
    "- 회귀모델을 사용하여\tRsq,\tMSE\t값을 산출하시오.\n",
    "\n",
    "### 데이터셋 설명\n",
    "> - total_bill(총 청구액):\t손님의 식사 총 청구액\n",
    "> - tip(팁):\t팁의 양\n",
    "> - sex(성별):\t손님의 성별\n",
    "> - smoker(흡연자):\t손님의 흡연 여부(\"Yes\"\t또는\t\"No\")\n",
    "> - day(요일):\t식사가 이루어진 요일\n",
    "> - time(시간):\t점심 또는 저녁 중 언제 식사가 이루어졌는지\n",
    "> - size(인원 수):\t식사에 참석한 인원 수\n",
    "\n",
    "## ✅\t2.\t데이터 탐색(EDA)"
   ]
  },
  {
   "cell_type": "code",
   "execution_count": 3,
   "id": "21a110c0",
   "metadata": {},
   "outputs": [
    {
     "name": "stdout",
     "output_type": "stream",
     "text": [
      "(195, 7)\n",
      "(49, 7)\n",
      "(195, 2)\n"
     ]
    }
   ],
   "source": [
    "# 데이터의 행/열 확인\n",
    "print(x_train.shape)\n",
    "print(x_test.shape)\n",
    "print(y_train.shape)"
   ]
  },
  {
   "cell_type": "code",
   "execution_count": 4,
   "id": "822aa0e4",
   "metadata": {},
   "outputs": [
    {
     "name": "stdout",
     "output_type": "stream",
     "text": [
      "   cust_id  total_bill     sex smoker  day    time  size\n",
      "0      158       13.39  Female     No  Sun  Dinner     2\n",
      "1      186       20.90  Female    Yes  Sun  Dinner     3\n",
      "2       21       20.29  Female     No  Sat  Dinner     2\n",
      "   cust_id  total_bill     sex smoker  day    time  size\n",
      "0      154       19.77    Male     No  Sun  Dinner     4\n",
      "1        4       24.59  Female     No  Sun  Dinner     4\n",
      "2       30        9.55    Male     No  Sat  Dinner     2\n",
      "   cust_id  target\n",
      "0      158    2.61\n",
      "1      186    3.50\n",
      "2       21    2.75\n"
     ]
    }
   ],
   "source": [
    "# 초기 데이터 확인\n",
    "print(x_train.head(3))\n",
    "print(x_test.head(3))\n",
    "print(y_train.head(3))"
   ]
  },
  {
   "cell_type": "code",
   "execution_count": 5,
   "id": "01020b88",
   "metadata": {},
   "outputs": [
    {
     "name": "stdout",
     "output_type": "stream",
     "text": [
      "<class 'pandas.core.frame.DataFrame'>\n",
      "RangeIndex: 195 entries, 0 to 194\n",
      "Data columns (total 7 columns):\n",
      " #   Column      Non-Null Count  Dtype   \n",
      "---  ------      --------------  -----   \n",
      " 0   cust_id     195 non-null    int64   \n",
      " 1   total_bill  195 non-null    float64 \n",
      " 2   sex         195 non-null    category\n",
      " 3   smoker      195 non-null    category\n",
      " 4   day         195 non-null    category\n",
      " 5   time        195 non-null    category\n",
      " 6   size        195 non-null    int64   \n",
      "dtypes: category(4), float64(1), int64(2)\n",
      "memory usage: 6.0 KB\n",
      "None\n",
      "<class 'pandas.core.frame.DataFrame'>\n",
      "RangeIndex: 49 entries, 0 to 48\n",
      "Data columns (total 7 columns):\n",
      " #   Column      Non-Null Count  Dtype   \n",
      "---  ------      --------------  -----   \n",
      " 0   cust_id     49 non-null     int64   \n",
      " 1   total_bill  49 non-null     float64 \n",
      " 2   sex         49 non-null     category\n",
      " 3   smoker      49 non-null     category\n",
      " 4   day         49 non-null     category\n",
      " 5   time        49 non-null     category\n",
      " 6   size        49 non-null     int64   \n",
      "dtypes: category(4), float64(1), int64(2)\n",
      "memory usage: 2.0 KB\n",
      "None\n",
      "<class 'pandas.core.frame.DataFrame'>\n",
      "RangeIndex: 195 entries, 0 to 194\n",
      "Data columns (total 2 columns):\n",
      " #   Column   Non-Null Count  Dtype  \n",
      "---  ------   --------------  -----  \n",
      " 0   cust_id  195 non-null    int64  \n",
      " 1   target   195 non-null    float64\n",
      "dtypes: float64(1), int64(1)\n",
      "memory usage: 3.2 KB\n",
      "None\n"
     ]
    }
   ],
   "source": [
    "# 변수명과 데이터 타입이 매칭이 되는지, 결측치가 있는지 확인해보세요\n",
    "print(x_train.info())\n",
    "print(x_test.info())\n",
    "print(y_train.info())"
   ]
  },
  {
   "cell_type": "code",
   "execution_count": 7,
   "id": "6cd9dc51",
   "metadata": {},
   "outputs": [
    {
     "name": "stdout",
     "output_type": "stream",
     "text": [
      "            count        mean        std   min    25%     50%      75%     max\n",
      "cust_id     195.0  122.056410  70.668034  0.00  59.50  121.00  182.500  243.00\n",
      "total_bill  195.0   20.054667   8.961645  3.07  13.42   17.92   24.395   50.81\n",
      "size        195.0    2.543590   0.942631  1.00   2.00    2.00    3.000    6.00\n",
      "            count        mean        std   min    25%     50%     75%    max\n",
      "cust_id      49.0  119.285714  70.918674  2.00  62.00  123.00  180.00  239.0\n",
      "total_bill   49.0   18.716531   8.669864  5.75  12.74   16.66   21.01   44.3\n",
      "size         49.0    2.673469   0.987162  2.00   2.00    2.00    3.00    6.0\n",
      "         count        mean        std  min   25%     50%     75%    max\n",
      "cust_id  195.0  122.056410  70.668034  0.0  59.5  121.00  182.50  243.0\n",
      "target   195.0    3.021692   1.402690  1.0   2.0    2.92    3.53   10.0\n"
     ]
    }
   ],
   "source": [
    "# x_train 과 x_test 데이터의 기초통계량을 잘 비교해보세요.\n",
    "print(x_train.describe().T)\n",
    "print(x_test.describe().T)\n",
    "print(y_train.describe().T)"
   ]
  },
  {
   "cell_type": "code",
   "execution_count": 8,
   "id": "f60998ad",
   "metadata": {},
   "outputs": [
    {
     "name": "stdout",
     "output_type": "stream",
     "text": [
      "         sex smoker  day    time\n",
      "count    195    195  195     195\n",
      "unique     2      2    4       2\n",
      "top     Male     No  Sat  Dinner\n",
      "freq     125    120   71     142\n",
      "         sex smoker  day    time\n",
      "count     49     49   49      49\n",
      "unique     2      2    4       2\n",
      "top     Male     No  Sat  Dinner\n",
      "freq      32     31   16      34\n"
     ]
    }
   ],
   "source": [
    "# object, category 데이터도 추가 확인\n",
    "# print(x_train.describe(include='object'))\n",
    "# print(x_test.describe(include='object'))\n",
    "print(x_train.describe(include = 'category'))\n",
    "print(x_test.describe(include = 'category'))"
   ]
  },
  {
   "cell_type": "code",
   "execution_count": null,
   "id": "5b27a3ec",
   "metadata": {},
   "outputs": [],
   "source": [
    "# y데이터도 구체적으로 살펴보세요.\n"
   ]
  },
  {
   "cell_type": "code",
   "execution_count": null,
   "id": "7c8a0492",
   "metadata": {},
   "outputs": [],
   "source": [
    "# y데이터도 구체적으로 살펴보세요.\n"
   ]
  },
  {
   "cell_type": "markdown",
   "id": "ce5609e9",
   "metadata": {},
   "source": [
    "## ✅ 3. 데이터 전처리 및 분리\n",
    "### 1) 결측치, 2) 이상치, 3) 변수 처리하기"
   ]
  },
  {
   "cell_type": "code",
   "execution_count": 9,
   "id": "948caa36",
   "metadata": {},
   "outputs": [
    {
     "name": "stdout",
     "output_type": "stream",
     "text": [
      "cust_id       0\n",
      "total_bill    0\n",
      "sex           0\n",
      "smoker        0\n",
      "day           0\n",
      "time          0\n",
      "size          0\n",
      "dtype: int64\n",
      "cust_id       0\n",
      "total_bill    0\n",
      "sex           0\n",
      "smoker        0\n",
      "day           0\n",
      "time          0\n",
      "size          0\n",
      "dtype: int64\n",
      "cust_id    0\n",
      "target     0\n",
      "dtype: int64\n"
     ]
    }
   ],
   "source": [
    "# 결측치 확인\n",
    "print(x_train.isnull().sum())\n",
    "print(x_test.isnull().sum())\n",
    "print(y_train.isnull().sum())"
   ]
  },
  {
   "cell_type": "code",
   "execution_count": null,
   "id": "98723fe2",
   "metadata": {},
   "outputs": [],
   "source": [
    "# 결측치 제거\n",
    "# df = df.dropna()\n",
    "# print(df)\n",
    "\n",
    "# 참고사항\n",
    "# print(df.dropna().shape) # 행 기준으로 삭제"
   ]
  },
  {
   "cell_type": "code",
   "execution_count": null,
   "id": "1287058d",
   "metadata": {},
   "outputs": [],
   "source": [
    "# 결측치 대체(평균값, 중앙값, 최빈값)\n",
    "# 연속형 변수 : 중앙값, 평균값\n",
    "# - df['변수명'].median()\n",
    "# - df['변수명'].mean()\n",
    "# 범주형 변수 : 최빈값\n",
    "\n",
    "# df['변수명'] = df['변수명'].fillna(대체할 값)"
   ]
  },
  {
   "cell_type": "code",
   "execution_count": null,
   "id": "acffe380",
   "metadata": {},
   "outputs": [],
   "source": [
    "# 이상치 대체\n",
    "# (참고) df['변수명'] = np.where( df['변수명'] >= 5, 대체할 값, df['변수명'] )"
   ]
  },
  {
   "cell_type": "code",
   "execution_count": null,
   "id": "ef422520",
   "metadata": {},
   "outputs": [],
   "source": [
    "# 변수처리\n",
    "\n",
    "# 불필요한 변수 제거\n",
    "# df = df.drop(columns = ['변수1','변수2'])\n",
    "# df = df.drop(['변수1','변수2'], axis=1)\n",
    "\n",
    "# 필요시 변수 추가(파생변수 생성)\n",
    "# df['파생변수명'] = df['A'] * df['B'] (파생변수 생성 수식)\n",
    "\n",
    "# 원핫인코딩(가변수 처리)\n",
    "# x_train = pd.get_dummies(x_train)\n",
    "# x_test = pd.get_dummies(x_test)\n",
    "# print(x_train.info())\n",
    "# print(x_test.info())"
   ]
  },
  {
   "cell_type": "code",
   "execution_count": 10,
   "id": "c3241ee4",
   "metadata": {},
   "outputs": [],
   "source": [
    "# 변수처리\n",
    "\n",
    "# 불필요한 변수(columns) 제거\n",
    "# cust_id 는 불필요한 변수이므로 제거합니다.\n",
    "# 단, test 셋의 cust_id가 나중에 제출이 필요하기 때문에 별도로 저장\n",
    "\n",
    "cust_id = x_test['cust_id'].copy()\n",
    "\n",
    "# 각 데이터에서 cust_id 변수 제거\n",
    "x_train = x_train.drop(['cust_id'], axis = 1)\n",
    "x_test = x_test.drop(['cust_id'], axis = 1)\n",
    "y_train = y_train.drop(['cust_id'], axis = 1)"
   ]
  },
  {
   "cell_type": "code",
   "execution_count": 11,
   "id": "fc75bc07",
   "metadata": {},
   "outputs": [
    {
     "name": "stdout",
     "output_type": "stream",
     "text": [
      "(195, 12)\n"
     ]
    }
   ],
   "source": [
    "# 변수처리(원핫인코딩)\n",
    "x_train = pd.get_dummies(x_train)\n",
    "print(x_train.shape)"
   ]
  },
  {
   "cell_type": "code",
   "execution_count": 12,
   "id": "391cc28a",
   "metadata": {},
   "outputs": [
    {
     "name": "stdout",
     "output_type": "stream",
     "text": [
      "(49, 12)\n"
     ]
    }
   ],
   "source": [
    "# 변수처리(원핫인코딩)\n",
    "x_test = pd.get_dummies(x_test)\n",
    "print(x_test.shape)"
   ]
  },
  {
   "cell_type": "markdown",
   "id": "e123aeb5",
   "metadata": {},
   "source": [
    "### 데이터 분리"
   ]
  },
  {
   "cell_type": "code",
   "execution_count": 18,
   "id": "00f787fb",
   "metadata": {},
   "outputs": [],
   "source": [
    "# 데이터를 훈련 세트와 검증용 세트로 분할 (80% 훈련, 20% 검증용)\n",
    "from sklearn.model_selection import train_test_split\n",
    "x_train, x_val, y_train, y_val = train_test_split(x_train, y_train['target'], random_state = 42, test_size = 0.2)"
   ]
  },
  {
   "cell_type": "markdown",
   "id": "dad2de25",
   "metadata": {},
   "source": [
    "## ✅ 4.모델링 및 성능평가"
   ]
  },
  {
   "cell_type": "code",
   "execution_count": 19,
   "id": "f74ea8fb",
   "metadata": {},
   "outputs": [
    {
     "data": {
      "text/html": [
       "<style>#sk-container-id-2 {color: black;background-color: white;}#sk-container-id-2 pre{padding: 0;}#sk-container-id-2 div.sk-toggleable {background-color: white;}#sk-container-id-2 label.sk-toggleable__label {cursor: pointer;display: block;width: 100%;margin-bottom: 0;padding: 0.3em;box-sizing: border-box;text-align: center;}#sk-container-id-2 label.sk-toggleable__label-arrow:before {content: \"▸\";float: left;margin-right: 0.25em;color: #696969;}#sk-container-id-2 label.sk-toggleable__label-arrow:hover:before {color: black;}#sk-container-id-2 div.sk-estimator:hover label.sk-toggleable__label-arrow:before {color: black;}#sk-container-id-2 div.sk-toggleable__content {max-height: 0;max-width: 0;overflow: hidden;text-align: left;background-color: #f0f8ff;}#sk-container-id-2 div.sk-toggleable__content pre {margin: 0.2em;color: black;border-radius: 0.25em;background-color: #f0f8ff;}#sk-container-id-2 input.sk-toggleable__control:checked~div.sk-toggleable__content {max-height: 200px;max-width: 100%;overflow: auto;}#sk-container-id-2 input.sk-toggleable__control:checked~label.sk-toggleable__label-arrow:before {content: \"▾\";}#sk-container-id-2 div.sk-estimator input.sk-toggleable__control:checked~label.sk-toggleable__label {background-color: #d4ebff;}#sk-container-id-2 div.sk-label input.sk-toggleable__control:checked~label.sk-toggleable__label {background-color: #d4ebff;}#sk-container-id-2 input.sk-hidden--visually {border: 0;clip: rect(1px 1px 1px 1px);clip: rect(1px, 1px, 1px, 1px);height: 1px;margin: -1px;overflow: hidden;padding: 0;position: absolute;width: 1px;}#sk-container-id-2 div.sk-estimator {font-family: monospace;background-color: #f0f8ff;border: 1px dotted black;border-radius: 0.25em;box-sizing: border-box;margin-bottom: 0.5em;}#sk-container-id-2 div.sk-estimator:hover {background-color: #d4ebff;}#sk-container-id-2 div.sk-parallel-item::after {content: \"\";width: 100%;border-bottom: 1px solid gray;flex-grow: 1;}#sk-container-id-2 div.sk-label:hover label.sk-toggleable__label {background-color: #d4ebff;}#sk-container-id-2 div.sk-serial::before {content: \"\";position: absolute;border-left: 1px solid gray;box-sizing: border-box;top: 0;bottom: 0;left: 50%;z-index: 0;}#sk-container-id-2 div.sk-serial {display: flex;flex-direction: column;align-items: center;background-color: white;padding-right: 0.2em;padding-left: 0.2em;position: relative;}#sk-container-id-2 div.sk-item {position: relative;z-index: 1;}#sk-container-id-2 div.sk-parallel {display: flex;align-items: stretch;justify-content: center;background-color: white;position: relative;}#sk-container-id-2 div.sk-item::before, #sk-container-id-2 div.sk-parallel-item::before {content: \"\";position: absolute;border-left: 1px solid gray;box-sizing: border-box;top: 0;bottom: 0;left: 50%;z-index: -1;}#sk-container-id-2 div.sk-parallel-item {display: flex;flex-direction: column;z-index: 1;position: relative;background-color: white;}#sk-container-id-2 div.sk-parallel-item:first-child::after {align-self: flex-end;width: 50%;}#sk-container-id-2 div.sk-parallel-item:last-child::after {align-self: flex-start;width: 50%;}#sk-container-id-2 div.sk-parallel-item:only-child::after {width: 0;}#sk-container-id-2 div.sk-dashed-wrapped {border: 1px dashed gray;margin: 0 0.4em 0.5em 0.4em;box-sizing: border-box;padding-bottom: 0.4em;background-color: white;}#sk-container-id-2 div.sk-label label {font-family: monospace;font-weight: bold;display: inline-block;line-height: 1.2em;}#sk-container-id-2 div.sk-label-container {text-align: center;}#sk-container-id-2 div.sk-container {/* jupyter's `normalize.less` sets `[hidden] { display: none; }` but bootstrap.min.css set `[hidden] { display: none !important; }` so we also need the `!important` here to be able to override the default hidden behavior on the sphinx rendered scikit-learn.org. See: https://github.com/scikit-learn/scikit-learn/issues/21755 */display: inline-block !important;position: relative;}#sk-container-id-2 div.sk-text-repr-fallback {display: none;}</style><div id=\"sk-container-id-2\" class=\"sk-top-container\"><div class=\"sk-text-repr-fallback\"><pre>RandomForestRegressor()</pre><b>In a Jupyter environment, please rerun this cell to show the HTML representation or trust the notebook. <br />On GitHub, the HTML representation is unable to render, please try loading this page with nbviewer.org.</b></div><div class=\"sk-container\" hidden><div class=\"sk-item\"><div class=\"sk-estimator sk-toggleable\"><input class=\"sk-toggleable__control sk-hidden--visually\" id=\"sk-estimator-id-2\" type=\"checkbox\" checked><label for=\"sk-estimator-id-2\" class=\"sk-toggleable__label sk-toggleable__label-arrow\">RandomForestRegressor</label><div class=\"sk-toggleable__content\"><pre>RandomForestRegressor()</pre></div></div></div></div></div>"
      ],
      "text/plain": [
       "RandomForestRegressor()"
      ]
     },
     "execution_count": 19,
     "metadata": {},
     "output_type": "execute_result"
    }
   ],
   "source": [
    "# 랜덤포레스트 모델 사용 (참고 : 분류모델은 RandomForestClassifier)\n",
    "from sklearn.ensemble import RandomForestRegressor\n",
    "model = RandomForestRegressor()\n",
    "model.fit(x_train, y_train)"
   ]
  },
  {
   "cell_type": "code",
   "execution_count": 20,
   "id": "dd6040d2",
   "metadata": {},
   "outputs": [],
   "source": [
    "# 모델을 사용하여 테스트 데이터 예측\n",
    "y_pred = model.predict(x_val)"
   ]
  },
  {
   "cell_type": "code",
   "execution_count": 21,
   "id": "45728642",
   "metadata": {},
   "outputs": [],
   "source": [
    "# 모델 성능 평가 (평균 제곱 오차 및 R-squared)\n",
    "from sklearn.metrics import r2_score, mean_squared_error\n",
    "r2 = r2_score(y_val, y_pred)\n",
    "mse = mean_squared_error(y_val, y_pred)\n",
    "rmse = mse**0.5"
   ]
  },
  {
   "cell_type": "code",
   "execution_count": 22,
   "id": "c35ae893",
   "metadata": {},
   "outputs": [
    {
     "name": "stdout",
     "output_type": "stream",
     "text": [
      "1.2044418928124994\n"
     ]
    }
   ],
   "source": [
    "# MSE\n",
    "print(mse)"
   ]
  },
  {
   "cell_type": "code",
   "execution_count": 23,
   "id": "b202c9c9",
   "metadata": {},
   "outputs": [
    {
     "name": "stdout",
     "output_type": "stream",
     "text": [
      "1.097470679705157\n"
     ]
    }
   ],
   "source": [
    "# RMSE\n",
    "print(rmse)"
   ]
  },
  {
   "cell_type": "code",
   "execution_count": 24,
   "id": "01619d53",
   "metadata": {},
   "outputs": [
    {
     "name": "stdout",
     "output_type": "stream",
     "text": [
      "0.29181878839455366\n"
     ]
    }
   ],
   "source": [
    "# R2 score\n",
    "print(r2)"
   ]
  },
  {
   "cell_type": "markdown",
   "id": "a2c51ffa",
   "metadata": {},
   "source": [
    "## ✅ 5. 예측값 제출\n",
    "### (주의) x_test를 모델에 넣어 나온 예측값을 제출해야함"
   ]
  },
  {
   "cell_type": "code",
   "execution_count": null,
   "id": "c0f9017d",
   "metadata": {},
   "outputs": [],
   "source": [
    "# (실기시험 안내사항)\n",
    "# 아래 코드 예측변수와 수험번호를 개인별로 변경하여 활용\n",
    "# pd.DataFrame({'cust_id': cust_id, 'target': y_result}).to_csv('003000000.csv', index=False)\n",
    "\n",
    "# 모델을 사용하여 테스트 데이터 예측\n"
   ]
  },
  {
   "cell_type": "code",
   "execution_count": null,
   "id": "b4f6caa8",
   "metadata": {},
   "outputs": [],
   "source": [
    "# ★tip : 데이터를 저장한다음 불러와서 제대로 제출했는지 확인해보자\n",
    "# pd.DataFrame({'result': y_result}).to_csv('수험번호.csv', index=False)\n",
    "# df2 = pd.read_csv(\"수험번호.csv\")\n",
    "# print(df2.head())"
   ]
  }
 ],
 "metadata": {
  "kernelspec": {
   "display_name": "Python 3 (ipykernel)",
   "language": "python",
   "name": "python3"
  },
  "language_info": {
   "codemirror_mode": {
    "name": "ipython",
    "version": 3
   },
   "file_extension": ".py",
   "mimetype": "text/x-python",
   "name": "python",
   "nbconvert_exporter": "python",
   "pygments_lexer": "ipython3",
   "version": "3.10.9"
  }
 },
 "nbformat": 4,
 "nbformat_minor": 5
}
