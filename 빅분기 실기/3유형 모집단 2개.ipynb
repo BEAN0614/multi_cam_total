{
 "cells": [
  {
   "cell_type": "markdown",
   "id": "adb8a19b",
   "metadata": {},
   "source": [
    "## 제3유형_모집단 2개\n",
    "## ✅ 검정방법\n",
    "### 1. 대응표본(쌍체) : 동일한 객체의 전 vs 후 평균비교\n",
    "- (정규성O) 대응표본(쌍체) t검정(paired t-test) : 동일한 객체의 전 vs 후 평균비교\n",
    "- (정규성X) 윌콕슨 부호순위 검정(wilcoxon)\n",
    "### 2.독립표본 : A집단의 평균 vs B집단의 평균\n",
    "- (정규성O) 독립표본 t검정(2sample t-test)\n",
    "- (정규성X) 윌콕슨의 순위합 검정(ranksums)\n",
    "## ✅ 가설검정 순서(중요!!)\n",
    "1. 대응표본(쌍체) t검정(paired t-test)\n",
    "> 1. 가설설정\n",
    "> 2. 유의수준 확인\n",
    "> 3. 정규성 검정 (주의) 차이값에 대한 정규성\n",
    "> 4. 검정실시(통계량, p-value 확인)\n",
    "> 5. 귀무가설 기각여부 결정(채택/기각)\n",
    "2. 독립표본 t검정(2sample t-test)\n",
    "> 1. 가설설정\n",
    "> 2. 유의수준 확인\n",
    "> 3. 정규성 검정 (주의) 두 집단 모두 정규성을 따를 경우!\n",
    "> 4. 등분산 검정\n",
    "> 5. 검정실시(통계량, p-value 확인) (주의) 등분산여부 확인\n",
    "> 6. 귀무가설 기각여부 결정(채택/기각)\n",
    "## ✅ 예제문제\n",
    "### Case 1) 대응표본(쌍체) t검정(paired t-test)\n",
    "문제 1-1\n",
    "다음은 혈압약을 먹은 전,후의 혈압 데이터이다.\n",
    "혈압약을 먹기 전, 후의 차이가 있는지 쌍체 t 검정을 실시하시오\n",
    "(유의수준 5%)\n",
    "- before : 혈압약을 먹기 전 혈압, after : 혈압약을 먹은 후의 혈압\n",
    "- H0(귀무가설) : after - before = 0\n",
    "- H1(대립가설) : after - before ≠ 0"
   ]
  },
  {
   "cell_type": "code",
   "execution_count": 1,
   "id": "b0db88e2",
   "metadata": {},
   "outputs": [],
   "source": [
    "import pandas as pd\n",
    "import numpy as np\n",
    "import scipy.stats as stats\n",
    "from scipy.stats import shapiro"
   ]
  },
  {
   "cell_type": "code",
   "execution_count": 2,
   "id": "d3630e9d",
   "metadata": {},
   "outputs": [
    {
     "name": "stdout",
     "output_type": "stream",
     "text": [
      "   before  after\n",
      "0     120    110\n",
      "1     135    132\n",
      "2     122    123\n"
     ]
    }
   ],
   "source": [
    "# 데이터 만들기\n",
    "df = pd.DataFrame( {\n",
    "    'before': [120, 135, 122, 124, 135, 122, 145, 160, 155, 142, 144, 135, 167],\n",
    "    'after' : [110, 132, 123, 119, 123, 115, 140, 162, 142, 138, 135, 142, 160] })\n",
    "print(df.head(3))"
   ]
  },
  {
   "cell_type": "code",
   "execution_count": null,
   "id": "6470c9cf",
   "metadata": {},
   "outputs": [],
   "source": [
    "# 1. 가설설정\n",
    "# H0 : 약을 먹기전과 먹은 후의 혈압 평균은 같다(효과가 없다)\n",
    "# H1 : 약을 먹기전과 먹은 후의 혈압 평균은 같지 않다(효과가 있다)"
   ]
  },
  {
   "cell_type": "code",
   "execution_count": null,
   "id": "276f7f91",
   "metadata": {},
   "outputs": [],
   "source": [
    "# 2. 유의수준 확인 : 유의수준 5%로 확인"
   ]
  },
  {
   "cell_type": "code",
   "execution_count": 3,
   "id": "a84b8a4d",
   "metadata": {},
   "outputs": [
    {
     "name": "stdout",
     "output_type": "stream",
     "text": [
      "0.9589 0.7363\n"
     ]
    }
   ],
   "source": [
    "# 3. 정규성 검정 (차이값에 대해 정규성 확인)\n",
    "statistic, pvalue = stats.shapiro(df['after'] - df['before'])\n",
    "print(round(statistic, 4), round(pvalue, 4))"
   ]
  },
  {
   "cell_type": "markdown",
   "id": "2ec929f0",
   "metadata": {},
   "source": [
    "- p-value 값이 유의수준(0.05) 보다 크다.\n",
    "\n",
    "    귀무가설(H0) 채택(정규성검정의 H0 : 정규분포를 따른다)"
   ]
  },
  {
   "cell_type": "code",
   "execution_count": 4,
   "id": "5233d9a0",
   "metadata": {},
   "outputs": [
    {
     "name": "stdout",
     "output_type": "stream",
     "text": [
      "-3.1382 0.0086\n"
     ]
    }
   ],
   "source": [
    "# 4.1 (정규성O) 대응표본(쌍체) t검정(paired t-test)\n",
    "statistic, pvalue = stats.ttest_rel(df['after'], df['before'], alternative = 'two-sided')\n",
    "print(round(statistic, 4), round(pvalue, 4))"
   ]
  },
  {
   "cell_type": "code",
   "execution_count": 5,
   "id": "71f40c82",
   "metadata": {},
   "outputs": [
    {
     "name": "stdout",
     "output_type": "stream",
     "text": [
      "11.0 0.0134\n"
     ]
    }
   ],
   "source": [
    "# 4.2 (정규성만족 X) wilcoxon 부호순위 검정\n",
    "statistic, pvalue = stats.wilcoxon(df['after'] - df['before'], alternative = 'two-sided')\n",
    "print(round(statistic, 4), round(pvalue, 4))\n",
    "# alternative (대립가설 H1) 옵션 : 'two-sided', 'greater', 'less'"
   ]
  },
  {
   "cell_type": "code",
   "execution_count": null,
   "id": "b36576eb",
   "metadata": {},
   "outputs": [],
   "source": [
    "# 5. 귀무가설 기각여부 결정(채택/기각)\n",
    "# p-value 값이 0.05보다 작기 때문에 귀무가설을 기각한다.\n",
    "# 즉, 약을 먹기전과 먹은 후의 혈압 평균은 같지 않다(효과가 있다)\n",
    "\n",
    "# 답 : 기각"
   ]
  },
  {
   "cell_type": "markdown",
   "id": "26bf12b8",
   "metadata": {},
   "source": [
    "문제 1-2\n",
    "\n",
    "다음은 혈압약을 먹은 전,후의 혈압 데이터이다.\n",
    "\n",
    "혈압약을 먹은 후 혈압이 감소했는지 확인하기 위해 쌍체 t 검정을 실시하시오\n",
    "(유의수준 5%)\n",
    "- before : 혈압약을 먹기 전 혈압, after : 혈압약을 먹은 후의 혈압\n",
    "- H0(귀무가설) : after - before >= 0\n",
    "- H1(대립가설) : after - before < 0"
   ]
  },
  {
   "cell_type": "code",
   "execution_count": 6,
   "id": "66cbde44",
   "metadata": {},
   "outputs": [
    {
     "name": "stdout",
     "output_type": "stream",
     "text": [
      "   before  after\n",
      "0     120    110\n",
      "1     135    132\n",
      "2     122    123\n"
     ]
    }
   ],
   "source": [
    "# 데이터 만들기\n",
    "df = pd.DataFrame( {\n",
    "    'before': [120, 135, 122, 124, 135, 122, 145, 160, 155, 142, 144, 135, 167],\n",
    "    'after' : [110, 132, 123, 119, 123, 115, 140, 162, 142, 138, 135, 142, 160] })\n",
    "print(df.head(3))"
   ]
  },
  {
   "cell_type": "code",
   "execution_count": null,
   "id": "caf3d1c9",
   "metadata": {},
   "outputs": [],
   "source": [
    "# 1. 가설설정\n",
    "# H0 : 약을 먹은 후 혈압이 같거나 증가했다. (after - before >= 0)\n",
    "# H1 : 약을 먹은 후 혈압이 감소했다.(after - before < 0)"
   ]
  },
  {
   "cell_type": "code",
   "execution_count": null,
   "id": "f32c7ec6",
   "metadata": {},
   "outputs": [],
   "source": [
    "# 2. 유의수준 확인 : 유의수준 5%로 확인"
   ]
  },
  {
   "cell_type": "code",
   "execution_count": 7,
   "id": "5f3d7f15",
   "metadata": {},
   "outputs": [
    {
     "name": "stdout",
     "output_type": "stream",
     "text": [
      "0.9589 0.7363\n"
     ]
    }
   ],
   "source": [
    "# 3. 정규성 검정 (차이값에 대해 정규성 확인)\n",
    "statistic, pvalue = stats.shapiro(df['after'] - df['before'])\n",
    "print(round(statistic, 4), round(pvalue, 4))"
   ]
  },
  {
   "cell_type": "code",
   "execution_count": 10,
   "id": "bef34a7a",
   "metadata": {},
   "outputs": [
    {
     "name": "stdout",
     "output_type": "stream",
     "text": [
      "-3.1382 0.0043\n"
     ]
    }
   ],
   "source": [
    "# 4.1 (정규성O) 대응표본(쌍체) t검정(paired t-test)\n",
    "statistic, pvalue = stats.ttest_rel(df['after'], df['before'], alternative = 'less')\n",
    "print(round(statistic, 4), round(pvalue, 4))\n",
    "# alternative (대립가설 H1) 옵션 : 'two-sided', 'greater', 'less'"
   ]
  },
  {
   "cell_type": "code",
   "execution_count": 11,
   "id": "e9ec15db",
   "metadata": {},
   "outputs": [
    {
     "name": "stdout",
     "output_type": "stream",
     "text": [
      "11.0 0.0067\n"
     ]
    }
   ],
   "source": [
    "# 4.2 (정규성만족 X) wilcoxon 부호순위 검정\n",
    "statistic, pvalue = stats.wilcoxon(df['after'] - df['before'], alternative = 'less')\n",
    "print(round(statistic, 4), round(pvalue, 4))"
   ]
  },
  {
   "cell_type": "code",
   "execution_count": null,
   "id": "90229a07",
   "metadata": {},
   "outputs": [],
   "source": [
    "# 5. 귀무가설 기각여부 결정(채택/기각)\n",
    "# p-value 값이 0.05보다 작기 때문에 귀무가설을 기각한다.\n",
    "# 즉, 약을 먹은 후 혈압이 감소했다고 할 수 있다.\n",
    "\n",
    "# 답 : 기각"
   ]
  },
  {
   "cell_type": "markdown",
   "id": "75ddd082",
   "metadata": {},
   "source": [
    "## Case 2) 독립표본 t검정(2sample t-test)\n",
    "문제\t2-1\t\n",
    "\n",
    "다음은\tA그룹과 B그룹 인원의 혈압 데이터이다.\n",
    "\n",
    "두 그룹의 혈압평균이 다르다고 할 수 있는지 독립표본 t검정을 실시하시오.\n",
    "\n",
    "(유의수준 5%)\n",
    "- A : A그룹 인원의 혈압, B : B그룹 인원의 혈압\n",
    "- H0(귀무가설) : A = B\n",
    "- H1(대립가설) : A ≠ B"
   ]
  },
  {
   "cell_type": "code",
   "execution_count": 13,
   "id": "70772b7e",
   "metadata": {},
   "outputs": [
    {
     "name": "stdout",
     "output_type": "stream",
     "text": [
      "     A    B\n",
      "0  120  110\n",
      "1  135  132\n",
      "2  122  123\n"
     ]
    }
   ],
   "source": [
    "# 데이터 만들기\n",
    "df = pd.DataFrame( {\n",
    "    'A': [120, 135, 122, 124, 135, 122, 145, 160, 155, 142, 144, 135, 167],\n",
    "    'B' : [110, 132, 123, 119, 123, 115, 140, 162, 142, 138, 135, 142, 160] })\n",
    "print(df.head(3))"
   ]
  },
  {
   "cell_type": "code",
   "execution_count": null,
   "id": "d2404aa3",
   "metadata": {},
   "outputs": [],
   "source": [
    "# 1. 가설설정\n",
    "# H0 : A그룹과 B그룹의 혈압 평균은 같다. (A = B)\n",
    "# H1 : A그룹과 B그룹의 혈압 평균은 같지 않다. (A ≠ B)"
   ]
  },
  {
   "cell_type": "code",
   "execution_count": null,
   "id": "72f7c638",
   "metadata": {},
   "outputs": [],
   "source": [
    "# 2. 유의수준 확인 : 유의수준 5%로 확인"
   ]
  },
  {
   "cell_type": "code",
   "execution_count": 14,
   "id": "c2d36151",
   "metadata": {},
   "outputs": [
    {
     "name": "stdout",
     "output_type": "stream",
     "text": [
      "0.9314 0.3559\n",
      "0.9498 0.5956\n"
     ]
    }
   ],
   "source": [
    "# 3. 정규성 검정 (차이값에 대해 정규성 확인)\n",
    "# H0(귀무가설) : 정규분포를 따른다.\n",
    "# H1(대립가설) : 정규분포를 따르지 않는다.\n",
    "statisticA, pvalueA = stats.shapiro(df['A'])\n",
    "statisticB, pvalueB = stats.shapiro(df['B'])\n",
    "print(round(statisticA, 4), round(pvalueA, 4))\n",
    "print(round(statisticB, 4), round(pvalueB, 4))"
   ]
  },
  {
   "cell_type": "markdown",
   "id": "83db3c56",
   "metadata": {},
   "source": [
    "- p-value 값이 유의수준(0.05) 보다 크다.\n",
    "\n",
    "    귀무가설(H0) 채택\n",
    "    \n",
    "- 만약 하나라도 정규분포를 따르지 않는다면 비모수 검정방법을 써야 함\n",
    "\n",
    "    (윌콕슨의 순위합 검정 ranksums)"
   ]
  },
  {
   "cell_type": "code",
   "execution_count": 15,
   "id": "2cfe6bc1",
   "metadata": {},
   "outputs": [
    {
     "name": "stdout",
     "output_type": "stream",
     "text": [
      "0.0279 0.8673\n"
     ]
    }
   ],
   "source": [
    "# 4. 등분산성 검정\n",
    "# H0(귀무가설) : 등분산 한다.\n",
    "# H1(대립가설) : 등분산 하지 않는다\n",
    "statistic, pvalue = stats.bartlett(df['A'], df['B'])\n",
    "print(round(statistic, 4), round(pvalue, 4))"
   ]
  },
  {
   "cell_type": "markdown",
   "id": "26abd4ef",
   "metadata": {},
   "source": [
    "- p-value 값이 유의수준(0.05) 보다 크다.\n",
    "\n",
    "    귀무가설(H0) 채택 => 등분산성을 따른다고 할 수 있다."
   ]
  },
  {
   "cell_type": "code",
   "execution_count": 16,
   "id": "b04212b8",
   "metadata": {},
   "outputs": [
    {
     "name": "stdout",
     "output_type": "stream",
     "text": [
      "0.8192 0.4207\n"
     ]
    }
   ],
   "source": [
    "# 5.1 (정규성O, 등분산성 O/X) t검정\n",
    "statistic, pvalue = stats.ttest_ind(df['A'], df['B'], alternative = 'two-sided', equal_var = True)\n",
    "# 만약 등분산 하지 않으면 False로 설정\n",
    "print(round(statistic, 4), round(pvalue, 4))"
   ]
  },
  {
   "cell_type": "code",
   "execution_count": 17,
   "id": "5180ab30",
   "metadata": {},
   "outputs": [
    {
     "name": "stdout",
     "output_type": "stream",
     "text": [
      "0.8462 0.3975\n"
     ]
    }
   ],
   "source": [
    "# 5.2 (정규성X)윌콕슨의 순위합 검정\n",
    "statistic, pvalue = stats.ranksums(df['A'], df['B'], alternative = 'two-sided')\n",
    "print(round(statistic, 4), round(pvalue, 4))"
   ]
  },
  {
   "cell_type": "code",
   "execution_count": null,
   "id": "d32f09b1",
   "metadata": {},
   "outputs": [],
   "source": [
    "# 6. 귀무가설 기각여부 결정(채택/기각)\n",
    "# p-value 값이 0.05보다 크기 때문에 귀무가설을 채택한다\n",
    "# 즉, A그룹과 B그룹의 혈압 평균은 같다고 할 수 있다.\n",
    "\n",
    "# 답 : 채택"
   ]
  },
  {
   "cell_type": "code",
   "execution_count": 18,
   "id": "6e384d60",
   "metadata": {},
   "outputs": [
    {
     "name": "stdout",
     "output_type": "stream",
     "text": [
      "138.92307692307693\n",
      "133.92307692307693\n"
     ]
    }
   ],
   "source": [
    "# (참고) 평균데이터 확인\n",
    "print(df['A'].mean())\n",
    "print(df['B'].mean())"
   ]
  },
  {
   "cell_type": "markdown",
   "id": "105e554a",
   "metadata": {},
   "source": [
    "문제 2-2 \n",
    "\n",
    "다음은 A그룹과 B그룹 인원의 혈압 데이터이다.\n",
    "\n",
    "A그룹의 혈압 평균이 B그룹보다 크다고 할 수 있는지 독립표본 t검정을 실시하시오.\n",
    "\n",
    "(유의수준 5%)\n",
    "- A : A그룹 인원의 혈압, B : B그룹 인원의 혈압\n",
    "- H0(귀무가설) : A - B ≤ 0 ( or A ≤ B)\n",
    "- H1(대립가설) : A - B > 0 ( or A > B)"
   ]
  },
  {
   "cell_type": "code",
   "execution_count": 19,
   "id": "ef817b5b",
   "metadata": {},
   "outputs": [
    {
     "name": "stdout",
     "output_type": "stream",
     "text": [
      "     A    B\n",
      "0  120  110\n",
      "1  135  132\n",
      "2  122  123\n"
     ]
    }
   ],
   "source": [
    "# 데이터 만들기\n",
    "df = pd.DataFrame( {\n",
    "    'A': [120, 135, 122, 124, 135, 122, 145, 160, 155, 142, 144, 135, 167],\n",
    "    'B' : [110, 132, 123, 119, 123, 115, 140, 162, 142, 138, 135, 142, 160] })\n",
    "print(df.head(3))"
   ]
  },
  {
   "cell_type": "code",
   "execution_count": null,
   "id": "ed3e879d",
   "metadata": {},
   "outputs": [],
   "source": [
    "# 1. 가설설정\n",
    "# H0 : A그룹의 혈압 평균이 B그룹보다 작거나 같다. (A <= B)\n",
    "# H1 : A그룹의 혈압 평균이 B그룹보다 크다. (A > B)"
   ]
  },
  {
   "cell_type": "code",
   "execution_count": null,
   "id": "dc22d94e",
   "metadata": {},
   "outputs": [],
   "source": [
    "# 2. 유의수준 확인 : 유의수준 5%로 확인"
   ]
  },
  {
   "cell_type": "code",
   "execution_count": 20,
   "id": "4a1633fe",
   "metadata": {},
   "outputs": [
    {
     "name": "stdout",
     "output_type": "stream",
     "text": [
      "0.9314 0.3559\n",
      "0.9498 0.5956\n"
     ]
    }
   ],
   "source": [
    "# 3. 정규성 검정 (차이값에 대해 정규성 확인)\n",
    "# H0(귀무가설) : 정규분포를 따른다.\n",
    "# H1(대립가설) : 정규분포를 따르지 않는다.\n",
    "statisticA, pvalueA = stats.shapiro(df['A'])\n",
    "statisticB, pvalueB = stats.shapiro(df['B'])\n",
    "print(round(statisticA, 4), round(pvalueA, 4))\n",
    "print(round(statisticB, 4), round(pvalueB, 4))"
   ]
  },
  {
   "cell_type": "code",
   "execution_count": 26,
   "id": "907867c4",
   "metadata": {},
   "outputs": [
    {
     "name": "stdout",
     "output_type": "stream",
     "text": [
      "0.0279 0.8673\n"
     ]
    }
   ],
   "source": [
    "# 4. 등분산성 검정\n",
    "# H0(귀무가설) : 등분산 한다.\n",
    "# H1(대립가설) : 등분산 하지 않는다\n",
    "statistic, pvalue = stats.bartlett(df['A'], df['B'])\n",
    "print(round(statistic, 4), round(pvalue, 4))"
   ]
  },
  {
   "cell_type": "code",
   "execution_count": 29,
   "id": "07da5c6b",
   "metadata": {},
   "outputs": [
    {
     "name": "stdout",
     "output_type": "stream",
     "text": [
      "0.8192 0.2104\n"
     ]
    }
   ],
   "source": [
    "# 5.1 (정규성O, 등분산성 O/X) t검정\n",
    "statistic, pvalue = stats.ttest_ind(df['A'], df['B'], equal_var = True, alternative = 'greater')\n",
    "# 만약 등분산 하지 않으면 False로 설정\n",
    "print(round(statistic, 4), round(pvalue, 4))"
   ]
  },
  {
   "cell_type": "code",
   "execution_count": 30,
   "id": "5ee493d2",
   "metadata": {},
   "outputs": [
    {
     "name": "stdout",
     "output_type": "stream",
     "text": [
      "0.8462 0.1987\n"
     ]
    }
   ],
   "source": [
    "# 5.2 (정규성X)윌콕슨의 순위합 검정\n",
    "statistic, pvalue = stats.ranksums(df['A'], df['B'], alternative = 'greater')\n",
    "print(round(statistic, 4), round(pvalue, 4))"
   ]
  },
  {
   "cell_type": "code",
   "execution_count": null,
   "id": "829b959b",
   "metadata": {},
   "outputs": [],
   "source": [
    "# 6. 귀무가설 기각여부 결정(채택/기각)\n",
    "# p-value 값이 0.05보다 크기 때문에 귀무가설을 채택한다\n",
    "# 즉, A그룹의 혈압 평균이 B그룹보다 작거나 같다고 할 수 있다.\n",
    "# (A그룹의 혈압 평균이 B그룹보다 크다고 할 수 없다)\n",
    "\n",
    "# 답 : 채택"
   ]
  }
 ],
 "metadata": {
  "kernelspec": {
   "display_name": "Python 3 (ipykernel)",
   "language": "python",
   "name": "python3"
  },
  "language_info": {
   "codemirror_mode": {
    "name": "ipython",
    "version": 3
   },
   "file_extension": ".py",
   "mimetype": "text/x-python",
   "name": "python",
   "nbconvert_exporter": "python",
   "pygments_lexer": "ipython3",
   "version": "3.10.9"
  }
 },
 "nbformat": 4,
 "nbformat_minor": 5
}
