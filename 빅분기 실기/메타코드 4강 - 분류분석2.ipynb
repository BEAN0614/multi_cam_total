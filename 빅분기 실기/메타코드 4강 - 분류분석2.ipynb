{
 "cells": [
  {
   "cell_type": "markdown",
   "id": "ec33e1ab",
   "metadata": {},
   "source": [
    "## 제2유형_연습하기_타이타닉 생존자 분류\n",
    "## ✅ 데이터 분석 순서\n",
    "1. 라이브러리 및 데이터 확인\n",
    "2. 데이터 탐색(EDA)\n",
    "3. 데이터 전처리 및 분리\n",
    "4. 모델링 및 성능평가\n",
    "5. 예측값 제출\n",
    "## ✅ 1. 라이브러리 및 데이터 확인"
   ]
  },
  {
   "cell_type": "code",
   "execution_count": 1,
   "id": "b84b8a7b",
   "metadata": {},
   "outputs": [],
   "source": [
    "import pandas as pd\n",
    "import numpy as np"
   ]
  },
  {
   "cell_type": "code",
   "execution_count": 2,
   "id": "8c6d10d6",
   "metadata": {},
   "outputs": [],
   "source": [
    "############### 복사 영역 ###############\n",
    "# 실기 시험 데이터셋으로 셋팅하기 (수정금지)\n",
    "\n",
    "# Seaborn의 내장 타이타닉 데이터셋을 불러옵니다.\n",
    "import seaborn as sns\n",
    "df = sns.load_dataset('titanic')\n",
    "\n",
    "x = df.drop('survived', axis=1)\n",
    "y = df['survived']\n",
    "\n",
    "# 실기 시험 데이터셋으로 셋팅하기 (수정금지)\n",
    "from sklearn.model_selection import train_test_split\n",
    "x_train, x_test, y_train, y_test = train_test_split(x, y, test_size=0.2,\n",
    "                                                    stratify=y,\n",
    "                                                    random_state=2023)\n",
    "\n",
    "x_test = pd.DataFrame(x_test)\n",
    "x_train = pd.DataFrame(x_train)\n",
    "y_train = pd.DataFrame(y_train)\n",
    "y_test = pd.DataFrame(y_test) # 평가용\n",
    "\n",
    "x_test.reset_index()\n",
    "y_train.columns = ['target']\n",
    "y_test.columns = ['target']\n",
    "############### 복사 영역 ###############\n",
    "\n",
    "### 참고사항 ###\n",
    "# y_test 는 실기 문제상에 주어지지 않음\n",
    "\n",
    "# ★Tip : X를 대문자로 쓰지말고 소문자 x로 쓰세요. 시험에서 실수하기 쉽습니다.(문제풀기 전에 소문자로 변경!)\n",
    "# (참고 : 보통 X는 2차원 배열(행렬)이기 때문에 대문자로 쓰고, y는 1차원 배열(벡터)이기 때문에 소문자로 씀)\n",
    "\n",
    "# (참고) 실기시험 데이터 형식 (실제 시험장에서는 다를 수 있으니 반드시 체크)\n",
    "# X_test = pd.read_csv(\"data/X_test.csv\")\n",
    "# X_train = pd.read_csv(\"data/X_train.csv\")\n",
    "# y_train = pd.read_csv(\"data/y_train.csv\")"
   ]
  },
  {
   "cell_type": "markdown",
   "id": "7542e704",
   "metadata": {},
   "source": [
    "## 타이타닉 생존자 예측 문제\n",
    "- 데이터의 결측치, 중복 변수값에 대해 처리하고\n",
    "- 분류모델을 사용하여 Accuracy, F1 score, AUC 값을 산출하시오.\n",
    "\n",
    "데이터 설명\n",
    "> - survival : 0 = No, 1 = Yes\n",
    "> - pclass : 객실 등급(1,2,3)\n",
    "> - sex : 성별\n",
    "> - age : 나이\n",
    "> - sibsp : 타이타닉호에 탑승한 형제/배우자의 수\n",
    "> - parch : 타이타닉호에 탑승한 부모/자녀의 수\n",
    "> - fare : 요금\n",
    "> - embarked : 탑승지 이름(C, Q, S) Cherbourg / Queenstown / Southampton\n",
    "> - (중복)class : 객실 등급(First, Second, Third)\n",
    "> - who : man, women, child\n",
    "> - adult_male : 성인남자인지 여부(True=성인남자, False 그외)\n",
    "> - deck : 선실번호 첫 알파벳(A,B,C,D,E,F,G)\n",
    "> - (중복) embark_town : 탑승지 이름(Cherbourg, Queenstown, Southampton)\n",
    "> - (중복) alive : 생존여부(no:사망, yes:생존)\n",
    "> - alone : 혼자 탑승했는지 여부(True=혼자, False=가족과 함께)\n",
    "## ✅ 2. 데이터 탐색(EDA)"
   ]
  },
  {
   "cell_type": "code",
   "execution_count": 3,
   "id": "f0b215c9",
   "metadata": {},
   "outputs": [
    {
     "name": "stdout",
     "output_type": "stream",
     "text": [
      "(712, 14)\n",
      "(179, 14)\n",
      "(712, 1)\n"
     ]
    }
   ],
   "source": [
    "# 데이터의 행/열 확인\n",
    "print(x_train.shape)\n",
    "print(x_test.shape)\n",
    "print(y_train.shape)"
   ]
  },
  {
   "cell_type": "code",
   "execution_count": 4,
   "id": "1fba0928",
   "metadata": {},
   "outputs": [
    {
     "name": "stdout",
     "output_type": "stream",
     "text": [
      "     pclass     sex   age  sibsp  parch   fare embarked   class    who  \\\n",
      "3         1  female  35.0      1      0  53.10        S   First  woman   \n",
      "517       3    male   NaN      0      0  24.15        Q   Third    man   \n",
      "861       2    male  21.0      1      0  11.50        S  Second    man   \n",
      "\n",
      "     adult_male deck  embark_town alive  alone  \n",
      "3         False    C  Southampton   yes  False  \n",
      "517        True  NaN   Queenstown    no   True  \n",
      "861        True  NaN  Southampton    no  False  \n",
      "     pclass     sex   age  sibsp  parch   fare embarked   class    who  \\\n",
      "800       2    male  34.0      0      0   13.0        S  Second    man   \n",
      "341       1  female  24.0      3      2  263.0        S   First  woman   \n",
      "413       2    male   NaN      0      0    0.0        S  Second    man   \n",
      "\n",
      "     adult_male deck  embark_town alive  alone  \n",
      "800        True  NaN  Southampton    no   True  \n",
      "341       False    C  Southampton   yes  False  \n",
      "413        True  NaN  Southampton    no   True  \n",
      "     target\n",
      "3         1\n",
      "517       0\n",
      "861       0\n"
     ]
    }
   ],
   "source": [
    "# 초기 데이터 확인\n",
    "print(x_train.head(3))\n",
    "print(x_test.head(3))\n",
    "print(y_train.head(3))"
   ]
  },
  {
   "cell_type": "code",
   "execution_count": 5,
   "id": "bf0f567e",
   "metadata": {},
   "outputs": [
    {
     "name": "stdout",
     "output_type": "stream",
     "text": [
      "<class 'pandas.core.frame.DataFrame'>\n",
      "Int64Index: 712 entries, 3 to 608\n",
      "Data columns (total 14 columns):\n",
      " #   Column       Non-Null Count  Dtype   \n",
      "---  ------       --------------  -----   \n",
      " 0   pclass       712 non-null    int64   \n",
      " 1   sex          712 non-null    object  \n",
      " 2   age          579 non-null    float64 \n",
      " 3   sibsp        712 non-null    int64   \n",
      " 4   parch        712 non-null    int64   \n",
      " 5   fare         712 non-null    float64 \n",
      " 6   embarked     710 non-null    object  \n",
      " 7   class        712 non-null    category\n",
      " 8   who          712 non-null    object  \n",
      " 9   adult_male   712 non-null    bool    \n",
      " 10  deck         164 non-null    category\n",
      " 11  embark_town  710 non-null    object  \n",
      " 12  alive        712 non-null    object  \n",
      " 13  alone        712 non-null    bool    \n",
      "dtypes: bool(2), category(2), float64(2), int64(3), object(5)\n",
      "memory usage: 64.4+ KB\n",
      "None\n",
      "<class 'pandas.core.frame.DataFrame'>\n",
      "Int64Index: 179 entries, 800 to 410\n",
      "Data columns (total 14 columns):\n",
      " #   Column       Non-Null Count  Dtype   \n",
      "---  ------       --------------  -----   \n",
      " 0   pclass       179 non-null    int64   \n",
      " 1   sex          179 non-null    object  \n",
      " 2   age          135 non-null    float64 \n",
      " 3   sibsp        179 non-null    int64   \n",
      " 4   parch        179 non-null    int64   \n",
      " 5   fare         179 non-null    float64 \n",
      " 6   embarked     179 non-null    object  \n",
      " 7   class        179 non-null    category\n",
      " 8   who          179 non-null    object  \n",
      " 9   adult_male   179 non-null    bool    \n",
      " 10  deck         39 non-null     category\n",
      " 11  embark_town  179 non-null    object  \n",
      " 12  alive        179 non-null    object  \n",
      " 13  alone        179 non-null    bool    \n",
      "dtypes: bool(2), category(2), float64(2), int64(3), object(5)\n",
      "memory usage: 16.6+ KB\n",
      "None\n",
      "<class 'pandas.core.frame.DataFrame'>\n",
      "Int64Index: 712 entries, 3 to 608\n",
      "Data columns (total 1 columns):\n",
      " #   Column  Non-Null Count  Dtype\n",
      "---  ------  --------------  -----\n",
      " 0   target  712 non-null    int64\n",
      "dtypes: int64(1)\n",
      "memory usage: 11.1 KB\n",
      "None\n"
     ]
    }
   ],
   "source": [
    "# 변수명과 데이터 타입이 매칭이 되는지, 결측치가 있는지 확인해보세요\n",
    "print(x_train.info())\n",
    "print(x_test.info())\n",
    "print(y_train.info())"
   ]
  },
  {
   "cell_type": "code",
   "execution_count": 6,
   "id": "202550e1",
   "metadata": {},
   "outputs": [
    {
     "name": "stdout",
     "output_type": "stream",
     "text": [
      "           pclass         age       sibsp       parch        fare\n",
      "count  712.000000  579.000000  712.000000  712.000000  712.000000\n",
      "mean     2.307584   29.479568    0.518258    0.372191   31.741836\n",
      "std      0.834926   14.355304    1.094522    0.792341   45.403910\n",
      "min      1.000000    0.420000    0.000000    0.000000    0.000000\n",
      "25%      2.000000   20.000000    0.000000    0.000000    7.895800\n",
      "50%      3.000000   28.000000    0.000000    0.000000   14.454200\n",
      "75%      3.000000   38.000000    1.000000    0.000000   31.275000\n",
      "max      3.000000   74.000000    8.000000    6.000000  512.329200\n",
      "           pclass         age       sibsp       parch        fare\n",
      "count  179.000000  135.000000  179.000000  179.000000  179.000000\n",
      "mean     2.312849   30.640741    0.541899    0.418994   34.043364\n",
      "std      0.842950   15.258427    1.137797    0.859760   64.097184\n",
      "min      1.000000    1.000000    0.000000    0.000000    0.000000\n",
      "25%      2.000000   22.000000    0.000000    0.000000    7.925000\n",
      "50%      3.000000   29.000000    0.000000    0.000000   14.500000\n",
      "75%      3.000000   39.000000    1.000000    0.000000   30.285400\n",
      "max      3.000000   80.000000    8.000000    5.000000  512.329200\n",
      "           target\n",
      "count  712.000000\n",
      "mean     0.383427\n",
      "std      0.486563\n",
      "min      0.000000\n",
      "25%      0.000000\n",
      "50%      0.000000\n",
      "75%      1.000000\n",
      "max      1.000000\n"
     ]
    }
   ],
   "source": [
    "# x_train 과 x_test 데이터의 기초통계량을 잘 비교해보세요.\n",
    "print(x_train.describe())\n",
    "print(x_test.describe())\n",
    "print(y_train.describe())"
   ]
  },
  {
   "cell_type": "code",
   "execution_count": 7,
   "id": "c2e97158",
   "metadata": {},
   "outputs": [
    {
     "name": "stdout",
     "output_type": "stream",
     "text": [
      "        class deck\n",
      "count     712  164\n",
      "unique      3    7\n",
      "top     Third    C\n",
      "freq      391   47\n",
      "        class deck\n",
      "count     179   39\n",
      "unique      3    7\n",
      "top     Third    C\n",
      "freq      100   12\n"
     ]
    }
   ],
   "source": [
    "# object, category 데이터도 추가 확인\n",
    "print(x_train.describe(include = 'category'))\n",
    "print(x_test.describe(include = 'category'))"
   ]
  },
  {
   "cell_type": "code",
   "execution_count": 8,
   "id": "5c7c6c3b",
   "metadata": {},
   "outputs": [],
   "source": [
    "# y데이터도 구체적으로 살펴보세요.\n"
   ]
  },
  {
   "cell_type": "code",
   "execution_count": 9,
   "id": "a30f96ff",
   "metadata": {},
   "outputs": [],
   "source": [
    "# y데이터도 구체적으로 살펴보세요.\n"
   ]
  },
  {
   "cell_type": "markdown",
   "id": "ac1b11d4",
   "metadata": {},
   "source": [
    "## ✅ 3. 데이터 전처리 및 분리\n",
    "### 1) 결측치, 2) 이상치, 3) 변수 처리하기"
   ]
  },
  {
   "cell_type": "code",
   "execution_count": 10,
   "id": "db62ce40",
   "metadata": {},
   "outputs": [
    {
     "name": "stdout",
     "output_type": "stream",
     "text": [
      "pclass           0\n",
      "sex              0\n",
      "age            133\n",
      "sibsp            0\n",
      "parch            0\n",
      "fare             0\n",
      "embarked         2\n",
      "class            0\n",
      "who              0\n",
      "adult_male       0\n",
      "deck           548\n",
      "embark_town      2\n",
      "alive            0\n",
      "alone            0\n",
      "dtype: int64\n",
      "pclass           0\n",
      "sex              0\n",
      "age             44\n",
      "sibsp            0\n",
      "parch            0\n",
      "fare             0\n",
      "embarked         0\n",
      "class            0\n",
      "who              0\n",
      "adult_male       0\n",
      "deck           140\n",
      "embark_town      0\n",
      "alive            0\n",
      "alone            0\n",
      "dtype: int64\n",
      "target    0\n",
      "dtype: int64\n"
     ]
    }
   ],
   "source": [
    "# 결측치 확인\n",
    "print(x_train.isnull().sum())\n",
    "print(x_test.isnull().sum())\n",
    "print(y_train.isnull().sum())"
   ]
  },
  {
   "cell_type": "code",
   "execution_count": 11,
   "id": "886c6a81",
   "metadata": {},
   "outputs": [],
   "source": [
    "# 결측치 제거\n",
    "# df = df.dropna()\n",
    "# print(df)\n",
    "\n",
    "# 참고사항\n",
    "# print(df.dropna().shape) # 행 기준으로 삭제"
   ]
  },
  {
   "cell_type": "code",
   "execution_count": 12,
   "id": "9403ce03",
   "metadata": {},
   "outputs": [],
   "source": [
    "# 결측치 대체\n",
    "# x_train(712,14) : age(133), embarked(2), deck(548), embark_town(2)\n",
    "# x_test(179,14) : age(44), deck(140)\n",
    "\n",
    "# 변수 제거\n",
    "# (중복) class\n",
    "# (중복) embark_town\n",
    "# (중복) alive\n",
    "# (결측치 다수) deck"
   ]
  },
  {
   "cell_type": "code",
   "execution_count": 13,
   "id": "49d70ac0",
   "metadata": {},
   "outputs": [],
   "source": [
    "# 중복변수 제거\n",
    "x_train = x_train.drop(['class', 'embark_town', 'alive', 'deck'], axis = 1)\n",
    "x_test = x_test.drop(['class', 'embark_town', 'alive', 'deck'], axis = 1)"
   ]
  },
  {
   "cell_type": "code",
   "execution_count": 14,
   "id": "5c627564",
   "metadata": {},
   "outputs": [
    {
     "name": "stdout",
     "output_type": "stream",
     "text": [
      "<class 'pandas.core.frame.DataFrame'>\n",
      "Int64Index: 712 entries, 3 to 608\n",
      "Data columns (total 10 columns):\n",
      " #   Column      Non-Null Count  Dtype  \n",
      "---  ------      --------------  -----  \n",
      " 0   pclass      712 non-null    int64  \n",
      " 1   sex         712 non-null    object \n",
      " 2   age         579 non-null    float64\n",
      " 3   sibsp       712 non-null    int64  \n",
      " 4   parch       712 non-null    int64  \n",
      " 5   fare        712 non-null    float64\n",
      " 6   embarked    710 non-null    object \n",
      " 7   who         712 non-null    object \n",
      " 8   adult_male  712 non-null    bool   \n",
      " 9   alone       712 non-null    bool   \n",
      "dtypes: bool(2), float64(2), int64(3), object(3)\n",
      "memory usage: 51.5+ KB\n",
      "None\n",
      "<class 'pandas.core.frame.DataFrame'>\n",
      "Int64Index: 179 entries, 800 to 410\n",
      "Data columns (total 10 columns):\n",
      " #   Column      Non-Null Count  Dtype  \n",
      "---  ------      --------------  -----  \n",
      " 0   pclass      179 non-null    int64  \n",
      " 1   sex         179 non-null    object \n",
      " 2   age         135 non-null    float64\n",
      " 3   sibsp       179 non-null    int64  \n",
      " 4   parch       179 non-null    int64  \n",
      " 5   fare        179 non-null    float64\n",
      " 6   embarked    179 non-null    object \n",
      " 7   who         179 non-null    object \n",
      " 8   adult_male  179 non-null    bool   \n",
      " 9   alone       179 non-null    bool   \n",
      "dtypes: bool(2), float64(2), int64(3), object(3)\n",
      "memory usage: 12.9+ KB\n",
      "None\n"
     ]
    }
   ],
   "source": [
    "# 변수제거 확인\n",
    "print(x_train.info())\n",
    "print(x_test.info())"
   ]
  },
  {
   "cell_type": "code",
   "execution_count": 15,
   "id": "93a6637e",
   "metadata": {},
   "outputs": [],
   "source": [
    "# 결측치 대체\n",
    "# x_train(712,14) : age(133), embarked(2)\n",
    "# x_test(179,14) : age(44)\n",
    "\n",
    "# age 변수\n",
    "median1 = x_train['age'].median()\n",
    "x_train['age'] = x_train['age'].fillna(median1)\n",
    "x_test['age'] = x_test['age'].fillna(median1)\n",
    "# embarked\n",
    "mode1 = x_train['embarked'].mode()\n",
    "x_train['embarked'] = x_train['embarked'].fillna(mode1[0])"
   ]
  },
  {
   "cell_type": "code",
   "execution_count": 16,
   "id": "cac64d33",
   "metadata": {},
   "outputs": [
    {
     "name": "stdout",
     "output_type": "stream",
     "text": [
      "<class 'pandas.core.frame.DataFrame'>\n",
      "Int64Index: 712 entries, 3 to 608\n",
      "Data columns (total 10 columns):\n",
      " #   Column      Non-Null Count  Dtype  \n",
      "---  ------      --------------  -----  \n",
      " 0   pclass      712 non-null    int64  \n",
      " 1   sex         712 non-null    object \n",
      " 2   age         712 non-null    float64\n",
      " 3   sibsp       712 non-null    int64  \n",
      " 4   parch       712 non-null    int64  \n",
      " 5   fare        712 non-null    float64\n",
      " 6   embarked    712 non-null    object \n",
      " 7   who         712 non-null    object \n",
      " 8   adult_male  712 non-null    bool   \n",
      " 9   alone       712 non-null    bool   \n",
      "dtypes: bool(2), float64(2), int64(3), object(3)\n",
      "memory usage: 51.5+ KB\n",
      "None\n",
      "<class 'pandas.core.frame.DataFrame'>\n",
      "Int64Index: 179 entries, 800 to 410\n",
      "Data columns (total 10 columns):\n",
      " #   Column      Non-Null Count  Dtype  \n",
      "---  ------      --------------  -----  \n",
      " 0   pclass      179 non-null    int64  \n",
      " 1   sex         179 non-null    object \n",
      " 2   age         179 non-null    float64\n",
      " 3   sibsp       179 non-null    int64  \n",
      " 4   parch       179 non-null    int64  \n",
      " 5   fare        179 non-null    float64\n",
      " 6   embarked    179 non-null    object \n",
      " 7   who         179 non-null    object \n",
      " 8   adult_male  179 non-null    bool   \n",
      " 9   alone       179 non-null    bool   \n",
      "dtypes: bool(2), float64(2), int64(3), object(3)\n",
      "memory usage: 12.9+ KB\n",
      "None\n"
     ]
    }
   ],
   "source": [
    "# 결측치 대체 여부 확인\n",
    "print(x_train.info())\n",
    "print(x_test.info())"
   ]
  },
  {
   "cell_type": "code",
   "execution_count": 17,
   "id": "eab11569",
   "metadata": {},
   "outputs": [
    {
     "name": "stdout",
     "output_type": "stream",
     "text": [
      "(712, 15)\n",
      "(179, 15)\n"
     ]
    }
   ],
   "source": [
    "# 변수처리 (원핫인코딩)\n",
    "x_train = pd.get_dummies(x_train)\n",
    "x_test = pd.get_dummies(x_test)\n",
    "\n",
    "print(x_train.shape)\n",
    "print(x_test.shape)\n",
    "# x_test = x_test.reindex(columns = x_train.columns, fill_value = 0)\n",
    "# advanced 버전 사용\n",
    "x_train_ad = x_train.copy()\n",
    "x_test_ad = x_test.copy()\n",
    "y_train_ad = y_train.copy()"
   ]
  },
  {
   "cell_type": "code",
   "execution_count": 18,
   "id": "17a43639",
   "metadata": {},
   "outputs": [],
   "source": [
    "# (참고사항)원핫인코딩 후 변수의 수가 다른 경우\n",
    "# => x_test의 변수의 수가 x_train 보다 많은 경우 (혹은 그 반대인 경우)\n",
    "\n",
    "# 원핫인코딩 후 Feature 수가 다를 경우\n",
    "# x_train = pd.get_dummies(x_train)\n",
    "# x_test = pd.get_dummies(x_test)\n",
    "# x_train.info()\n",
    "# x_test.info()\n",
    "\n",
    "# 해결방법(x_test의 변수가 수가 더 많은 경우의 코드)\n",
    "# x_train = x_train.reindex(columns = x_test.columns, fill_value=0)\n",
    "# x_train.info()"
   ]
  },
  {
   "cell_type": "markdown",
   "id": "1f691f8c",
   "metadata": {},
   "source": [
    "### 데이터 분리"
   ]
  },
  {
   "cell_type": "code",
   "execution_count": 19,
   "id": "66da2356",
   "metadata": {},
   "outputs": [],
   "source": [
    "# 데이터를 훈련 세트와 검증용 세트로 분할 (80% 훈련, 20% 검증용)\n",
    "from sklearn.model_selection import train_test_split\n",
    "x_train, x_val, y_train, y_val = train_test_split(x_train, y_train['target'], stratify = y_train['target'], random_state = 42, test_size = 0.2)"
   ]
  },
  {
   "cell_type": "markdown",
   "id": "fa12109c",
   "metadata": {},
   "source": [
    "## ✅ 4.모델링 및 성능평가"
   ]
  },
  {
   "cell_type": "code",
   "execution_count": 20,
   "id": "f927a211",
   "metadata": {},
   "outputs": [
    {
     "data": {
      "text/html": [
       "<style>#sk-container-id-1 {color: black;background-color: white;}#sk-container-id-1 pre{padding: 0;}#sk-container-id-1 div.sk-toggleable {background-color: white;}#sk-container-id-1 label.sk-toggleable__label {cursor: pointer;display: block;width: 100%;margin-bottom: 0;padding: 0.3em;box-sizing: border-box;text-align: center;}#sk-container-id-1 label.sk-toggleable__label-arrow:before {content: \"▸\";float: left;margin-right: 0.25em;color: #696969;}#sk-container-id-1 label.sk-toggleable__label-arrow:hover:before {color: black;}#sk-container-id-1 div.sk-estimator:hover label.sk-toggleable__label-arrow:before {color: black;}#sk-container-id-1 div.sk-toggleable__content {max-height: 0;max-width: 0;overflow: hidden;text-align: left;background-color: #f0f8ff;}#sk-container-id-1 div.sk-toggleable__content pre {margin: 0.2em;color: black;border-radius: 0.25em;background-color: #f0f8ff;}#sk-container-id-1 input.sk-toggleable__control:checked~div.sk-toggleable__content {max-height: 200px;max-width: 100%;overflow: auto;}#sk-container-id-1 input.sk-toggleable__control:checked~label.sk-toggleable__label-arrow:before {content: \"▾\";}#sk-container-id-1 div.sk-estimator input.sk-toggleable__control:checked~label.sk-toggleable__label {background-color: #d4ebff;}#sk-container-id-1 div.sk-label input.sk-toggleable__control:checked~label.sk-toggleable__label {background-color: #d4ebff;}#sk-container-id-1 input.sk-hidden--visually {border: 0;clip: rect(1px 1px 1px 1px);clip: rect(1px, 1px, 1px, 1px);height: 1px;margin: -1px;overflow: hidden;padding: 0;position: absolute;width: 1px;}#sk-container-id-1 div.sk-estimator {font-family: monospace;background-color: #f0f8ff;border: 1px dotted black;border-radius: 0.25em;box-sizing: border-box;margin-bottom: 0.5em;}#sk-container-id-1 div.sk-estimator:hover {background-color: #d4ebff;}#sk-container-id-1 div.sk-parallel-item::after {content: \"\";width: 100%;border-bottom: 1px solid gray;flex-grow: 1;}#sk-container-id-1 div.sk-label:hover label.sk-toggleable__label {background-color: #d4ebff;}#sk-container-id-1 div.sk-serial::before {content: \"\";position: absolute;border-left: 1px solid gray;box-sizing: border-box;top: 0;bottom: 0;left: 50%;z-index: 0;}#sk-container-id-1 div.sk-serial {display: flex;flex-direction: column;align-items: center;background-color: white;padding-right: 0.2em;padding-left: 0.2em;position: relative;}#sk-container-id-1 div.sk-item {position: relative;z-index: 1;}#sk-container-id-1 div.sk-parallel {display: flex;align-items: stretch;justify-content: center;background-color: white;position: relative;}#sk-container-id-1 div.sk-item::before, #sk-container-id-1 div.sk-parallel-item::before {content: \"\";position: absolute;border-left: 1px solid gray;box-sizing: border-box;top: 0;bottom: 0;left: 50%;z-index: -1;}#sk-container-id-1 div.sk-parallel-item {display: flex;flex-direction: column;z-index: 1;position: relative;background-color: white;}#sk-container-id-1 div.sk-parallel-item:first-child::after {align-self: flex-end;width: 50%;}#sk-container-id-1 div.sk-parallel-item:last-child::after {align-self: flex-start;width: 50%;}#sk-container-id-1 div.sk-parallel-item:only-child::after {width: 0;}#sk-container-id-1 div.sk-dashed-wrapped {border: 1px dashed gray;margin: 0 0.4em 0.5em 0.4em;box-sizing: border-box;padding-bottom: 0.4em;background-color: white;}#sk-container-id-1 div.sk-label label {font-family: monospace;font-weight: bold;display: inline-block;line-height: 1.2em;}#sk-container-id-1 div.sk-label-container {text-align: center;}#sk-container-id-1 div.sk-container {/* jupyter's `normalize.less` sets `[hidden] { display: none; }` but bootstrap.min.css set `[hidden] { display: none !important; }` so we also need the `!important` here to be able to override the default hidden behavior on the sphinx rendered scikit-learn.org. See: https://github.com/scikit-learn/scikit-learn/issues/21755 */display: inline-block !important;position: relative;}#sk-container-id-1 div.sk-text-repr-fallback {display: none;}</style><div id=\"sk-container-id-1\" class=\"sk-top-container\"><div class=\"sk-text-repr-fallback\"><pre>RandomForestClassifier()</pre><b>In a Jupyter environment, please rerun this cell to show the HTML representation or trust the notebook. <br />On GitHub, the HTML representation is unable to render, please try loading this page with nbviewer.org.</b></div><div class=\"sk-container\" hidden><div class=\"sk-item\"><div class=\"sk-estimator sk-toggleable\"><input class=\"sk-toggleable__control sk-hidden--visually\" id=\"sk-estimator-id-1\" type=\"checkbox\" checked><label for=\"sk-estimator-id-1\" class=\"sk-toggleable__label sk-toggleable__label-arrow\">RandomForestClassifier</label><div class=\"sk-toggleable__content\"><pre>RandomForestClassifier()</pre></div></div></div></div></div>"
      ],
      "text/plain": [
       "RandomForestClassifier()"
      ]
     },
     "execution_count": 20,
     "metadata": {},
     "output_type": "execute_result"
    }
   ],
   "source": [
    "# 랜덤포레스트 모델 사용 (참고 : 회귀모델은 RandomForestRegressor)\n",
    "from sklearn.ensemble import RandomForestClassifier\n",
    "model = RandomForestClassifier()\n",
    "model.fit(x_train, y_train)"
   ]
  },
  {
   "cell_type": "code",
   "execution_count": 21,
   "id": "f243925b",
   "metadata": {},
   "outputs": [],
   "source": [
    "# 모델을 사용하여 테스트 데이터 예측\n",
    "y_pred = model.predict(x_val)"
   ]
  },
  {
   "cell_type": "code",
   "execution_count": 22,
   "id": "a35796d9",
   "metadata": {},
   "outputs": [
    {
     "name": "stdout",
     "output_type": "stream",
     "text": [
      "0.7454545454545455\n"
     ]
    }
   ],
   "source": [
    "# 모델 성능 평가 (정확도, F1 score, 민감도, 특이도 등)\n",
    "from sklearn.metrics import accuracy_score, f1_score, recall_score, roc_auc_score\n",
    "acc = accuracy_score(y_val, y_pred)\n",
    "f1 = f1_score(y_val, y_pred)\n",
    "recall = recall_score(y_val, y_pred)\n",
    "auc = roc_auc_score(y_val, y_pred)\n",
    "\n",
    "print(recall)"
   ]
  },
  {
   "cell_type": "code",
   "execution_count": 23,
   "id": "c9132fea",
   "metadata": {},
   "outputs": [
    {
     "name": "stdout",
     "output_type": "stream",
     "text": [
      "0.7832167832167832\n"
     ]
    }
   ],
   "source": [
    "# 정확도(Accuracy)\n",
    "print(acc)"
   ]
  },
  {
   "cell_type": "code",
   "execution_count": 24,
   "id": "0fe53e2d",
   "metadata": {},
   "outputs": [
    {
     "name": "stdout",
     "output_type": "stream",
     "text": [
      "0.7256637168141592\n"
     ]
    }
   ],
   "source": [
    "# F1 Score\n",
    "print(f1)"
   ]
  },
  {
   "cell_type": "code",
   "execution_count": 25,
   "id": "7c0efd75",
   "metadata": {},
   "outputs": [
    {
     "name": "stdout",
     "output_type": "stream",
     "text": [
      "0.7761363636363637\n"
     ]
    }
   ],
   "source": [
    "# AUC\n",
    "print(auc)"
   ]
  },
  {
   "cell_type": "code",
   "execution_count": 26,
   "id": "e7e387df",
   "metadata": {},
   "outputs": [
    {
     "name": "stdout",
     "output_type": "stream",
     "text": [
      "[[71 17]\n",
      " [14 41]]\n"
     ]
    }
   ],
   "source": [
    "# 참고사항\n",
    "from sklearn.metrics import confusion_matrix\n",
    "\n",
    "cm = confusion_matrix(y_val, y_pred)\n",
    "\n",
    "print(cm)\n",
    "# ##### 예측\n",
    "# ##### 0 1\n",
    "\n",
    "# 실제 0 TN FP\n",
    "# 실제 1 FN TP"
   ]
  },
  {
   "cell_type": "markdown",
   "id": "854f423e",
   "metadata": {},
   "source": [
    "### 실제 test 셋으로 성능평가를 한다면?"
   ]
  },
  {
   "cell_type": "code",
   "execution_count": 27,
   "id": "9746e6c1",
   "metadata": {},
   "outputs": [
    {
     "name": "stdout",
     "output_type": "stream",
     "text": [
      "(179, 15)\n",
      "(179, 1)\n"
     ]
    }
   ],
   "source": [
    "print(x_test.shape)\n",
    "print(y_test.shape)"
   ]
  },
  {
   "cell_type": "code",
   "execution_count": 28,
   "id": "e0d1ebde",
   "metadata": {},
   "outputs": [],
   "source": [
    "# 모델을 사용하여 테스트 데이터 예측\n",
    "y_result = model.predict(x_test)\n",
    "# 모델 성능 평가 (정확도, F1 score, AUC)\n",
    "acc1 = accuracy_score(y_test, y_result)\n",
    "f11 = f1_score(y_test, y_result)\n",
    "auc1 = roc_auc_score(y_test, y_result)"
   ]
  },
  {
   "cell_type": "code",
   "execution_count": 29,
   "id": "053f7a12",
   "metadata": {},
   "outputs": [
    {
     "name": "stdout",
     "output_type": "stream",
     "text": [
      "0.776536312849162\n"
     ]
    }
   ],
   "source": [
    "# 정확도(Accuracy)\n",
    "print(acc1)"
   ]
  },
  {
   "cell_type": "code",
   "execution_count": 30,
   "id": "54e18386",
   "metadata": {},
   "outputs": [
    {
     "name": "stdout",
     "output_type": "stream",
     "text": [
      "0.7142857142857142\n"
     ]
    }
   ],
   "source": [
    "# F1 Score\n",
    "print(f11)"
   ]
  },
  {
   "cell_type": "code",
   "execution_count": 31,
   "id": "37af4823",
   "metadata": {},
   "outputs": [
    {
     "name": "stdout",
     "output_type": "stream",
     "text": [
      "0.7668642951251647\n"
     ]
    }
   ],
   "source": [
    "# AUC\n",
    "print(auc1)"
   ]
  },
  {
   "cell_type": "markdown",
   "id": "214f6650",
   "metadata": {},
   "source": [
    "### Advanced 버전\n",
    "\n",
    "(주의) 전체 코드 실행시간이 1분으로 제한되어 있기 때문에, 가능하면 30초 미만으로 할 것!"
   ]
  },
  {
   "cell_type": "code",
   "execution_count": 32,
   "id": "d3cf4407",
   "metadata": {},
   "outputs": [],
   "source": [
    "# GridSearch CV를 활용한 하이퍼파라미터 최적화\n",
    "# - GridSearch : 격자탐색\n",
    "# - CV = CrossValidation, 교차검증\n",
    "\n",
    "# (주의) 별도로 train/val 분리가 필요하지 않음\n",
    "\n",
    "# n_estimators : tree의 개수\n",
    "# max_depth : tree의 최대 깊이\n",
    "# min_samples_leaf : leaf node(더이상 분할되지 않는 마지막 노드)가 되기 위해 필요한 최소 샘플 수\n",
    "# (이 값보다 작은 수의 샘플이 해당 노드에 있을 경우, 더 이상 분할하지 않음)\n",
    "\n",
    "# RandomForestClassifier 객체 생성 후 GridSearchCV 수행\n",
    "\n",
    "# y값 입력 시 주의(1차원 형태로 들어가야함)"
   ]
  },
  {
   "cell_type": "code",
   "execution_count": 36,
   "id": "89f2e72d",
   "metadata": {},
   "outputs": [
    {
     "name": "stdout",
     "output_type": "stream",
     "text": [
      "최적의 파라미터 :  {'max_depth': 5, 'min_samples_leaf': 1, 'n_estimators': 100}\n",
      "best 예측 정확도 :  0.8398865414710486\n"
     ]
    }
   ],
   "source": [
    "from sklearn.model_selection import GridSearchCV\n",
    "from sklearn.ensemble import RandomForestClassifier\n",
    "\n",
    "# print(help(RandomForestClassifier))\n",
    "rf_params = {\n",
    "                'n_estimators' : [30, 50, 70, 100],\n",
    "                'min_samples_leaf' : [1, 3, 5],\n",
    "                'max_depth' : [2, 5, 7]\n",
    "            }\n",
    "\n",
    "rf = RandomForestClassifier()\n",
    "grid_rf = GridSearchCV(rf, param_grid = rf_params, cv =10)\n",
    "grid_rf.fit(x_train_ad, y_train_ad['target'])\n",
    "\n",
    "print(\"최적의 파라미터 : \", grid_rf.best_params_)\n",
    "print('best 예측 정확도 : ', grid_rf.best_score_)"
   ]
  },
  {
   "cell_type": "code",
   "execution_count": null,
   "id": "b7c84d6b",
   "metadata": {},
   "outputs": [],
   "source": [
    "# (참고) help 함수를 통한 함수 사용법 확인\n",
    "\n",
    "# from sklearn.model_selection import GridSearchCV\n",
    "# help(GridSearchCV)\n",
    "\n",
    "# from sklearn.ensemble import RandomForestClassifier\n",
    "# help(RandomForestClassifier)"
   ]
  },
  {
   "cell_type": "code",
   "execution_count": null,
   "id": "235c8e26",
   "metadata": {},
   "outputs": [],
   "source": [
    "# 위의 최적 하이퍼파라미터로 랜덤포레스트 모델을 생성\n"
   ]
  },
  {
   "cell_type": "code",
   "execution_count": null,
   "id": "af35dd3d",
   "metadata": {},
   "outputs": [],
   "source": [
    "# 모델 성능 평가 (정확도, F1 score, AUC)\n",
    "\n",
    "# test 데이터셋으로 성능평가\n",
    "\n",
    "\n",
    "# HP : Hyperparameter\n",
    "\n",
    "\n"
   ]
  },
  {
   "cell_type": "markdown",
   "id": "ddd4b2d9",
   "metadata": {},
   "source": [
    "## ✅ 5. 예측값 제출\n",
    "### (주의) x_test를 모델에 넣어 나온 예측값을 제출해야함"
   ]
  },
  {
   "cell_type": "code",
   "execution_count": null,
   "id": "27888d22",
   "metadata": {},
   "outputs": [],
   "source": [
    "# (실기시험 안내사항)\n",
    "# 아래 코드 예측변수와 수험번호를 개인별로 변경하여 활용\n",
    "# pd.DataFrame({ 'result': y_result }).to_csv('수험번호.csv', index=False)\n",
    "\n",
    "# 모델을 사용하여 테스트 데이터 예측\n",
    "\n",
    "# 1. 특정 클래스로 분류할 경우 (predict)\n",
    "\n",
    "\n",
    "# 2. 특정 클래스로 분류될 확률을 구할 경우 (predict_proba)\n",
    "\n",
    "\n",
    "# 이해해보기\n",
    "\n",
    "\n",
    "# Class가 0일 확률 : y_result_prob[:,0]\n",
    "# Class가 1일 확률 : y_result_prob[:,1]\n",
    "\n"
   ]
  },
  {
   "cell_type": "code",
   "execution_count": null,
   "id": "f57b0dce",
   "metadata": {},
   "outputs": [],
   "source": [
    "# ★tip : 데이터를 저장한다음 불러와서 제대로 제출했는지 확인해보자\n",
    "# pd.DataFrame({'result': y_result}).to_csv('수험번호.csv', index=False)\n",
    "# df2 = pd.read_csv(\"수험번호.csv\")\n",
    "# print(df2.head())"
   ]
  }
 ],
 "metadata": {
  "kernelspec": {
   "display_name": "Python 3 (ipykernel)",
   "language": "python",
   "name": "python3"
  },
  "language_info": {
   "codemirror_mode": {
    "name": "ipython",
    "version": 3
   },
   "file_extension": ".py",
   "mimetype": "text/x-python",
   "name": "python",
   "nbconvert_exporter": "python",
   "pygments_lexer": "ipython3",
   "version": "3.10.9"
  }
 },
 "nbformat": 4,
 "nbformat_minor": 5
}
