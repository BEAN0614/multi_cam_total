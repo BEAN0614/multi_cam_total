{
 "cells": [
  {
   "cell_type": "markdown",
   "id": "7bc8ed0b",
   "metadata": {},
   "source": [
    "## 제3유형_카이제곱 검정\n",
    "## ✅ 분석 Case\n",
    "Case 1. 적합도 검정 - 각 범주에 속할 확률이 같은지?\n",
    "\n",
    "Case 2. 독립성 검정 - 두 개의 범주형 변수가 서로 독립인지?\n",
    "## ✅ 가설검정 순서(중요!!)\n",
    "> 1. 가설설정\n",
    "> 2. 유의수준 확인\n",
    "> 3. 검정실시(통계량, p-value 확인, 기대빈도 확인)\n",
    "> 4. 귀무가설 기각여부 결정(채택/기각)\n",
    "## ✅ 예제문제\n",
    "Case 1. 적합도 검정 - 각 범주에 속할 확률이 같은지?\n",
    "\n",
    "문제 1-1\n",
    "\n",
    "랜덤 박스에 상품 A,B,C,D가 들어있다.\n",
    "\n",
    "다음은 랜덤박스에서 100번 상품을 꺼냈을 때의 상품 데이터라고 할 때\n",
    "\n",
    "상품이 동일한 비율로 들어있다고 할 수 있는지 검정해보시오."
   ]
  },
  {
   "cell_type": "code",
   "execution_count": 2,
   "id": "550ad499",
   "metadata": {},
   "outputs": [],
   "source": [
    "import pandas as pd\n",
    "import numpy as np"
   ]
  },
  {
   "cell_type": "code",
   "execution_count": 3,
   "id": "c7af9c74",
   "metadata": {},
   "outputs": [
    {
     "data": {
      "text/html": [
       "<div>\n",
       "<style scoped>\n",
       "    .dataframe tbody tr th:only-of-type {\n",
       "        vertical-align: middle;\n",
       "    }\n",
       "\n",
       "    .dataframe tbody tr th {\n",
       "        vertical-align: top;\n",
       "    }\n",
       "\n",
       "    .dataframe thead th {\n",
       "        text-align: right;\n",
       "    }\n",
       "</style>\n",
       "<table border=\"1\" class=\"dataframe\">\n",
       "  <thead>\n",
       "    <tr style=\"text-align: right;\">\n",
       "      <th></th>\n",
       "      <th>A</th>\n",
       "      <th>B</th>\n",
       "      <th>C</th>\n",
       "      <th>D</th>\n",
       "    </tr>\n",
       "  </thead>\n",
       "  <tbody>\n",
       "    <tr>\n",
       "      <th>0</th>\n",
       "      <td>30</td>\n",
       "      <td>20</td>\n",
       "      <td>15</td>\n",
       "      <td>35</td>\n",
       "    </tr>\n",
       "  </tbody>\n",
       "</table>\n",
       "</div>"
      ],
      "text/plain": [
       "    A   B   C   D\n",
       "0  30  20  15  35"
      ]
     },
     "execution_count": 3,
     "metadata": {},
     "output_type": "execute_result"
    }
   ],
   "source": [
    "# 데이터 생성\n",
    "row1 = [30, 20, 15, 35]\n",
    "df = pd.DataFrame([row1], columns=['A','B','C', 'D'])\n",
    "df"
   ]
  },
  {
   "cell_type": "code",
   "execution_count": null,
   "id": "4f0fd474",
   "metadata": {},
   "outputs": [],
   "source": [
    "# 1. 가설설정\n",
    "# H0 : 랜덤박스에 상품 A,B,C,D가 동일한 비율로 들어있다.\n",
    "# H1 : 랜덤박스에 상품 A,B,C,D가 동일한 비율로 들어있지 않다."
   ]
  },
  {
   "cell_type": "code",
   "execution_count": null,
   "id": "65510b75",
   "metadata": {},
   "outputs": [],
   "source": [
    "# 2. 유의수준 확인 : 유의수준 5%로 확인"
   ]
  },
  {
   "cell_type": "code",
   "execution_count": 4,
   "id": "5bfff879",
   "metadata": {},
   "outputs": [
    {
     "name": "stdout",
     "output_type": "stream",
     "text": [
      "10.0\n",
      "0.01856613546304325\n"
     ]
    }
   ],
   "source": [
    "# 3. 검정실시(통계량, p-value)\n",
    "from scipy.stats import chisquare\n",
    "# chisquare(f_obs=f_obs, f_exp=f_exp)    #관측빈도, 기대빈도\n",
    "f_obs = [30, 20, 15, 35]\n",
    "f_exp = [25, 25, 25, 25]\n",
    "statistic, pvalue = chisquare(f_obs = f_obs, f_exp = f_exp)\n",
    "# 관측빈도와 기대빈도 구하기\n",
    "print(statistic)\n",
    "print(pvalue)"
   ]
  },
  {
   "cell_type": "code",
   "execution_count": null,
   "id": "722e9eeb",
   "metadata": {},
   "outputs": [],
   "source": [
    "# 4. 귀무가설 기각여부 결정(채택/기각)\n",
    "# p-value 값이 0.05보다 작기 때문에 귀무가설을 기각한다.\n",
    "# 즉, 랜덤박스에 상품 A,B,C,D가 동일한 비율로 들어있지 않다고 할 수 있다.\n",
    "\n",
    "# 답 : 기각"
   ]
  },
  {
   "cell_type": "markdown",
   "id": "f4a05fc7",
   "metadata": {},
   "source": [
    "## 문제 1-2\n",
    "\n",
    "랜덤 박스에 상품 A, B, C가 들어있다.\n",
    "\n",
    "다음은 랜덤박스에서 150번 상품을 꺼냈을 때의 상품 데이터라고 할 때\n",
    "\n",
    "상품별로 A 30%, B 15%, C 55% 비율로 들어있다고 할 수 있는지 검정해보시오."
   ]
  },
  {
   "cell_type": "code",
   "execution_count": null,
   "id": "98c981af",
   "metadata": {},
   "outputs": [],
   "source": [
    "import pandas as pd\n",
    "import numpy as np"
   ]
  },
  {
   "cell_type": "code",
   "execution_count": null,
   "id": "a01f39e7",
   "metadata": {},
   "outputs": [],
   "source": [
    "# 데이터 생성\n",
    "row1 = [50,25,75]\n",
    "df = pd.DataFrame([row1], columns=['A','B','C'])\n",
    "df"
   ]
  },
  {
   "cell_type": "code",
   "execution_count": null,
   "id": "8c1d4dc2",
   "metadata": {},
   "outputs": [],
   "source": [
    "# 1. 가설설정\n",
    "# H0 : 랜덤박스에 상품\tA,B,C가 30%, 15%, 55%의 비율로 들어있다.\n",
    "# H1 : 랜덤박스에 상품\tA,B,C가 30%, 15%, 55%의 비율로 들어있지 않다"
   ]
  },
  {
   "cell_type": "code",
   "execution_count": null,
   "id": "217cc73e",
   "metadata": {},
   "outputs": [],
   "source": [
    "# 2. 유의수준 확인 : 유의수준 5%로 확인"
   ]
  },
  {
   "cell_type": "code",
   "execution_count": 5,
   "id": "797a4da2",
   "metadata": {},
   "outputs": [
    {
     "name": "stdout",
     "output_type": "stream",
     "text": [
      "1.5151515151515151\n",
      "0.46880153914023537\n"
     ]
    }
   ],
   "source": [
    "# 3. 검정실시(통계량, p-value)\n",
    "from scipy.stats import chisquare\n",
    "# chisquare(f_obs=f_obs, f_exp=f_exp)    #관측빈도, 기대빈도\n",
    "a = 150 * 0.3\n",
    "b = 150 * 0.15\n",
    "c = 150 * 0.55\n",
    "f_obs = [50, 25, 75]\n",
    "f_exp = [a, b, c]\n",
    "# 관측빈도와 기대빈도 구하기\n",
    "statistic, pvalue = chisquare(f_obs = f_obs, f_exp = f_exp)\n",
    "print(statistic)\n",
    "print(pvalue)"
   ]
  },
  {
   "cell_type": "code",
   "execution_count": null,
   "id": "dac9f62e",
   "metadata": {},
   "outputs": [],
   "source": [
    "# 4. 귀무가설 기각여부 결정(채택/기각)\n",
    "# p-value 값이 0.05보다 크기 때문에 귀무가설을 채택한다.\n",
    "# 즉, 랜덤박스에 상품 A,B,C가 30%, 15%, 55%의 비율로 들어있다고 할 수 있다.\n",
    "\n",
    "# 답 : 채택"
   ]
  },
  {
   "cell_type": "markdown",
   "id": "a367a4dd",
   "metadata": {},
   "source": [
    "Case 2. 독립성 검정 - 두 개의 범주형 변수가 서로 독립인지?\n",
    "\n",
    "문제 2-1\n",
    "\n",
    "연령대에 따라 먹는 아이스크림의 차이가 있는지 독립성 검정을 실시하시오."
   ]
  },
  {
   "cell_type": "code",
   "execution_count": 6,
   "id": "06fe0bb2",
   "metadata": {},
   "outputs": [],
   "source": [
    "import pandas as pd\n",
    "import numpy as np"
   ]
  },
  {
   "cell_type": "code",
   "execution_count": 7,
   "id": "b7cb5b15",
   "metadata": {},
   "outputs": [
    {
     "data": {
      "text/html": [
       "<div>\n",
       "<style scoped>\n",
       "    .dataframe tbody tr th:only-of-type {\n",
       "        vertical-align: middle;\n",
       "    }\n",
       "\n",
       "    .dataframe tbody tr th {\n",
       "        vertical-align: top;\n",
       "    }\n",
       "\n",
       "    .dataframe thead th {\n",
       "        text-align: right;\n",
       "    }\n",
       "</style>\n",
       "<table border=\"1\" class=\"dataframe\">\n",
       "  <thead>\n",
       "    <tr style=\"text-align: right;\">\n",
       "      <th></th>\n",
       "      <th>딸기</th>\n",
       "      <th>초코</th>\n",
       "      <th>바닐라</th>\n",
       "    </tr>\n",
       "  </thead>\n",
       "  <tbody>\n",
       "    <tr>\n",
       "      <th>10대</th>\n",
       "      <td>200</td>\n",
       "      <td>190</td>\n",
       "      <td>250</td>\n",
       "    </tr>\n",
       "    <tr>\n",
       "      <th>20대</th>\n",
       "      <td>220</td>\n",
       "      <td>250</td>\n",
       "      <td>300</td>\n",
       "    </tr>\n",
       "  </tbody>\n",
       "</table>\n",
       "</div>"
      ],
      "text/plain": [
       "      딸기   초코  바닐라\n",
       "10대  200  190  250\n",
       "20대  220  250  300"
      ]
     },
     "execution_count": 7,
     "metadata": {},
     "output_type": "execute_result"
    }
   ],
   "source": [
    "# 데이터 생성\n",
    "row1, row2 = [200, 190, 250], [220, 250, 300]\n",
    "df = pd.DataFrame([row1, row2], columns=['딸기','초코','바닐라'], index=['10대', '20대'])\n",
    "df"
   ]
  },
  {
   "cell_type": "code",
   "execution_count": null,
   "id": "7ede4615",
   "metadata": {},
   "outputs": [],
   "source": [
    "# 1. 가설설정\n",
    "# H0 : 연령대와 먹는 아이스크림의 종류는 서로 관련이 없다(두 변수는 서로 독립이다)\n",
    "# H1 : 연령대와 먹는 아이스크림의 종류는 서로 관련이 있다(두 변수는 서로 독립이 아니다)"
   ]
  },
  {
   "cell_type": "code",
   "execution_count": null,
   "id": "df2da93e",
   "metadata": {},
   "outputs": [],
   "source": [
    "# 2. 유의수준 확인 : 유의수준 5%로 확인"
   ]
  },
  {
   "cell_type": "code",
   "execution_count": 12,
   "id": "8293f06c",
   "metadata": {},
   "outputs": [
    {
     "name": "stdout",
     "output_type": "stream",
     "text": [
      "Help on function chi2_contingency in module scipy.stats.contingency:\n",
      "\n",
      "chi2_contingency(observed, correction=True, lambda_=None)\n",
      "    Chi-square test of independence of variables in a contingency table.\n",
      "    \n",
      "    This function computes the chi-square statistic and p-value for the\n",
      "    hypothesis test of independence of the observed frequencies in the\n",
      "    contingency table [1]_ `observed`.  The expected frequencies are computed\n",
      "    based on the marginal sums under the assumption of independence; see\n",
      "    `scipy.stats.contingency.expected_freq`.  The number of degrees of\n",
      "    freedom is (expressed using numpy functions and attributes)::\n",
      "    \n",
      "        dof = observed.size - sum(observed.shape) + observed.ndim - 1\n",
      "    \n",
      "    \n",
      "    Parameters\n",
      "    ----------\n",
      "    observed : array_like\n",
      "        The contingency table. The table contains the observed frequencies\n",
      "        (i.e. number of occurrences) in each category.  In the two-dimensional\n",
      "        case, the table is often described as an \"R x C table\".\n",
      "    correction : bool, optional\n",
      "        If True, *and* the degrees of freedom is 1, apply Yates' correction\n",
      "        for continuity.  The effect of the correction is to adjust each\n",
      "        observed value by 0.5 towards the corresponding expected value.\n",
      "    lambda_ : float or str, optional\n",
      "        By default, the statistic computed in this test is Pearson's\n",
      "        chi-squared statistic [2]_.  `lambda_` allows a statistic from the\n",
      "        Cressie-Read power divergence family [3]_ to be used instead.  See\n",
      "        `scipy.stats.power_divergence` for details.\n",
      "    \n",
      "    Returns\n",
      "    -------\n",
      "    res : Chi2ContingencyResult\n",
      "        An object containing attributes:\n",
      "    \n",
      "        statistic : float\n",
      "            The test statistic.\n",
      "        pvalue : float\n",
      "            The p-value of the test.\n",
      "        dof : int\n",
      "            The degrees of freedom.\n",
      "        expected_freq : ndarray, same shape as `observed`\n",
      "            The expected frequencies, based on the marginal sums of the table.\n",
      "    \n",
      "    See Also\n",
      "    --------\n",
      "    scipy.stats.contingency.expected_freq\n",
      "    scipy.stats.fisher_exact\n",
      "    scipy.stats.chisquare\n",
      "    scipy.stats.power_divergence\n",
      "    scipy.stats.barnard_exact\n",
      "    scipy.stats.boschloo_exact\n",
      "    \n",
      "    Notes\n",
      "    -----\n",
      "    An often quoted guideline for the validity of this calculation is that\n",
      "    the test should be used only if the observed and expected frequencies\n",
      "    in each cell are at least 5.\n",
      "    \n",
      "    This is a test for the independence of different categories of a\n",
      "    population. The test is only meaningful when the dimension of\n",
      "    `observed` is two or more.  Applying the test to a one-dimensional\n",
      "    table will always result in `expected` equal to `observed` and a\n",
      "    chi-square statistic equal to 0.\n",
      "    \n",
      "    This function does not handle masked arrays, because the calculation\n",
      "    does not make sense with missing values.\n",
      "    \n",
      "    Like `scipy.stats.chisquare`, this function computes a chi-square\n",
      "    statistic; the convenience this function provides is to figure out the\n",
      "    expected frequencies and degrees of freedom from the given contingency\n",
      "    table. If these were already known, and if the Yates' correction was not\n",
      "    required, one could use `scipy.stats.chisquare`.  That is, if one calls::\n",
      "    \n",
      "        res = chi2_contingency(obs, correction=False)\n",
      "    \n",
      "    then the following is true::\n",
      "    \n",
      "        (res.statistic, res.pvalue) == stats.chisquare(obs.ravel(),\n",
      "                                                       f_exp=ex.ravel(),\n",
      "                                                       ddof=obs.size - 1 - dof)\n",
      "    \n",
      "    The `lambda_` argument was added in version 0.13.0 of scipy.\n",
      "    \n",
      "    References\n",
      "    ----------\n",
      "    .. [1] \"Contingency table\",\n",
      "           https://en.wikipedia.org/wiki/Contingency_table\n",
      "    .. [2] \"Pearson's chi-squared test\",\n",
      "           https://en.wikipedia.org/wiki/Pearson%27s_chi-squared_test\n",
      "    .. [3] Cressie, N. and Read, T. R. C., \"Multinomial Goodness-of-Fit\n",
      "           Tests\", J. Royal Stat. Soc. Series B, Vol. 46, No. 3 (1984),\n",
      "           pp. 440-464.\n",
      "    \n",
      "    Examples\n",
      "    --------\n",
      "    A two-way example (2 x 3):\n",
      "    \n",
      "    >>> import numpy as np\n",
      "    >>> from scipy.stats import chi2_contingency\n",
      "    >>> obs = np.array([[10, 10, 20], [20, 20, 20]])\n",
      "    >>> res = chi2_contingency(obs)\n",
      "    >>> res.statistic\n",
      "    2.7777777777777777\n",
      "    >>> res.pvalue\n",
      "    0.24935220877729619\n",
      "    >>> res.dof\n",
      "    2\n",
      "    >>> res.expected_freq\n",
      "    array([[ 12.,  12.,  16.],\n",
      "           [ 18.,  18.,  24.]])\n",
      "    \n",
      "    Perform the test using the log-likelihood ratio (i.e. the \"G-test\")\n",
      "    instead of Pearson's chi-squared statistic.\n",
      "    \n",
      "    >>> res = chi2_contingency(obs, lambda_=\"log-likelihood\")\n",
      "    >>> res.statistic\n",
      "    2.7688587616781319\n",
      "    >>> res.pvalue\n",
      "    0.25046668010954165\n",
      "    \n",
      "    A four-way example (2 x 2 x 2 x 2):\n",
      "    \n",
      "    >>> obs = np.array(\n",
      "    ...     [[[[12, 17],\n",
      "    ...        [11, 16]],\n",
      "    ...       [[11, 12],\n",
      "    ...        [15, 16]]],\n",
      "    ...      [[[23, 15],\n",
      "    ...        [30, 22]],\n",
      "    ...       [[14, 17],\n",
      "    ...        [15, 16]]]])\n",
      "    >>> res = chi2_contingency(obs)\n",
      "    >>> res.statistic\n",
      "    8.7584514426741897\n",
      "    >>> res.pvalue\n",
      "    0.64417725029295503\n",
      "\n",
      "None\n"
     ]
    }
   ],
   "source": [
    "import scipy.stats as stats\n",
    "print(help(stats.chi2_contingency))"
   ]
  },
  {
   "cell_type": "code",
   "execution_count": 14,
   "id": "7b8c0dc4",
   "metadata": {},
   "outputs": [
    {
     "name": "stdout",
     "output_type": "stream",
     "text": [
      "1.708360126075226\n",
      "0.4256320394874311\n",
      "2\n",
      "[[190.64 199.72 249.65]\n",
      " [229.36 240.28 300.35]]\n"
     ]
    }
   ],
   "source": [
    "# 3. 검정실시(통계량, p-value, 기대빈도 확인)\n",
    "from scipy.stats import chi2_contingency\n",
    "# 공식문서상에 : statistic(통계량), pvalue, dof(자유도), expected_freq(기대빈도)\n",
    "statistic, pvalue, dof, expected = chi2_contingency(df)\n",
    "# 아래와 같이 입력해도 동일한 결과값\n",
    "# statistic, pvalue, dof, expected = chi2_contingency([row1, row2])\n",
    "# statistic, pvalue, dof, expected = chi2_contingency([df.iloc[0],df.iloc[1]])\n",
    "print(statistic)\n",
    "print(pvalue)\n",
    "print(dof)\n",
    "print(np.round(expected, 2))\n",
    "# (참고) print(chi2_contingency(df))"
   ]
  },
  {
   "cell_type": "code",
   "execution_count": null,
   "id": "9fe36318",
   "metadata": {},
   "outputs": [],
   "source": [
    "# 4. 귀무가설 기각여부 결정(채택/기각)\n",
    "# p-value 값이 0.05보다 크기 때문에 귀무가설을 채택한다.\n",
    "# 즉, 연령대와 먹는 아이스크림의 종류는 서로 관련이 없다고 할 수 있다.\n",
    "\n",
    "# 답 : 채택"
   ]
  },
  {
   "cell_type": "markdown",
   "id": "177de055",
   "metadata": {},
   "source": [
    "(추가) 만약 데이터 형태가 다를경우?"
   ]
  },
  {
   "cell_type": "code",
   "execution_count": 15,
   "id": "438dcaee",
   "metadata": {},
   "outputs": [
    {
     "data": {
      "text/html": [
       "<div>\n",
       "<style scoped>\n",
       "    .dataframe tbody tr th:only-of-type {\n",
       "        vertical-align: middle;\n",
       "    }\n",
       "\n",
       "    .dataframe tbody tr th {\n",
       "        vertical-align: top;\n",
       "    }\n",
       "\n",
       "    .dataframe thead th {\n",
       "        text-align: right;\n",
       "    }\n",
       "</style>\n",
       "<table border=\"1\" class=\"dataframe\">\n",
       "  <thead>\n",
       "    <tr style=\"text-align: right;\">\n",
       "      <th></th>\n",
       "      <th>아이스크림</th>\n",
       "      <th>연령</th>\n",
       "      <th>인원</th>\n",
       "    </tr>\n",
       "  </thead>\n",
       "  <tbody>\n",
       "    <tr>\n",
       "      <th>0</th>\n",
       "      <td>딸기</td>\n",
       "      <td>10대</td>\n",
       "      <td>200</td>\n",
       "    </tr>\n",
       "    <tr>\n",
       "      <th>1</th>\n",
       "      <td>초코</td>\n",
       "      <td>10대</td>\n",
       "      <td>190</td>\n",
       "    </tr>\n",
       "    <tr>\n",
       "      <th>2</th>\n",
       "      <td>바닐라</td>\n",
       "      <td>10대</td>\n",
       "      <td>250</td>\n",
       "    </tr>\n",
       "    <tr>\n",
       "      <th>3</th>\n",
       "      <td>딸기</td>\n",
       "      <td>20대</td>\n",
       "      <td>220</td>\n",
       "    </tr>\n",
       "    <tr>\n",
       "      <th>4</th>\n",
       "      <td>초코</td>\n",
       "      <td>20대</td>\n",
       "      <td>250</td>\n",
       "    </tr>\n",
       "    <tr>\n",
       "      <th>5</th>\n",
       "      <td>바닐라</td>\n",
       "      <td>20대</td>\n",
       "      <td>300</td>\n",
       "    </tr>\n",
       "  </tbody>\n",
       "</table>\n",
       "</div>"
      ],
      "text/plain": [
       "  아이스크림   연령   인원\n",
       "0    딸기  10대  200\n",
       "1    초코  10대  190\n",
       "2   바닐라  10대  250\n",
       "3    딸기  20대  220\n",
       "4    초코  20대  250\n",
       "5   바닐라  20대  300"
      ]
     },
     "execution_count": 15,
     "metadata": {},
     "output_type": "execute_result"
    }
   ],
   "source": [
    "# ★ tip : pd.crosstab() 사용방법\n",
    "# (Case1) 만약 데이터가 아래와 같이 주어진다면?\n",
    "df = pd.DataFrame({\n",
    "    '아이스크림' : ['딸기','초코','바닐라','딸기','초코','바닐라'],\n",
    "    '연령' : ['10대','10대','10대','20대','20대','20대'],\n",
    "    '인원' : [200,190,250,220,250,300]\n",
    "    })\n",
    "df"
   ]
  },
  {
   "cell_type": "code",
   "execution_count": 17,
   "id": "e4c247cb",
   "metadata": {},
   "outputs": [
    {
     "data": {
      "text/html": [
       "<div>\n",
       "<style scoped>\n",
       "    .dataframe tbody tr th:only-of-type {\n",
       "        vertical-align: middle;\n",
       "    }\n",
       "\n",
       "    .dataframe tbody tr th {\n",
       "        vertical-align: top;\n",
       "    }\n",
       "\n",
       "    .dataframe thead th {\n",
       "        text-align: right;\n",
       "    }\n",
       "</style>\n",
       "<table border=\"1\" class=\"dataframe\">\n",
       "  <thead>\n",
       "    <tr style=\"text-align: right;\">\n",
       "      <th>아이스크림</th>\n",
       "      <th>딸기</th>\n",
       "      <th>바닐라</th>\n",
       "      <th>초코</th>\n",
       "    </tr>\n",
       "    <tr>\n",
       "      <th>연령</th>\n",
       "      <th></th>\n",
       "      <th></th>\n",
       "      <th></th>\n",
       "    </tr>\n",
       "  </thead>\n",
       "  <tbody>\n",
       "    <tr>\n",
       "      <th>10대</th>\n",
       "      <td>200</td>\n",
       "      <td>250</td>\n",
       "      <td>190</td>\n",
       "    </tr>\n",
       "    <tr>\n",
       "      <th>20대</th>\n",
       "      <td>220</td>\n",
       "      <td>300</td>\n",
       "      <td>250</td>\n",
       "    </tr>\n",
       "  </tbody>\n",
       "</table>\n",
       "</div>"
      ],
      "text/plain": [
       "아이스크림   딸기  바닐라   초코\n",
       "연령                  \n",
       "10대    200  250  190\n",
       "20대    220  300  250"
      ]
     },
     "execution_count": 17,
     "metadata": {},
     "output_type": "execute_result"
    }
   ],
   "source": [
    "# pd.crosstab(index =  , columns = , values = , aggfunc=sum)\n",
    "table = pd.crosstab(index = df['연령'], columns = df['아이스크림'], values = df['인원'], aggfunc = sum)\n",
    "table\n",
    "# 주의 : index, columns에 순서를 꼭 확인하기\n",
    "# print(table)"
   ]
  },
  {
   "cell_type": "code",
   "execution_count": 18,
   "id": "276e67f1",
   "metadata": {},
   "outputs": [
    {
     "name": "stdout",
     "output_type": "stream",
     "text": [
      "['ConstantInputWarning', 'Covariance', 'DegenerateDataWarning', 'FitError', 'NearConstantInputWarning', '__all__', '__builtins__', '__cached__', '__doc__', '__file__', '__loader__', '__name__', '__package__', '__path__', '__spec__', '_axis_nan_policy', '_biasedurn', '_binned_statistic', '_binomtest', '_boost', '_common', '_constants', '_continuous_distns', '_covariance', '_crosstab', '_discrete_distns', '_distn_infrastructure', '_distr_params', '_entropy', '_fit', '_hypotests', '_kde', '_ksstats', '_levy_stable', '_mannwhitneyu', '_morestats', '_mstats_basic', '_mstats_extras', '_multivariate', '_mvn', '_odds_ratio', '_page_trend_test', '_qmc', '_qmc_cy', '_rcont', '_relative_risk', '_resampling', '_rvs_sampling', '_sobol', '_statlib', '_stats', '_stats_mstats_common', '_stats_py', '_stats_pythran', '_tukeylambda_stats', '_variation', '_warnings_errors', 'alexandergovern', 'alpha', 'anderson', 'anderson_ksamp', 'anglit', 'ansari', 'arcsine', 'argus', 'barnard_exact', 'bartlett', 'bayes_mvs', 'bernoulli', 'beta', 'betabinom', 'betaprime', 'biasedurn', 'binned_statistic', 'binned_statistic_2d', 'binned_statistic_dd', 'binom', 'binom_test', 'binomtest', 'boltzmann', 'bootstrap', 'boschloo_exact', 'boxcox', 'boxcox_llf', 'boxcox_normmax', 'boxcox_normplot', 'bradford', 'brunnermunzel', 'burr', 'burr12', 'cauchy', 'chi', 'chi2', 'chi2_contingency', 'chisquare', 'circmean', 'circstd', 'circvar', 'combine_pvalues', 'contingency', 'cosine', 'cramervonmises', 'cramervonmises_2samp', 'crystalball', 'cumfreq', 'describe', 'dgamma', 'differential_entropy', 'directional_stats', 'dirichlet', 'distributions', 'dlaplace', 'dweibull', 'energy_distance', 'entropy', 'epps_singleton_2samp', 'erlang', 'expectile', 'expon', 'exponnorm', 'exponpow', 'exponweib', 'f', 'f_oneway', 'fatiguelife', 'find_repeats', 'fisher_exact', 'fisk', 'fit', 'fligner', 'foldcauchy', 'foldnorm', 'friedmanchisquare', 'gamma', 'gausshyper', 'gaussian_kde', 'genexpon', 'genextreme', 'gengamma', 'genhalflogistic', 'genhyperbolic', 'geninvgauss', 'genlogistic', 'gennorm', 'genpareto', 'geom', 'gibrat', 'gilbrat', 'gmean', 'gompertz', 'goodness_of_fit', 'gstd', 'gumbel_l', 'gumbel_r', 'gzscore', 'halfcauchy', 'halfgennorm', 'halflogistic', 'halfnorm', 'hmean', 'hypergeom', 'hypsecant', 'invgamma', 'invgauss', 'invweibull', 'invwishart', 'iqr', 'jarque_bera', 'johnsonsb', 'johnsonsu', 'kappa3', 'kappa4', 'kde', 'kendalltau', 'kruskal', 'ks_1samp', 'ks_2samp', 'ksone', 'kstat', 'kstatvar', 'kstest', 'kstwo', 'kstwobign', 'kurtosis', 'kurtosistest', 'laplace', 'laplace_asymmetric', 'levene', 'levy', 'levy_l', 'levy_stable', 'linregress', 'loggamma', 'logistic', 'loglaplace', 'lognorm', 'logser', 'loguniform', 'lomax', 'mannwhitneyu', 'matrix_normal', 'maxwell', 'median_abs_deviation', 'median_test', 'mielke', 'mode', 'moment', 'monte_carlo_test', 'mood', 'morestats', 'moyal', 'mstats', 'mstats_basic', 'mstats_extras', 'multinomial', 'multiscale_graphcorr', 'multivariate_hypergeom', 'multivariate_normal', 'multivariate_t', 'mvn', 'mvsdist', 'nakagami', 'nbinom', 'ncf', 'nchypergeom_fisher', 'nchypergeom_wallenius', 'nct', 'ncx2', 'nhypergeom', 'norm', 'normaltest', 'norminvgauss', 'obrientransform', 'ortho_group', 'page_trend_test', 'pareto', 'pearson3', 'pearsonr', 'percentileofscore', 'permutation_test', 'planck', 'pmean', 'pointbiserialr', 'poisson', 'poisson_means_test', 'power_divergence', 'powerlaw', 'powerlognorm', 'powernorm', 'ppcc_max', 'ppcc_plot', 'probplot', 'qmc', 'randint', 'random_correlation', 'random_table', 'rankdata', 'ranksums', 'rayleigh', 'rdist', 'recipinvgauss', 'reciprocal', 'relfreq', 'rice', 'rv_continuous', 'rv_discrete', 'rv_histogram', 'rvs_ratio_uniforms', 'scoreatpercentile', 'sem', 'semicircular', 'shapiro', 'siegelslopes', 'sigmaclip', 'skellam', 'skew', 'skewcauchy', 'skewnorm', 'skewtest', 'somersd', 'spearmanr', 'special_ortho_group', 'statlib', 'stats', 'studentized_range', 't', 'test', 'theilslopes', 'tiecorrect', 'tmax', 'tmean', 'tmin', 'trapezoid', 'trapz', 'triang', 'trim1', 'trim_mean', 'trimboth', 'truncexpon', 'truncnorm', 'truncpareto', 'truncweibull_min', 'tsem', 'tstd', 'ttest_1samp', 'ttest_ind', 'ttest_ind_from_stats', 'ttest_rel', 'tukey_hsd', 'tukeylambda', 'tvar', 'uniform', 'uniform_direction', 'unitary_group', 'variation', 'vonmises', 'vonmises_line', 'wald', 'wasserstein_distance', 'weibull_max', 'weibull_min', 'weightedtau', 'wilcoxon', 'wishart', 'wrapcauchy', 'yeojohnson', 'yeojohnson_llf', 'yeojohnson_normmax', 'yeojohnson_normplot', 'yulesimon', 'zipf', 'zipfian', 'zmap', 'zscore']\n"
     ]
    }
   ],
   "source": [
    "import scipy.stats as stats\n",
    "print(dir(stats))"
   ]
  },
  {
   "cell_type": "code",
   "execution_count": 20,
   "id": "56016744",
   "metadata": {},
   "outputs": [
    {
     "name": "stdout",
     "output_type": "stream",
     "text": [
      "1.708360126075226\n",
      "0.4256320394874311\n",
      "2\n",
      "[[190.64 249.65 199.72]\n",
      " [229.36 300.35 240.28]]\n"
     ]
    }
   ],
   "source": [
    "# 3. 검정실시(통계량, p-value, 기대빈도 확인)\n",
    "from scipy.stats import chi2_contingency\n",
    "# 위와 같이 교차표 만들어서 입력\n",
    "statistic, pvalue, dof, expected = chi2_contingency(table)\n",
    "# 공식문서상에 : statistic(통계량), pvalue, dof(자유도), expected_freq(기대빈도)\n",
    "print(statistic)\n",
    "print(pvalue)\n",
    "print(dof)\n",
    "print(np.round(expected, 2))"
   ]
  },
  {
   "cell_type": "code",
   "execution_count": 21,
   "id": "f1352c3a",
   "metadata": {},
   "outputs": [
    {
     "data": {
      "text/html": [
       "<div>\n",
       "<style scoped>\n",
       "    .dataframe tbody tr th:only-of-type {\n",
       "        vertical-align: middle;\n",
       "    }\n",
       "\n",
       "    .dataframe tbody tr th {\n",
       "        vertical-align: top;\n",
       "    }\n",
       "\n",
       "    .dataframe thead th {\n",
       "        text-align: right;\n",
       "    }\n",
       "</style>\n",
       "<table border=\"1\" class=\"dataframe\">\n",
       "  <thead>\n",
       "    <tr style=\"text-align: right;\">\n",
       "      <th></th>\n",
       "      <th>아이스크림</th>\n",
       "      <th>연령</th>\n",
       "    </tr>\n",
       "  </thead>\n",
       "  <tbody>\n",
       "    <tr>\n",
       "      <th>0</th>\n",
       "      <td>딸기</td>\n",
       "      <td>10대</td>\n",
       "    </tr>\n",
       "    <tr>\n",
       "      <th>1</th>\n",
       "      <td>초코</td>\n",
       "      <td>10대</td>\n",
       "    </tr>\n",
       "    <tr>\n",
       "      <th>2</th>\n",
       "      <td>바닐라</td>\n",
       "      <td>10대</td>\n",
       "    </tr>\n",
       "    <tr>\n",
       "      <th>3</th>\n",
       "      <td>딸기</td>\n",
       "      <td>20대</td>\n",
       "    </tr>\n",
       "    <tr>\n",
       "      <th>4</th>\n",
       "      <td>초코</td>\n",
       "      <td>20대</td>\n",
       "    </tr>\n",
       "    <tr>\n",
       "      <th>5</th>\n",
       "      <td>바닐라</td>\n",
       "      <td>20대</td>\n",
       "    </tr>\n",
       "  </tbody>\n",
       "</table>\n",
       "</div>"
      ],
      "text/plain": [
       "  아이스크림   연령\n",
       "0    딸기  10대\n",
       "1    초코  10대\n",
       "2   바닐라  10대\n",
       "3    딸기  20대\n",
       "4    초코  20대\n",
       "5   바닐라  20대"
      ]
     },
     "execution_count": 21,
     "metadata": {},
     "output_type": "execute_result"
    }
   ],
   "source": [
    "# (Case2) 만약 데이터가 아래와 같이 주어진다면? \n",
    "# (이해를 위한 참고용입니다, 빈도수 카운팅\n",
    "df = pd.DataFrame({\n",
    "    '아이스크림' : ['딸기', '초코', '바닐라', '딸기', '초코', '바닐라'],\n",
    "    '연령' : ['10대', '10대', '10대', '20대', '20대', '20대']\n",
    "})\n",
    "df"
   ]
  },
  {
   "cell_type": "code",
   "execution_count": 23,
   "id": "55a4bbbc",
   "metadata": {},
   "outputs": [
    {
     "data": {
      "text/html": [
       "<div>\n",
       "<style scoped>\n",
       "    .dataframe tbody tr th:only-of-type {\n",
       "        vertical-align: middle;\n",
       "    }\n",
       "\n",
       "    .dataframe tbody tr th {\n",
       "        vertical-align: top;\n",
       "    }\n",
       "\n",
       "    .dataframe thead th {\n",
       "        text-align: right;\n",
       "    }\n",
       "</style>\n",
       "<table border=\"1\" class=\"dataframe\">\n",
       "  <thead>\n",
       "    <tr style=\"text-align: right;\">\n",
       "      <th>아이스크림</th>\n",
       "      <th>딸기</th>\n",
       "      <th>바닐라</th>\n",
       "      <th>초코</th>\n",
       "    </tr>\n",
       "    <tr>\n",
       "      <th>연령</th>\n",
       "      <th></th>\n",
       "      <th></th>\n",
       "      <th></th>\n",
       "    </tr>\n",
       "  </thead>\n",
       "  <tbody>\n",
       "    <tr>\n",
       "      <th>10대</th>\n",
       "      <td>1</td>\n",
       "      <td>1</td>\n",
       "      <td>1</td>\n",
       "    </tr>\n",
       "    <tr>\n",
       "      <th>20대</th>\n",
       "      <td>1</td>\n",
       "      <td>1</td>\n",
       "      <td>1</td>\n",
       "    </tr>\n",
       "  </tbody>\n",
       "</table>\n",
       "</div>"
      ],
      "text/plain": [
       "아이스크림  딸기  바닐라  초코\n",
       "연령                \n",
       "10대     1    1   1\n",
       "20대     1    1   1"
      ]
     },
     "execution_count": 23,
     "metadata": {},
     "output_type": "execute_result"
    }
   ],
   "source": [
    "# pd.crosstab(index, columns)\n",
    "pd.crosstab(index = df['연령'], columns = df['아이스크림'])"
   ]
  },
  {
   "cell_type": "markdown",
   "id": "515941f8",
   "metadata": {},
   "source": [
    "문제 2-2\n",
    "\n",
    "타이타닉에 데이터에서 성별(sex)과 생존여부(survived) 변수간\n",
    "\n",
    "독립성 검정을 실시하시오."
   ]
  },
  {
   "cell_type": "code",
   "execution_count": 24,
   "id": "f8eb0cc0",
   "metadata": {},
   "outputs": [
    {
     "name": "stdout",
     "output_type": "stream",
     "text": [
      "<class 'pandas.core.frame.DataFrame'>\n",
      "RangeIndex: 891 entries, 0 to 890\n",
      "Data columns (total 15 columns):\n",
      " #   Column       Non-Null Count  Dtype   \n",
      "---  ------       --------------  -----   \n",
      " 0   survived     891 non-null    int64   \n",
      " 1   pclass       891 non-null    int64   \n",
      " 2   sex          891 non-null    object  \n",
      " 3   age          714 non-null    float64 \n",
      " 4   sibsp        891 non-null    int64   \n",
      " 5   parch        891 non-null    int64   \n",
      " 6   fare         891 non-null    float64 \n",
      " 7   embarked     889 non-null    object  \n",
      " 8   class        891 non-null    category\n",
      " 9   who          891 non-null    object  \n",
      " 10  adult_male   891 non-null    bool    \n",
      " 11  deck         203 non-null    category\n",
      " 12  embark_town  889 non-null    object  \n",
      " 13  alive        891 non-null    object  \n",
      " 14  alone        891 non-null    bool    \n",
      "dtypes: bool(2), category(2), float64(2), int64(4), object(5)\n",
      "memory usage: 80.7+ KB\n"
     ]
    }
   ],
   "source": [
    "import seaborn as sns\n",
    "df = sns.load_dataset('titanic')\n",
    "df.info()"
   ]
  },
  {
   "cell_type": "code",
   "execution_count": 25,
   "id": "48b32b4e",
   "metadata": {},
   "outputs": [
    {
     "data": {
      "text/html": [
       "<div>\n",
       "<style scoped>\n",
       "    .dataframe tbody tr th:only-of-type {\n",
       "        vertical-align: middle;\n",
       "    }\n",
       "\n",
       "    .dataframe tbody tr th {\n",
       "        vertical-align: top;\n",
       "    }\n",
       "\n",
       "    .dataframe thead th {\n",
       "        text-align: right;\n",
       "    }\n",
       "</style>\n",
       "<table border=\"1\" class=\"dataframe\">\n",
       "  <thead>\n",
       "    <tr style=\"text-align: right;\">\n",
       "      <th></th>\n",
       "      <th>survived</th>\n",
       "      <th>pclass</th>\n",
       "      <th>sex</th>\n",
       "      <th>age</th>\n",
       "      <th>sibsp</th>\n",
       "      <th>parch</th>\n",
       "      <th>fare</th>\n",
       "      <th>embarked</th>\n",
       "      <th>class</th>\n",
       "      <th>who</th>\n",
       "      <th>adult_male</th>\n",
       "      <th>deck</th>\n",
       "      <th>embark_town</th>\n",
       "      <th>alive</th>\n",
       "      <th>alone</th>\n",
       "    </tr>\n",
       "  </thead>\n",
       "  <tbody>\n",
       "    <tr>\n",
       "      <th>0</th>\n",
       "      <td>0</td>\n",
       "      <td>3</td>\n",
       "      <td>male</td>\n",
       "      <td>22.0</td>\n",
       "      <td>1</td>\n",
       "      <td>0</td>\n",
       "      <td>7.2500</td>\n",
       "      <td>S</td>\n",
       "      <td>Third</td>\n",
       "      <td>man</td>\n",
       "      <td>True</td>\n",
       "      <td>NaN</td>\n",
       "      <td>Southampton</td>\n",
       "      <td>no</td>\n",
       "      <td>False</td>\n",
       "    </tr>\n",
       "    <tr>\n",
       "      <th>1</th>\n",
       "      <td>1</td>\n",
       "      <td>1</td>\n",
       "      <td>female</td>\n",
       "      <td>38.0</td>\n",
       "      <td>1</td>\n",
       "      <td>0</td>\n",
       "      <td>71.2833</td>\n",
       "      <td>C</td>\n",
       "      <td>First</td>\n",
       "      <td>woman</td>\n",
       "      <td>False</td>\n",
       "      <td>C</td>\n",
       "      <td>Cherbourg</td>\n",
       "      <td>yes</td>\n",
       "      <td>False</td>\n",
       "    </tr>\n",
       "    <tr>\n",
       "      <th>2</th>\n",
       "      <td>1</td>\n",
       "      <td>3</td>\n",
       "      <td>female</td>\n",
       "      <td>26.0</td>\n",
       "      <td>0</td>\n",
       "      <td>0</td>\n",
       "      <td>7.9250</td>\n",
       "      <td>S</td>\n",
       "      <td>Third</td>\n",
       "      <td>woman</td>\n",
       "      <td>False</td>\n",
       "      <td>NaN</td>\n",
       "      <td>Southampton</td>\n",
       "      <td>yes</td>\n",
       "      <td>True</td>\n",
       "    </tr>\n",
       "    <tr>\n",
       "      <th>3</th>\n",
       "      <td>1</td>\n",
       "      <td>1</td>\n",
       "      <td>female</td>\n",
       "      <td>35.0</td>\n",
       "      <td>1</td>\n",
       "      <td>0</td>\n",
       "      <td>53.1000</td>\n",
       "      <td>S</td>\n",
       "      <td>First</td>\n",
       "      <td>woman</td>\n",
       "      <td>False</td>\n",
       "      <td>C</td>\n",
       "      <td>Southampton</td>\n",
       "      <td>yes</td>\n",
       "      <td>False</td>\n",
       "    </tr>\n",
       "    <tr>\n",
       "      <th>4</th>\n",
       "      <td>0</td>\n",
       "      <td>3</td>\n",
       "      <td>male</td>\n",
       "      <td>35.0</td>\n",
       "      <td>0</td>\n",
       "      <td>0</td>\n",
       "      <td>8.0500</td>\n",
       "      <td>S</td>\n",
       "      <td>Third</td>\n",
       "      <td>man</td>\n",
       "      <td>True</td>\n",
       "      <td>NaN</td>\n",
       "      <td>Southampton</td>\n",
       "      <td>no</td>\n",
       "      <td>True</td>\n",
       "    </tr>\n",
       "  </tbody>\n",
       "</table>\n",
       "</div>"
      ],
      "text/plain": [
       "   survived  pclass     sex   age  sibsp  parch     fare embarked  class  \\\n",
       "0         0       3    male  22.0      1      0   7.2500        S  Third   \n",
       "1         1       1  female  38.0      1      0  71.2833        C  First   \n",
       "2         1       3  female  26.0      0      0   7.9250        S  Third   \n",
       "3         1       1  female  35.0      1      0  53.1000        S  First   \n",
       "4         0       3    male  35.0      0      0   8.0500        S  Third   \n",
       "\n",
       "     who  adult_male deck  embark_town alive  alone  \n",
       "0    man        True  NaN  Southampton    no  False  \n",
       "1  woman       False    C    Cherbourg   yes  False  \n",
       "2  woman       False  NaN  Southampton   yes   True  \n",
       "3  woman       False    C  Southampton   yes  False  \n",
       "4    man        True  NaN  Southampton    no   True  "
      ]
     },
     "execution_count": 25,
     "metadata": {},
     "output_type": "execute_result"
    }
   ],
   "source": [
    "df.head()"
   ]
  },
  {
   "cell_type": "code",
   "execution_count": 28,
   "id": "f034330e",
   "metadata": {},
   "outputs": [
    {
     "data": {
      "text/html": [
       "<div>\n",
       "<style scoped>\n",
       "    .dataframe tbody tr th:only-of-type {\n",
       "        vertical-align: middle;\n",
       "    }\n",
       "\n",
       "    .dataframe tbody tr th {\n",
       "        vertical-align: top;\n",
       "    }\n",
       "\n",
       "    .dataframe thead th {\n",
       "        text-align: right;\n",
       "    }\n",
       "</style>\n",
       "<table border=\"1\" class=\"dataframe\">\n",
       "  <thead>\n",
       "    <tr style=\"text-align: right;\">\n",
       "      <th>survived</th>\n",
       "      <th>0</th>\n",
       "      <th>1</th>\n",
       "    </tr>\n",
       "    <tr>\n",
       "      <th>sex</th>\n",
       "      <th></th>\n",
       "      <th></th>\n",
       "    </tr>\n",
       "  </thead>\n",
       "  <tbody>\n",
       "    <tr>\n",
       "      <th>female</th>\n",
       "      <td>81</td>\n",
       "      <td>233</td>\n",
       "    </tr>\n",
       "    <tr>\n",
       "      <th>male</th>\n",
       "      <td>468</td>\n",
       "      <td>109</td>\n",
       "    </tr>\n",
       "  </tbody>\n",
       "</table>\n",
       "</div>"
      ],
      "text/plain": [
       "survived    0    1\n",
       "sex               \n",
       "female     81  233\n",
       "male      468  109"
      ]
     },
     "execution_count": 28,
     "metadata": {},
     "output_type": "execute_result"
    }
   ],
   "source": [
    "# pd.crosstab(index, columns)\n",
    "table = pd.crosstab(index = df['sex'], columns = df['survived'])\n",
    "table"
   ]
  },
  {
   "cell_type": "code",
   "execution_count": null,
   "id": "384eb61f",
   "metadata": {},
   "outputs": [],
   "source": [
    "# 1. 가설설정\n",
    "# H0 : 성별과 생존 여부는 서로 관련이 없다(두 변수는 서로 독립이다)\n",
    "# H1 : 성별과 생존 여부는 서로 관련이 있다(두 변수는 서로 독립이 아니다)"
   ]
  },
  {
   "cell_type": "code",
   "execution_count": 29,
   "id": "22c5e500",
   "metadata": {},
   "outputs": [
    {
     "name": "stdout",
     "output_type": "stream",
     "text": [
      "['ConstantInputWarning', 'Covariance', 'DegenerateDataWarning', 'FitError', 'NearConstantInputWarning', '__all__', '__builtins__', '__cached__', '__doc__', '__file__', '__loader__', '__name__', '__package__', '__path__', '__spec__', '_axis_nan_policy', '_biasedurn', '_binned_statistic', '_binomtest', '_boost', '_common', '_constants', '_continuous_distns', '_covariance', '_crosstab', '_discrete_distns', '_distn_infrastructure', '_distr_params', '_entropy', '_fit', '_hypotests', '_kde', '_ksstats', '_levy_stable', '_mannwhitneyu', '_morestats', '_mstats_basic', '_mstats_extras', '_multivariate', '_mvn', '_odds_ratio', '_page_trend_test', '_qmc', '_qmc_cy', '_rcont', '_relative_risk', '_resampling', '_rvs_sampling', '_sobol', '_statlib', '_stats', '_stats_mstats_common', '_stats_py', '_stats_pythran', '_tukeylambda_stats', '_variation', '_warnings_errors', 'alexandergovern', 'alpha', 'anderson', 'anderson_ksamp', 'anglit', 'ansari', 'arcsine', 'argus', 'barnard_exact', 'bartlett', 'bayes_mvs', 'bernoulli', 'beta', 'betabinom', 'betaprime', 'biasedurn', 'binned_statistic', 'binned_statistic_2d', 'binned_statistic_dd', 'binom', 'binom_test', 'binomtest', 'boltzmann', 'bootstrap', 'boschloo_exact', 'boxcox', 'boxcox_llf', 'boxcox_normmax', 'boxcox_normplot', 'bradford', 'brunnermunzel', 'burr', 'burr12', 'cauchy', 'chi', 'chi2', 'chi2_contingency', 'chisquare', 'circmean', 'circstd', 'circvar', 'combine_pvalues', 'contingency', 'cosine', 'cramervonmises', 'cramervonmises_2samp', 'crystalball', 'cumfreq', 'describe', 'dgamma', 'differential_entropy', 'directional_stats', 'dirichlet', 'distributions', 'dlaplace', 'dweibull', 'energy_distance', 'entropy', 'epps_singleton_2samp', 'erlang', 'expectile', 'expon', 'exponnorm', 'exponpow', 'exponweib', 'f', 'f_oneway', 'fatiguelife', 'find_repeats', 'fisher_exact', 'fisk', 'fit', 'fligner', 'foldcauchy', 'foldnorm', 'friedmanchisquare', 'gamma', 'gausshyper', 'gaussian_kde', 'genexpon', 'genextreme', 'gengamma', 'genhalflogistic', 'genhyperbolic', 'geninvgauss', 'genlogistic', 'gennorm', 'genpareto', 'geom', 'gibrat', 'gilbrat', 'gmean', 'gompertz', 'goodness_of_fit', 'gstd', 'gumbel_l', 'gumbel_r', 'gzscore', 'halfcauchy', 'halfgennorm', 'halflogistic', 'halfnorm', 'hmean', 'hypergeom', 'hypsecant', 'invgamma', 'invgauss', 'invweibull', 'invwishart', 'iqr', 'jarque_bera', 'johnsonsb', 'johnsonsu', 'kappa3', 'kappa4', 'kde', 'kendalltau', 'kruskal', 'ks_1samp', 'ks_2samp', 'ksone', 'kstat', 'kstatvar', 'kstest', 'kstwo', 'kstwobign', 'kurtosis', 'kurtosistest', 'laplace', 'laplace_asymmetric', 'levene', 'levy', 'levy_l', 'levy_stable', 'linregress', 'loggamma', 'logistic', 'loglaplace', 'lognorm', 'logser', 'loguniform', 'lomax', 'mannwhitneyu', 'matrix_normal', 'maxwell', 'median_abs_deviation', 'median_test', 'mielke', 'mode', 'moment', 'monte_carlo_test', 'mood', 'morestats', 'moyal', 'mstats', 'mstats_basic', 'mstats_extras', 'multinomial', 'multiscale_graphcorr', 'multivariate_hypergeom', 'multivariate_normal', 'multivariate_t', 'mvn', 'mvsdist', 'nakagami', 'nbinom', 'ncf', 'nchypergeom_fisher', 'nchypergeom_wallenius', 'nct', 'ncx2', 'nhypergeom', 'norm', 'normaltest', 'norminvgauss', 'obrientransform', 'ortho_group', 'page_trend_test', 'pareto', 'pearson3', 'pearsonr', 'percentileofscore', 'permutation_test', 'planck', 'pmean', 'pointbiserialr', 'poisson', 'poisson_means_test', 'power_divergence', 'powerlaw', 'powerlognorm', 'powernorm', 'ppcc_max', 'ppcc_plot', 'probplot', 'qmc', 'randint', 'random_correlation', 'random_table', 'rankdata', 'ranksums', 'rayleigh', 'rdist', 'recipinvgauss', 'reciprocal', 'relfreq', 'rice', 'rv_continuous', 'rv_discrete', 'rv_histogram', 'rvs_ratio_uniforms', 'scoreatpercentile', 'sem', 'semicircular', 'shapiro', 'siegelslopes', 'sigmaclip', 'skellam', 'skew', 'skewcauchy', 'skewnorm', 'skewtest', 'somersd', 'spearmanr', 'special_ortho_group', 'statlib', 'stats', 'studentized_range', 't', 'test', 'theilslopes', 'tiecorrect', 'tmax', 'tmean', 'tmin', 'trapezoid', 'trapz', 'triang', 'trim1', 'trim_mean', 'trimboth', 'truncexpon', 'truncnorm', 'truncpareto', 'truncweibull_min', 'tsem', 'tstd', 'ttest_1samp', 'ttest_ind', 'ttest_ind_from_stats', 'ttest_rel', 'tukey_hsd', 'tukeylambda', 'tvar', 'uniform', 'uniform_direction', 'unitary_group', 'variation', 'vonmises', 'vonmises_line', 'wald', 'wasserstein_distance', 'weibull_max', 'weibull_min', 'weightedtau', 'wilcoxon', 'wishart', 'wrapcauchy', 'yeojohnson', 'yeojohnson_llf', 'yeojohnson_normmax', 'yeojohnson_normplot', 'yulesimon', 'zipf', 'zipfian', 'zmap', 'zscore']\n"
     ]
    }
   ],
   "source": [
    "# 2. 유의수준 확인 : 유의수준 5%로 확인\n",
    "import scipy.stats as stats\n",
    "print(dir(stats))"
   ]
  },
  {
   "cell_type": "code",
   "execution_count": 31,
   "id": "a2014dbb",
   "metadata": {},
   "outputs": [
    {
     "name": "stdout",
     "output_type": "stream",
     "text": [
      "260.71702016732104\n",
      "1.1973570627755645e-58\n",
      "1\n",
      "[[193.47 120.53]\n",
      " [355.53 221.47]]\n"
     ]
    }
   ],
   "source": [
    "# 3. 검정실시(통계량, p-value, 기대빈도 확인)\n",
    "from scipy.stats import chi2_contingency\n",
    "# 위와 같이 교차표 만들어서 입력\n",
    "statistic, pvalue, dof, expected = chi2_contingency(table)\n",
    "# 공식문서상에 : statistic(통계량), pvalue, dof(자유도), expected_freq(기대빈도)\n",
    "print(statistic)\n",
    "print(pvalue)\n",
    "print(dof)\n",
    "print(np.round(expected, 2))"
   ]
  },
  {
   "cell_type": "code",
   "execution_count": null,
   "id": "6bb321ef",
   "metadata": {},
   "outputs": [],
   "source": [
    "# 4. 귀무가설 기각여부 결정(채택/기각)\n",
    "# p-value 값이 0.05보다 작기 때문에 귀무가설을 기각한다.\n",
    "# 즉, 성별과 생존여부는 서로 관련이 있다고 할 수 있다.\n",
    "\n",
    "# 답 : 기각"
   ]
  },
  {
   "cell_type": "markdown",
   "id": "3953cef1",
   "metadata": {},
   "source": [
    "\\* 데이터를 변경해보면서 이해해봅시다."
   ]
  },
  {
   "cell_type": "code",
   "execution_count": 32,
   "id": "f284dd4b",
   "metadata": {},
   "outputs": [
    {
     "name": "stdout",
     "output_type": "stream",
     "text": [
      "          0    1\n",
      "female  160  160\n",
      "male    250  220\n"
     ]
    }
   ],
   "source": [
    "# 임의 데이터 생성\n",
    "sex, survived = [160, 160], [250, 220]\n",
    "table = pd.DataFrame([sex, survived], columns=['0','1'], index=['female', 'male'])\n",
    "print(table)"
   ]
  },
  {
   "cell_type": "code",
   "execution_count": 33,
   "id": "9c89652e",
   "metadata": {},
   "outputs": [
    {
     "name": "stdout",
     "output_type": "stream",
     "text": [
      "0.6541895872879862\n",
      "0.41861876333789727\n",
      "1\n",
      "[[166.08 153.92]\n",
      " [243.92 226.08]]\n"
     ]
    }
   ],
   "source": [
    "# 3. 검정실시(통계량, p-value, 기대빈도 확인)\n",
    "from scipy.stats import chi2_contingency\n",
    "# 위와 같이 교차표 만들어서 입력\n",
    "statistic, pvalue, dof, expected = chi2_contingency(table)\n",
    "# 공식문서상에 : statistic(통계량), pvalue, dof(자유도), expected_freq(기대빈도)\n",
    "print(statistic)\n",
    "print(pvalue)\n",
    "print(dof)\n",
    "print(np.round(expected, 2))"
   ]
  },
  {
   "cell_type": "code",
   "execution_count": null,
   "id": "cc2905d1",
   "metadata": {},
   "outputs": [],
   "source": [
    "# 4. 귀무가설 기각여부 결정(채택/기각)\n",
    "# p-value 값이 0.05보다 크기 때문에 귀무가설을 채택한다.\n",
    "# 즉, 성별과 생존여부는 서로 관련이 없다고 할 수 있다.\n",
    "# 답 : 채택"
   ]
  }
 ],
 "metadata": {
  "kernelspec": {
   "display_name": "Python 3 (ipykernel)",
   "language": "python",
   "name": "python3"
  },
  "language_info": {
   "codemirror_mode": {
    "name": "ipython",
    "version": 3
   },
   "file_extension": ".py",
   "mimetype": "text/x-python",
   "name": "python",
   "nbconvert_exporter": "python",
   "pygments_lexer": "ipython3",
   "version": "3.10.9"
  }
 },
 "nbformat": 4,
 "nbformat_minor": 5
}
